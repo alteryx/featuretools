{
 "cells": [
  {
   "cell_type": "code",
   "execution_count": 25,
   "metadata": {},
   "outputs": [],
   "source": [
    "import math\n",
    "import psutil\n",
    "from datetime import datetime\n",
    "\n",
    "import dask.dataframe as dd\n",
    "import numpy as np\n",
    "import pandas as pd\n",
    "from dask.distributed import Client\n",
    "\n",
    "import featuretools as ft\n",
    "import featuretools.variable_types as vtypes\n",
    "\n",
    "from tqdm import tqdm"
   ]
  },
  {
   "cell_type": "code",
   "execution_count": 26,
   "metadata": {},
   "outputs": [
    {
     "name": "stdout",
     "output_type": "stream",
     "text": [
      "Available Memory: 7882.99776 Mb\n"
     ]
    },
    {
     "data": {
      "text/html": [
       "<table style=\"border: 2px solid white;\">\n",
       "<tr>\n",
       "<td style=\"vertical-align: top; border: 0px solid white\">\n",
       "<h3 style=\"text-align: left;\">Client</h3>\n",
       "<ul style=\"text-align: left; list-style: none; margin: 0; padding: 0;\">\n",
       "  <li><b>Scheduler: </b>tcp://127.0.0.1:50254</li>\n",
       "  <li><b>Dashboard: </b><a href='http://127.0.0.1:8787/status' target='_blank'>http://127.0.0.1:8787/status</a>\n",
       "</ul>\n",
       "</td>\n",
       "<td style=\"vertical-align: top; border: 0px solid white\">\n",
       "<h3 style=\"text-align: left;\">Cluster</h3>\n",
       "<ul style=\"text-align: left; list-style:none; margin: 0; padding: 0;\">\n",
       "  <li><b>Workers: </b>4</li>\n",
       "  <li><b>Cores: </b>16</li>\n",
       "  <li><b>Memory: </b>17.18 GB</li>\n",
       "</ul>\n",
       "</td>\n",
       "</tr>\n",
       "</table>"
      ],
      "text/plain": [
       "<Client: 'tcp://127.0.0.1:50254' processes=4 threads=16, memory=17.18 GB>"
      ]
     },
     "execution_count": 26,
     "metadata": {},
     "output_type": "execute_result"
    }
   ],
   "source": [
    "print(\"Available Memory: {} Mb\".format(psutil.virtual_memory().available / 1000000))\n",
    "try:\n",
    "    client.close()\n",
    "except:\n",
    "    pass\n",
    "client = Client()\n",
    "client"
   ]
  },
  {
   "cell_type": "code",
   "execution_count": 27,
   "metadata": {},
   "outputs": [
    {
     "name": "stdout",
     "output_type": "stream",
     "text": [
      "Reading raw data...\n",
      "CPU times: user 231 ms, sys: 43.9 ms, total: 275 ms\n",
      "Wall time: 302 ms\n"
     ]
    }
   ],
   "source": [
    "%%time\n",
    "print(\"Reading raw data...\")\n",
    "blocksize = \"40MB\"\n",
    "# Read in the datasets and replace the anomalous values\n",
    "app_train = dd.read_csv('data/home-credit-default-risk/application_train.csv', blocksize=blocksize).replace({365243: np.nan})\n",
    "app_test = dd.read_csv('data/home-credit-default-risk/application_test.csv', blocksize=blocksize).replace({365243: np.nan})\n",
    "bureau = dd.read_csv('data/home-credit-default-risk/bureau.csv', blocksize=blocksize).replace({365243: np.nan})\n",
    "bureau_balance = dd.read_csv('data/home-credit-default-risk/bureau_balance.csv', blocksize=blocksize).replace({365243: np.nan})\n",
    "cash = dd.read_csv('data/home-credit-default-risk/POS_CASH_balance.csv', blocksize=blocksize).replace({365243: np.nan})\n",
    "credit = dd.read_csv('data/home-credit-default-risk/credit_card_balance.csv', blocksize=blocksize).replace({365243: np.nan})\n",
    "previous = dd.read_csv('data/home-credit-default-risk/previous_application.csv', blocksize=blocksize).replace({365243: np.nan})\n",
    "installments = dd.read_csv('data/home-credit-default-risk/installments_payments.csv', blocksize=blocksize).replace({365243: np.nan})"
   ]
  },
  {
   "cell_type": "code",
   "execution_count": 28,
   "metadata": {
    "scrolled": true
   },
   "outputs": [
    {
     "name": "stdout",
     "output_type": "stream",
     "text": [
      "Preparing data...\n",
      "CPU times: user 265 ms, sys: 14.3 ms, total: 279 ms\n",
      "Wall time: 283 ms\n"
     ]
    }
   ],
   "source": [
    "%%time\n",
    "print(\"Preparing data...\")\n",
    "app_test['TARGET'] = np.nan\n",
    "app = app_train.append(app_test[app_train.columns])\n",
    "\n",
    "for index in ['SK_ID_CURR', 'SK_ID_PREV', 'SK_ID_BUREAU']:\n",
    "    for dataset in [app, bureau, bureau_balance, cash, credit, previous, installments]:\n",
    "        if index in list(dataset.columns):\n",
    "            dataset[index] = dataset[index].fillna(0).astype(np.int64)\n",
    "\n",
    "es = ft.EntitySet(id='clients')\n",
    "\n",
    "installments = installments.drop(columns=['SK_ID_CURR'])\n",
    "credit = credit.drop(columns=['SK_ID_CURR'])\n",
    "cash = cash.drop(columns=['SK_ID_CURR'])"
   ]
  },
  {
   "cell_type": "code",
   "execution_count": 29,
   "metadata": {},
   "outputs": [],
   "source": [
    "app_vtypes = {\n",
    "    'SK_ID_CURR': ft.variable_types.variable.Index,\n",
    "    'AMT_ANNUITY': ft.variable_types.variable.Numeric,\n",
    "    'AMT_CREDIT': ft.variable_types.variable.Numeric,\n",
    "    'AMT_GOODS_PRICE': ft.variable_types.variable.Numeric,\n",
    "    'AMT_INCOME_TOTAL': ft.variable_types.variable.Numeric,\n",
    "    'AMT_REQ_CREDIT_BUREAU_DAY': ft.variable_types.variable.Numeric,\n",
    "    'AMT_REQ_CREDIT_BUREAU_HOUR': ft.variable_types.variable.Numeric,\n",
    "    'AMT_REQ_CREDIT_BUREAU_MON': ft.variable_types.variable.Numeric,\n",
    "    'AMT_REQ_CREDIT_BUREAU_QRT': ft.variable_types.variable.Numeric,\n",
    "    'AMT_REQ_CREDIT_BUREAU_WEEK': ft.variable_types.variable.Numeric,\n",
    "    'AMT_REQ_CREDIT_BUREAU_YEAR': ft.variable_types.variable.Numeric,\n",
    "    'APARTMENTS_AVG': ft.variable_types.variable.Numeric,\n",
    "    'APARTMENTS_MEDI': ft.variable_types.variable.Numeric,\n",
    "    'APARTMENTS_MODE': ft.variable_types.variable.Numeric,\n",
    "    'BASEMENTAREA_AVG': ft.variable_types.variable.Numeric,\n",
    "    'BASEMENTAREA_MEDI': ft.variable_types.variable.Numeric,\n",
    "    'BASEMENTAREA_MODE': ft.variable_types.variable.Numeric,\n",
    "    'CNT_CHILDREN': ft.variable_types.variable.Numeric,\n",
    "    'CNT_FAM_MEMBERS': ft.variable_types.variable.Numeric,\n",
    "    'CODE_GENDER': ft.variable_types.variable.Categorical,\n",
    "    'COMMONAREA_AVG': ft.variable_types.variable.Numeric,\n",
    "    'COMMONAREA_MEDI': ft.variable_types.variable.Numeric,\n",
    "    'COMMONAREA_MODE': ft.variable_types.variable.Numeric,\n",
    "    'DAYS_BIRTH': ft.variable_types.variable.Numeric,\n",
    "    'DAYS_EMPLOYED': ft.variable_types.variable.Numeric,\n",
    "    'DAYS_ID_PUBLISH': ft.variable_types.variable.Numeric,\n",
    "    'DAYS_LAST_PHONE_CHANGE': ft.variable_types.variable.Numeric,\n",
    "    'DAYS_REGISTRATION': ft.variable_types.variable.Numeric,\n",
    "    'DEF_30_CNT_SOCIAL_CIRCLE': ft.variable_types.variable.Numeric,\n",
    "    'DEF_60_CNT_SOCIAL_CIRCLE': ft.variable_types.variable.Numeric,\n",
    "    'ELEVATORS_AVG': ft.variable_types.variable.Numeric,\n",
    "    'ELEVATORS_MEDI': ft.variable_types.variable.Numeric,\n",
    "    'ELEVATORS_MODE': ft.variable_types.variable.Numeric,\n",
    "    'EMERGENCYSTATE_MODE': ft.variable_types.variable.Categorical,\n",
    "    'ENTRANCES_AVG': ft.variable_types.variable.Numeric,\n",
    "    'ENTRANCES_MEDI': ft.variable_types.variable.Numeric,\n",
    "    'ENTRANCES_MODE': ft.variable_types.variable.Numeric,\n",
    "    'EXT_SOURCE_1': ft.variable_types.variable.Numeric,\n",
    "    'EXT_SOURCE_2': ft.variable_types.variable.Numeric,\n",
    "    'EXT_SOURCE_3': ft.variable_types.variable.Numeric,\n",
    "    'FLAG_CONT_MOBILE': ft.variable_types.variable.Boolean,\n",
    "    'FLAG_DOCUMENT_10': ft.variable_types.variable.Boolean,\n",
    "    'FLAG_DOCUMENT_11': ft.variable_types.variable.Boolean,\n",
    "    'FLAG_DOCUMENT_12': ft.variable_types.variable.Boolean,\n",
    "    'FLAG_DOCUMENT_13': ft.variable_types.variable.Boolean,\n",
    "    'FLAG_DOCUMENT_14': ft.variable_types.variable.Boolean,\n",
    "    'FLAG_DOCUMENT_15': ft.variable_types.variable.Boolean,\n",
    "    'FLAG_DOCUMENT_16': ft.variable_types.variable.Boolean,\n",
    "    'FLAG_DOCUMENT_17': ft.variable_types.variable.Boolean,\n",
    "    'FLAG_DOCUMENT_18': ft.variable_types.variable.Boolean,\n",
    "    'FLAG_DOCUMENT_19': ft.variable_types.variable.Boolean,\n",
    "    'FLAG_DOCUMENT_2': ft.variable_types.variable.Boolean,\n",
    "    'FLAG_DOCUMENT_20': ft.variable_types.variable.Boolean,\n",
    "    'FLAG_DOCUMENT_21': ft.variable_types.variable.Boolean,\n",
    "    'FLAG_DOCUMENT_3': ft.variable_types.variable.Boolean,\n",
    "    'FLAG_DOCUMENT_4': ft.variable_types.variable.Boolean,\n",
    "    'FLAG_DOCUMENT_5': ft.variable_types.variable.Boolean,\n",
    "    'FLAG_DOCUMENT_6': ft.variable_types.variable.Boolean,\n",
    "    'FLAG_DOCUMENT_7': ft.variable_types.variable.Boolean,\n",
    "    'FLAG_DOCUMENT_8': ft.variable_types.variable.Boolean,\n",
    "    'FLAG_DOCUMENT_9': ft.variable_types.variable.Boolean,\n",
    "    'FLAG_EMAIL': ft.variable_types.variable.Boolean,\n",
    "    'FLAG_EMP_PHONE': ft.variable_types.variable.Boolean,\n",
    "    'FLAG_MOBIL': ft.variable_types.variable.Boolean,\n",
    "    'FLAG_OWN_CAR': ft.variable_types.variable.Categorical,\n",
    "    'FLAG_OWN_REALTY': ft.variable_types.variable.Categorical,\n",
    "    'FLAG_PHONE': ft.variable_types.variable.Boolean,\n",
    "    'FLAG_WORK_PHONE': ft.variable_types.variable.Boolean,\n",
    "    'FLOORSMAX_AVG': ft.variable_types.variable.Numeric,\n",
    "    'FLOORSMAX_MEDI': ft.variable_types.variable.Numeric,\n",
    "    'FLOORSMAX_MODE': ft.variable_types.variable.Numeric,\n",
    "    'FLOORSMIN_AVG': ft.variable_types.variable.Numeric,\n",
    "    'FLOORSMIN_MEDI': ft.variable_types.variable.Numeric,\n",
    "    'FLOORSMIN_MODE': ft.variable_types.variable.Numeric,\n",
    "    'FONDKAPREMONT_MODE': ft.variable_types.variable.Categorical,\n",
    "    'HOUR_APPR_PROCESS_START': ft.variable_types.variable.Numeric,\n",
    "    'HOUSETYPE_MODE': ft.variable_types.variable.Categorical,\n",
    "    'LANDAREA_AVG': ft.variable_types.variable.Numeric,\n",
    "    'LANDAREA_MEDI': ft.variable_types.variable.Numeric,\n",
    "    'LANDAREA_MODE': ft.variable_types.variable.Numeric,\n",
    "    'LIVE_CITY_NOT_WORK_CITY': ft.variable_types.variable.Boolean,\n",
    "    'LIVE_REGION_NOT_WORK_REGION': ft.variable_types.variable.Boolean,\n",
    "    'LIVINGAPARTMENTS_AVG': ft.variable_types.variable.Numeric,\n",
    "    'LIVINGAPARTMENTS_MEDI': ft.variable_types.variable.Numeric,\n",
    "    'LIVINGAPARTMENTS_MODE': ft.variable_types.variable.Numeric,\n",
    "    'LIVINGAREA_AVG': ft.variable_types.variable.Numeric,\n",
    "    'LIVINGAREA_MEDI': ft.variable_types.variable.Numeric,\n",
    "    'LIVINGAREA_MODE': ft.variable_types.variable.Numeric,\n",
    "    'NAME_CONTRACT_TYPE': ft.variable_types.variable.Categorical,\n",
    "    'NAME_EDUCATION_TYPE': ft.variable_types.variable.Categorical,\n",
    "    'NAME_FAMILY_STATUS': ft.variable_types.variable.Categorical,\n",
    "    'NAME_HOUSING_TYPE': ft.variable_types.variable.Categorical,\n",
    "    'NAME_INCOME_TYPE': ft.variable_types.variable.Categorical,\n",
    "    'NAME_TYPE_SUITE': ft.variable_types.variable.Categorical,\n",
    "    'NONLIVINGAPARTMENTS_AVG': ft.variable_types.variable.Numeric,\n",
    "    'NONLIVINGAPARTMENTS_MEDI': ft.variable_types.variable.Numeric,\n",
    "    'NONLIVINGAPARTMENTS_MODE': ft.variable_types.variable.Numeric,\n",
    "    'NONLIVINGAREA_AVG': ft.variable_types.variable.Numeric,\n",
    "    'NONLIVINGAREA_MEDI': ft.variable_types.variable.Numeric,\n",
    "    'NONLIVINGAREA_MODE': ft.variable_types.variable.Numeric,\n",
    "    'OBS_30_CNT_SOCIAL_CIRCLE': ft.variable_types.variable.Numeric,\n",
    "    'OBS_60_CNT_SOCIAL_CIRCLE': ft.variable_types.variable.Numeric,\n",
    "    'OCCUPATION_TYPE': ft.variable_types.variable.Categorical,\n",
    "    'ORGANIZATION_TYPE': ft.variable_types.variable.Categorical,\n",
    "    'OWN_CAR_AGE': ft.variable_types.variable.Numeric,\n",
    "    'REGION_POPULATION_RELATIVE': ft.variable_types.variable.Numeric,\n",
    "    'REGION_RATING_CLIENT': ft.variable_types.variable.Numeric,\n",
    "    'REGION_RATING_CLIENT_W_CITY': ft.variable_types.variable.Numeric,\n",
    "    'REG_CITY_NOT_LIVE_CITY': ft.variable_types.variable.Boolean,\n",
    "    'REG_CITY_NOT_WORK_CITY': ft.variable_types.variable.Boolean,\n",
    "    'REG_REGION_NOT_LIVE_REGION': ft.variable_types.variable.Boolean,\n",
    "    'REG_REGION_NOT_WORK_REGION': ft.variable_types.variable.Boolean,\n",
    "    'TARGET': ft.variable_types.variable.Numeric,\n",
    "    'TOTALAREA_MODE': ft.variable_types.variable.Numeric,\n",
    "    'WALLSMATERIAL_MODE': ft.variable_types.variable.Categorical,\n",
    "    'WEEKDAY_APPR_PROCESS_START': ft.variable_types.variable.Categorical,\n",
    "    'YEARS_BEGINEXPLUATATION_AVG': ft.variable_types.variable.Numeric,\n",
    "    'YEARS_BEGINEXPLUATATION_MEDI': ft.variable_types.variable.Numeric,\n",
    "    'YEARS_BEGINEXPLUATATION_MODE': ft.variable_types.variable.Numeric,\n",
    "    'YEARS_BUILD_AVG': ft.variable_types.variable.Numeric,\n",
    "    'YEARS_BUILD_MEDI': ft.variable_types.variable.Numeric,\n",
    "    'YEARS_BUILD_MODE': ft.variable_types.variable.Numeric\n",
    "}\n",
    "\n",
    "bureau_vtypes = {\n",
    "    'SK_ID_BUREAU': ft.variable_types.variable.Index,\n",
    "    'SK_ID_CURR': ft.variable_types.variable.Id,\n",
    "    'CREDIT_ACTIVE': ft.variable_types.variable.Categorical,\n",
    "    'CREDIT_CURRENCY': ft.variable_types.variable.Categorical,\n",
    "    'DAYS_CREDIT': ft.variable_types.variable.Numeric,\n",
    "    'CREDIT_DAY_OVERDUE': ft.variable_types.variable.Numeric,\n",
    "    'DAYS_CREDIT_ENDDATE': ft.variable_types.variable.Numeric,\n",
    "    'DAYS_ENDDATE_FACT': ft.variable_types.variable.Numeric,\n",
    "    'AMT_CREDIT_MAX_OVERDUE': ft.variable_types.variable.Numeric,\n",
    "    'CNT_CREDIT_PROLONG': ft.variable_types.variable.Numeric,\n",
    "    'AMT_CREDIT_SUM': ft.variable_types.variable.Numeric,\n",
    "    'AMT_CREDIT_SUM_DEBT': ft.variable_types.variable.Numeric,\n",
    "    'AMT_CREDIT_SUM_LIMIT': ft.variable_types.variable.Numeric,\n",
    "    'AMT_CREDIT_SUM_OVERDUE': ft.variable_types.variable.Numeric,\n",
    "    'CREDIT_TYPE': ft.variable_types.variable.Categorical,\n",
    "    'DAYS_CREDIT_UPDATE': ft.variable_types.variable.Numeric,\n",
    "    'AMT_ANNUITY': ft.variable_types.variable.Numeric\n",
    "}\n",
    "\n",
    "previous_vtypes = {\n",
    "    'SK_ID_PREV': ft.variable_types.variable.Index,\n",
    "    'SK_ID_CURR': ft.variable_types.variable.Id,\n",
    "    'NAME_CONTRACT_TYPE': ft.variable_types.variable.Categorical,\n",
    "    'AMT_ANNUITY': ft.variable_types.variable.Numeric,\n",
    "    'AMT_APPLICATION': ft.variable_types.variable.Numeric,\n",
    "    'AMT_CREDIT': ft.variable_types.variable.Numeric,\n",
    "    'AMT_DOWN_PAYMENT': ft.variable_types.variable.Numeric,\n",
    "    'AMT_GOODS_PRICE': ft.variable_types.variable.Numeric,\n",
    "    'WEEKDAY_APPR_PROCESS_START': ft.variable_types.variable.Categorical,\n",
    "    'HOUR_APPR_PROCESS_START': ft.variable_types.variable.Numeric,\n",
    "    'FLAG_LAST_APPL_PER_CONTRACT': ft.variable_types.variable.Categorical,\n",
    "    'NFLAG_LAST_APPL_IN_DAY': ft.variable_types.variable.Boolean,\n",
    "    'RATE_DOWN_PAYMENT': ft.variable_types.variable.Numeric,\n",
    "    'RATE_INTEREST_PRIMARY': ft.variable_types.variable.Numeric,\n",
    "    'RATE_INTEREST_PRIVILEGED': ft.variable_types.variable.Numeric,\n",
    "    'NAME_CASH_LOAN_PURPOSE': ft.variable_types.variable.Categorical,\n",
    "    'NAME_CONTRACT_STATUS': ft.variable_types.variable.Categorical,\n",
    "    'DAYS_DECISION': ft.variable_types.variable.Numeric,\n",
    "    'NAME_PAYMENT_TYPE': ft.variable_types.variable.Categorical,\n",
    "    'CODE_REJECT_REASON': ft.variable_types.variable.Categorical,\n",
    "    'NAME_TYPE_SUITE': ft.variable_types.variable.Categorical,\n",
    "    'NAME_CLIENT_TYPE': ft.variable_types.variable.Categorical,\n",
    "    'NAME_GOODS_CATEGORY': ft.variable_types.variable.Categorical,\n",
    "    'NAME_PORTFOLIO': ft.variable_types.variable.Categorical,\n",
    "    'NAME_PRODUCT_TYPE': ft.variable_types.variable.Categorical,\n",
    "    'CHANNEL_TYPE': ft.variable_types.variable.Categorical,\n",
    "    'SELLERPLACE_AREA': ft.variable_types.variable.Numeric,\n",
    "    'NAME_SELLER_INDUSTRY': ft.variable_types.variable.Categorical,\n",
    "    'CNT_PAYMENT': ft.variable_types.variable.Numeric,\n",
    "    'NAME_YIELD_GROUP': ft.variable_types.variable.Categorical,\n",
    "    'PRODUCT_COMBINATION': ft.variable_types.variable.Categorical,\n",
    "    'DAYS_FIRST_DRAWING': ft.variable_types.variable.Numeric,\n",
    "    'DAYS_FIRST_DUE': ft.variable_types.variable.Numeric,\n",
    "    'DAYS_LAST_DUE_1ST_VERSION': ft.variable_types.variable.Numeric,\n",
    "    'DAYS_LAST_DUE': ft.variable_types.variable.Numeric,\n",
    "    'DAYS_TERMINATION': ft.variable_types.variable.Numeric,\n",
    "    'NFLAG_INSURED_ON_APPROVAL': ft.variable_types.variable.Numeric\n",
    "}\n",
    "\n",
    "bureau_balance_vtypes = {\n",
    "    'bureaubalance_index': ft.variable_types.variable.Index,\n",
    "    'SK_ID_BUREAU': ft.variable_types.variable.Id,\n",
    "    'MONTHS_BALANCE': ft.variable_types.variable.Numeric,\n",
    "    'STATUS': ft.variable_types.variable.Categorical\n",
    "}\n",
    "\n",
    "cash_vtypes = {\n",
    "    'cash_index': ft.variable_types.variable.Index,\n",
    "    'SK_ID_PREV': ft.variable_types.variable.Id,\n",
    "    'MONTHS_BALANCE': ft.variable_types.variable.Numeric,\n",
    "    'CNT_INSTALMENT': ft.variable_types.variable.Numeric,\n",
    "    'CNT_INSTALMENT_FUTURE': ft.variable_types.variable.Numeric,\n",
    "    'NAME_CONTRACT_STATUS': ft.variable_types.variable.Categorical,\n",
    "    'SK_DPD': ft.variable_types.variable.Numeric,\n",
    "    'SK_DPD_DEF': ft.variable_types.variable.Numeric\n",
    "}\n",
    "\n",
    "installments_vtypes = {\n",
    "    'installments_index': ft.variable_types.variable.Index,\n",
    "    'SK_ID_PREV': ft.variable_types.variable.Id,\n",
    "    'NUM_INSTALMENT_VERSION': ft.variable_types.variable.Numeric,\n",
    "    'NUM_INSTALMENT_NUMBER': ft.variable_types.variable.Numeric,\n",
    "    'DAYS_INSTALMENT': ft.variable_types.variable.Numeric,\n",
    "    'DAYS_ENTRY_PAYMENT': ft.variable_types.variable.Numeric,\n",
    "    'AMT_INSTALMENT': ft.variable_types.variable.Numeric,\n",
    "    'AMT_PAYMENT': ft.variable_types.variable.Numeric\n",
    "}\n",
    "\n",
    "credit_vtypes = {\n",
    "    'credit_index': ft.variable_types.variable.Index,\n",
    "    'SK_ID_PREV': ft.variable_types.variable.Id,\n",
    "    'MONTHS_BALANCE': ft.variable_types.variable.Numeric,\n",
    "    'AMT_BALANCE': ft.variable_types.variable.Numeric,\n",
    "    'AMT_CREDIT_LIMIT_ACTUAL': ft.variable_types.variable.Numeric,\n",
    "    'AMT_DRAWINGS_ATM_CURRENT': ft.variable_types.variable.Numeric,\n",
    "    'AMT_DRAWINGS_CURRENT': ft.variable_types.variable.Numeric,\n",
    "    'AMT_DRAWINGS_OTHER_CURRENT': ft.variable_types.variable.Numeric,\n",
    "    'AMT_DRAWINGS_POS_CURRENT': ft.variable_types.variable.Numeric,\n",
    "    'AMT_INST_MIN_REGULARITY': ft.variable_types.variable.Numeric,\n",
    "    'AMT_PAYMENT_CURRENT': ft.variable_types.variable.Numeric,\n",
    "    'AMT_PAYMENT_TOTAL_CURRENT': ft.variable_types.variable.Numeric,\n",
    "    'AMT_RECEIVABLE_PRINCIPAL': ft.variable_types.variable.Numeric,\n",
    "    'AMT_RECIVABLE': ft.variable_types.variable.Numeric,\n",
    "    'AMT_TOTAL_RECEIVABLE': ft.variable_types.variable.Numeric,\n",
    "    'CNT_DRAWINGS_ATM_CURRENT': ft.variable_types.variable.Numeric,\n",
    "    'CNT_DRAWINGS_CURRENT': ft.variable_types.variable.Numeric,\n",
    "    'CNT_DRAWINGS_OTHER_CURRENT': ft.variable_types.variable.Numeric,\n",
    "    'CNT_DRAWINGS_POS_CURRENT': ft.variable_types.variable.Numeric,\n",
    "    'CNT_INSTALMENT_MATURE_CUM': ft.variable_types.variable.Numeric,\n",
    "    'NAME_CONTRACT_STATUS': ft.variable_types.variable.Categorical,\n",
    "    'SK_DPD': ft.variable_types.variable.Numeric,\n",
    "    'SK_DPD_DEF': ft.variable_types.variable.Numeric\n",
    "}"
   ]
  },
  {
   "cell_type": "code",
   "execution_count": 30,
   "metadata": {
    "scrolled": true
   },
   "outputs": [
    {
     "name": "stdout",
     "output_type": "stream",
     "text": [
      "Creating entityset...\n",
      "Adding relationships...\n",
      "Entityset: clients\n",
      "  Entities:\n",
      "    app [Rows: Delayed('int-f0a2fa9a-46e7-48ab-98dc-e5cce95394e6'), Columns: 122]\n",
      "    bureau [Rows: Delayed('int-fb73e688-ecc6-4564-902c-f8db72858cb7'), Columns: 17]\n",
      "    previous [Rows: Delayed('int-db9ad8ca-bcbd-497e-b548-e6cfe8a72ee8'), Columns: 37]\n",
      "    bureau_balance [Rows: Delayed('int-d72769fb-4e84-4f03-82ba-285790339634'), Columns: 4]\n",
      "    cash [Rows: Delayed('int-e841d30a-239a-47b6-acdf-a02f46ec581a'), Columns: 8]\n",
      "    installments [Rows: Delayed('int-51d2d83a-7849-4c1d-b664-3bc6bf22baaf'), Columns: 8]\n",
      "    credit [Rows: Delayed('int-3d362c09-8a68-4eac-9366-1eb92abb1a5f'), Columns: 23]\n",
      "  Relationships:\n",
      "    bureau.SK_ID_CURR -> app.SK_ID_CURR\n",
      "    bureau_balance.SK_ID_BUREAU -> bureau.SK_ID_BUREAU\n",
      "    previous.SK_ID_CURR -> app.SK_ID_CURR\n",
      "    cash.SK_ID_PREV -> previous.SK_ID_PREV\n",
      "    installments.SK_ID_PREV -> previous.SK_ID_PREV\n",
      "    credit.SK_ID_PREV -> previous.SK_ID_PREV\n",
      "CPU times: user 151 ms, sys: 4.99 ms, total: 156 ms\n",
      "Wall time: 155 ms\n"
     ]
    }
   ],
   "source": [
    "%%time\n",
    "print(\"Creating entityset...\")\n",
    "# Entities with a unique index\n",
    "es = es.entity_from_dataframe(entity_id='app', dataframe=app, index='SK_ID_CURR',\n",
    "                              variable_types=app_vtypes)\n",
    "\n",
    "es = es.entity_from_dataframe(entity_id='bureau', dataframe=bureau, index='SK_ID_BUREAU',\n",
    "                              variable_types=bureau_vtypes)\n",
    "\n",
    "es = es.entity_from_dataframe(entity_id='previous', dataframe=previous, index='SK_ID_PREV',\n",
    "                              variable_types=previous_vtypes)\n",
    "\n",
    "# Entities that do not have a unique index\n",
    "es = es.entity_from_dataframe(entity_id='bureau_balance', dataframe=bureau_balance,\n",
    "                              make_index=True, index='bureaubalance_index',\n",
    "                              variable_types=bureau_balance_vtypes)\n",
    "\n",
    "es = es.entity_from_dataframe(entity_id='cash', dataframe=cash,\n",
    "                              make_index=True, index='cash_index',\n",
    "                              variable_types=cash_vtypes)\n",
    "\n",
    "es = es.entity_from_dataframe(entity_id='installments', dataframe=installments,\n",
    "                              make_index=True, index='installments_index',\n",
    "                              variable_types=installments_vtypes)\n",
    "\n",
    "es = es.entity_from_dataframe(entity_id='credit', dataframe=credit,\n",
    "                              make_index=True, index='credit_index',\n",
    "                              variable_types=credit_vtypes)\n",
    "\n",
    "print(\"Adding relationships...\")\n",
    "# Relationship between app_train and bureau\n",
    "r_app_bureau = ft.Relationship(es['app']['SK_ID_CURR'], es['bureau']['SK_ID_CURR'])\n",
    "\n",
    "# Relationship between bureau and bureau balance\n",
    "r_bureau_balance = ft.Relationship(es['bureau']['SK_ID_BUREAU'], es['bureau_balance']['SK_ID_BUREAU'])\n",
    "\n",
    "# Relationship between current app and previous apps\n",
    "r_app_previous = ft.Relationship(es['app']['SK_ID_CURR'], es['previous']['SK_ID_CURR'])\n",
    "\n",
    "# Relationships between previous apps and cash, installments, and credit\n",
    "r_previous_cash = ft.Relationship(es['previous']['SK_ID_PREV'], es['cash']['SK_ID_PREV'])\n",
    "r_previous_installments = ft.Relationship(es['previous']['SK_ID_PREV'], es['installments']['SK_ID_PREV'])\n",
    "r_previous_credit = ft.Relationship(es['previous']['SK_ID_PREV'], es['credit']['SK_ID_PREV'])\n",
    "\n",
    "# Add in the defined relationships\n",
    "es = es.add_relationships([r_app_bureau, r_bureau_balance, r_app_previous,\n",
    "                           r_previous_cash, r_previous_installments, r_previous_credit])\n",
    "# Print out the EntitySet\n",
    "print(es)"
   ]
  },
  {
   "cell_type": "code",
   "execution_count": 31,
   "metadata": {},
   "outputs": [
    {
     "name": "stdout",
     "output_type": "stream",
     "text": [
      "CPU times: user 182 ms, sys: 46.2 ms, total: 228 ms\n",
      "Wall time: 3.16 s\n"
     ]
    }
   ],
   "source": [
    "%%time\n",
    "cutoff_times = app['SK_ID_CURR'].to_frame().rename(columns={\"SK_ID_CURR\":\"instance_id\"})\n",
    "cutoff_times[\"time\"] = datetime.now()\n",
    "cutoff_times = cutoff_times.compute()"
   ]
  },
  {
   "cell_type": "code",
   "execution_count": 32,
   "metadata": {},
   "outputs": [
    {
     "name": "stdout",
     "output_type": "stream",
     "text": [
      "Running DFS...\n",
      "Built 697 features\n",
      "New Partitions: 36\n",
      "Aggregation dict lentgth: 1\n",
      "Aggregation dict lentgth: 5\n",
      "Aggregation dict lentgth: 20\n",
      "Aggregation dict lentgth: 6\n",
      "Aggregation dict lentgth: 15\n",
      "Aggregation dict lentgth: 13\n",
      "Aggregation dict lentgth: 23\n",
      "Aggregation dict lentgth: 38\n",
      "Aggregation dict lentgth: 24\n",
      "Aggregation dict lentgth: 111\n",
      "Aggregation dict to large - splitting\n"
     ]
    },
    {
     "name": "stderr",
     "output_type": "stream",
     "text": [
      "/Users/nate.parsons/dev/featuretools/env/lib/python3.7/site-packages/pandas/core/generic.py:3936: PerformanceWarning: dropping on a non-lexsorted multi-index without a level parameter may impact performance.\n",
      "  obj = obj._drop_axis(labels, axis, level=level, errors=errors)\n"
     ]
    },
    {
     "name": "stdout",
     "output_type": "stream",
     "text": [
      "CPU times: user 3.41 s, sys: 269 ms, total: 3.68 s\n",
      "Wall time: 3.64 s\n"
     ]
    }
   ],
   "source": [
    "%%time\n",
    "# agg_primitives = [\"sum\", \"max\", \"min\", \"mean\", \"count\", \"any\", \"all\"]\n",
    "# trans_primitives = [\"and\", \"add_numeric\", \"negate\"]\n",
    "trans_primitives = []\n",
    "agg_primitives = [\"sum\", \"max\", \"min\"]\n",
    "\n",
    "print(\"Running DFS...\")\n",
    "features = ft.dfs(entityset=es, target_entity='app',\n",
    "                  trans_primitives=trans_primitives,\n",
    "                  agg_primitives=agg_primitives,\n",
    "                  where_primitives=[], seed_features=[],\n",
    "                  max_depth=2, verbose=1, features_only=True,\n",
    "                  cutoff_time=cutoff_times)\n",
    "\n",
    "new_partitions = es['app'].df.npartitions * math.ceil(len(features) / len(es['app'].df.columns))\n",
    "print(\"New Partitions: {}\".format(new_partitions))\n",
    "es['app'].df = es['app'].df.repartition(npartitions=new_partitions)\n",
    "\n",
    "# DFS with specified primitives\n",
    "fm, features = ft.dfs(entityset=es, target_entity='app',\n",
    "                      trans_primitives=trans_primitives,\n",
    "                      agg_primitives=agg_primitives,\n",
    "                      where_primitives=[], seed_features=[],\n",
    "                      max_depth=2, verbose=0,\n",
    "                      cutoff_time=cutoff_times)"
   ]
  },
  {
   "cell_type": "code",
   "execution_count": 33,
   "metadata": {},
   "outputs": [],
   "source": [
    "# %%time\n",
    "# print(\"Output feature matrix to CSV...\")\n",
    "# fm.to_csv(\"dask-test-tmp/test_dask-*.csv\")"
   ]
  },
  {
   "cell_type": "code",
   "execution_count": 34,
   "metadata": {},
   "outputs": [
    {
     "name": "stdout",
     "output_type": "stream",
     "text": [
      "Computing feature matrix...\n",
      "Shape: (356255, 698)\n",
      "Memory: 1992.17796 MB\n",
      "CPU times: user 34.6 s, sys: 7.65 s, total: 42.3 s\n",
      "Wall time: 2min 38s\n"
     ]
    }
   ],
   "source": [
    "%%time\n",
    "print(\"Computing feature matrix...\")\n",
    "fm_computed = fm.compute()\n",
    "print(\"Shape: {}\".format(fm_computed.shape))\n",
    "print(\"Memory: {} MB\".format(fm_computed.memory_usage().sum() / 1000000))"
   ]
  },
  {
   "cell_type": "code",
   "execution_count": 35,
   "metadata": {},
   "outputs": [
    {
     "name": "stdout",
     "output_type": "stream",
     "text": [
      "Partition Ratio: 6\n",
      "Column Ratio: 5.721311475409836\n",
      "Memory Ratio: 5.682926829268292\n"
     ]
    }
   ],
   "source": [
    "print(\"Partition Ratio:\", math.ceil(len(features) / len(es['app'].df.columns)))\n",
    "print(\"Column Ratio:\", len(fm_computed.columns) / len(app.columns))\n",
    "print(\"Memory Ratio:\", fm_computed.memory_usage().sum() / app.compute().memory_usage().sum())"
   ]
  },
  {
   "cell_type": "code",
   "execution_count": 36,
   "metadata": {},
   "outputs": [],
   "source": [
    "client.close()"
   ]
  },
  {
   "cell_type": "code",
   "execution_count": 37,
   "metadata": {},
   "outputs": [],
   "source": [
    "notebook_fm = pd.read_csv('home_credit_fm_notebook_agg_v1.csv')"
   ]
  },
  {
   "cell_type": "code",
   "execution_count": 38,
   "metadata": {},
   "outputs": [
    {
     "name": "stdout",
     "output_type": "stream",
     "text": [
      "Shape: (356255, 698)\n",
      "Memory: 1909.526928 MB\n"
     ]
    }
   ],
   "source": [
    "print(\"Shape: {}\".format(notebook_fm.shape))\n",
    "print(\"Memory: {} MB\".format(notebook_fm.memory_usage().sum() / 1000000))"
   ]
  },
  {
   "cell_type": "code",
   "execution_count": 39,
   "metadata": {},
   "outputs": [],
   "source": [
    "fm_cols = fm_computed.columns"
   ]
  },
  {
   "cell_type": "code",
   "execution_count": 40,
   "metadata": {},
   "outputs": [],
   "source": [
    "notebook_cols = notebook_fm.columns"
   ]
  },
  {
   "cell_type": "code",
   "execution_count": 41,
   "metadata": {},
   "outputs": [
    {
     "name": "stdout",
     "output_type": "stream",
     "text": [
      "Columns missing:  0\n"
     ]
    }
   ],
   "source": [
    "missing = [col for col in notebook_cols if col not in fm_cols]\n",
    "print(\"Columns missing: \", len(missing))"
   ]
  },
  {
   "cell_type": "code",
   "execution_count": 42,
   "metadata": {},
   "outputs": [],
   "source": [
    "# make sure row and column sorting order is the same and make sure indexes are the same\n",
    "fm1 = notebook_fm.sort_values('SK_ID_CURR').reset_index(drop=True)\n",
    "fm2 = fm_computed.sort_values('SK_ID_CURR')[fm1.columns].reset_index(drop=True)"
   ]
  },
  {
   "cell_type": "code",
   "execution_count": 43,
   "metadata": {},
   "outputs": [
    {
     "data": {
      "text/html": [
       "<div>\n",
       "<style scoped>\n",
       "    .dataframe tbody tr th:only-of-type {\n",
       "        vertical-align: middle;\n",
       "    }\n",
       "\n",
       "    .dataframe tbody tr th {\n",
       "        vertical-align: top;\n",
       "    }\n",
       "\n",
       "    .dataframe thead th {\n",
       "        text-align: right;\n",
       "    }\n",
       "</style>\n",
       "<table border=\"1\" class=\"dataframe\">\n",
       "  <thead>\n",
       "    <tr style=\"text-align: right;\">\n",
       "      <th></th>\n",
       "      <th>SK_ID_CURR</th>\n",
       "      <th>AMT_ANNUITY</th>\n",
       "      <th>AMT_CREDIT</th>\n",
       "      <th>AMT_GOODS_PRICE</th>\n",
       "      <th>AMT_INCOME_TOTAL</th>\n",
       "      <th>AMT_REQ_CREDIT_BUREAU_DAY</th>\n",
       "      <th>AMT_REQ_CREDIT_BUREAU_HOUR</th>\n",
       "      <th>AMT_REQ_CREDIT_BUREAU_MON</th>\n",
       "      <th>AMT_REQ_CREDIT_BUREAU_QRT</th>\n",
       "      <th>AMT_REQ_CREDIT_BUREAU_WEEK</th>\n",
       "      <th>...</th>\n",
       "      <th>MIN(credit.previous.DAYS_TERMINATION)</th>\n",
       "      <th>MIN(credit.previous.AMT_GOODS_PRICE)</th>\n",
       "      <th>MIN(credit.previous.DAYS_FIRST_DUE)</th>\n",
       "      <th>MIN(credit.previous.DAYS_DECISION)</th>\n",
       "      <th>MIN(credit.previous.AMT_APPLICATION)</th>\n",
       "      <th>MIN(credit.previous.AMT_ANNUITY)</th>\n",
       "      <th>MIN(credit.previous.DAYS_LAST_DUE)</th>\n",
       "      <th>MIN(credit.previous.SELLERPLACE_AREA)</th>\n",
       "      <th>MIN(credit.previous.RATE_DOWN_PAYMENT)</th>\n",
       "      <th>MIN(credit.previous.NFLAG_INSURED_ON_APPROVAL)</th>\n",
       "    </tr>\n",
       "  </thead>\n",
       "  <tbody>\n",
       "    <tr>\n",
       "      <th>0</th>\n",
       "      <td>0</td>\n",
       "      <td>53595.0</td>\n",
       "      <td>715095.0</td>\n",
       "      <td>675000.0</td>\n",
       "      <td>90000.0</td>\n",
       "      <td>0.0</td>\n",
       "      <td>0.0</td>\n",
       "      <td>1.0</td>\n",
       "      <td>0.0</td>\n",
       "      <td>0.0</td>\n",
       "      <td>...</td>\n",
       "      <td>NaN</td>\n",
       "      <td>NaN</td>\n",
       "      <td>NaN</td>\n",
       "      <td>NaN</td>\n",
       "      <td>NaN</td>\n",
       "      <td>NaN</td>\n",
       "      <td>NaN</td>\n",
       "      <td>NaN</td>\n",
       "      <td>NaN</td>\n",
       "      <td>NaN</td>\n",
       "    </tr>\n",
       "    <tr>\n",
       "      <th>1</th>\n",
       "      <td>100001</td>\n",
       "      <td>20560.5</td>\n",
       "      <td>568800.0</td>\n",
       "      <td>450000.0</td>\n",
       "      <td>135000.0</td>\n",
       "      <td>0.0</td>\n",
       "      <td>0.0</td>\n",
       "      <td>0.0</td>\n",
       "      <td>0.0</td>\n",
       "      <td>0.0</td>\n",
       "      <td>...</td>\n",
       "      <td>NaN</td>\n",
       "      <td>NaN</td>\n",
       "      <td>NaN</td>\n",
       "      <td>NaN</td>\n",
       "      <td>NaN</td>\n",
       "      <td>NaN</td>\n",
       "      <td>NaN</td>\n",
       "      <td>NaN</td>\n",
       "      <td>NaN</td>\n",
       "      <td>NaN</td>\n",
       "    </tr>\n",
       "    <tr>\n",
       "      <th>2</th>\n",
       "      <td>100002</td>\n",
       "      <td>24700.5</td>\n",
       "      <td>406597.5</td>\n",
       "      <td>351000.0</td>\n",
       "      <td>202500.0</td>\n",
       "      <td>0.0</td>\n",
       "      <td>0.0</td>\n",
       "      <td>0.0</td>\n",
       "      <td>0.0</td>\n",
       "      <td>0.0</td>\n",
       "      <td>...</td>\n",
       "      <td>NaN</td>\n",
       "      <td>NaN</td>\n",
       "      <td>NaN</td>\n",
       "      <td>NaN</td>\n",
       "      <td>NaN</td>\n",
       "      <td>NaN</td>\n",
       "      <td>NaN</td>\n",
       "      <td>NaN</td>\n",
       "      <td>NaN</td>\n",
       "      <td>NaN</td>\n",
       "    </tr>\n",
       "    <tr>\n",
       "      <th>3</th>\n",
       "      <td>100003</td>\n",
       "      <td>35698.5</td>\n",
       "      <td>1293502.5</td>\n",
       "      <td>1129500.0</td>\n",
       "      <td>270000.0</td>\n",
       "      <td>0.0</td>\n",
       "      <td>0.0</td>\n",
       "      <td>0.0</td>\n",
       "      <td>0.0</td>\n",
       "      <td>0.0</td>\n",
       "      <td>...</td>\n",
       "      <td>NaN</td>\n",
       "      <td>NaN</td>\n",
       "      <td>NaN</td>\n",
       "      <td>NaN</td>\n",
       "      <td>NaN</td>\n",
       "      <td>NaN</td>\n",
       "      <td>NaN</td>\n",
       "      <td>NaN</td>\n",
       "      <td>NaN</td>\n",
       "      <td>NaN</td>\n",
       "    </tr>\n",
       "    <tr>\n",
       "      <th>4</th>\n",
       "      <td>100004</td>\n",
       "      <td>6750.0</td>\n",
       "      <td>135000.0</td>\n",
       "      <td>135000.0</td>\n",
       "      <td>67500.0</td>\n",
       "      <td>0.0</td>\n",
       "      <td>0.0</td>\n",
       "      <td>0.0</td>\n",
       "      <td>0.0</td>\n",
       "      <td>0.0</td>\n",
       "      <td>...</td>\n",
       "      <td>NaN</td>\n",
       "      <td>NaN</td>\n",
       "      <td>NaN</td>\n",
       "      <td>NaN</td>\n",
       "      <td>NaN</td>\n",
       "      <td>NaN</td>\n",
       "      <td>NaN</td>\n",
       "      <td>NaN</td>\n",
       "      <td>NaN</td>\n",
       "      <td>NaN</td>\n",
       "    </tr>\n",
       "  </tbody>\n",
       "</table>\n",
       "<p>5 rows × 698 columns</p>\n",
       "</div>"
      ],
      "text/plain": [
       "   SK_ID_CURR  AMT_ANNUITY  AMT_CREDIT  AMT_GOODS_PRICE  AMT_INCOME_TOTAL  \\\n",
       "0           0      53595.0    715095.0         675000.0           90000.0   \n",
       "1      100001      20560.5    568800.0         450000.0          135000.0   \n",
       "2      100002      24700.5    406597.5         351000.0          202500.0   \n",
       "3      100003      35698.5   1293502.5        1129500.0          270000.0   \n",
       "4      100004       6750.0    135000.0         135000.0           67500.0   \n",
       "\n",
       "   AMT_REQ_CREDIT_BUREAU_DAY  AMT_REQ_CREDIT_BUREAU_HOUR  \\\n",
       "0                        0.0                         0.0   \n",
       "1                        0.0                         0.0   \n",
       "2                        0.0                         0.0   \n",
       "3                        0.0                         0.0   \n",
       "4                        0.0                         0.0   \n",
       "\n",
       "   AMT_REQ_CREDIT_BUREAU_MON  AMT_REQ_CREDIT_BUREAU_QRT  \\\n",
       "0                        1.0                        0.0   \n",
       "1                        0.0                        0.0   \n",
       "2                        0.0                        0.0   \n",
       "3                        0.0                        0.0   \n",
       "4                        0.0                        0.0   \n",
       "\n",
       "   AMT_REQ_CREDIT_BUREAU_WEEK  ...  MIN(credit.previous.DAYS_TERMINATION)  \\\n",
       "0                         0.0  ...                                    NaN   \n",
       "1                         0.0  ...                                    NaN   \n",
       "2                         0.0  ...                                    NaN   \n",
       "3                         0.0  ...                                    NaN   \n",
       "4                         0.0  ...                                    NaN   \n",
       "\n",
       "   MIN(credit.previous.AMT_GOODS_PRICE)  MIN(credit.previous.DAYS_FIRST_DUE)  \\\n",
       "0                                   NaN                                  NaN   \n",
       "1                                   NaN                                  NaN   \n",
       "2                                   NaN                                  NaN   \n",
       "3                                   NaN                                  NaN   \n",
       "4                                   NaN                                  NaN   \n",
       "\n",
       "   MIN(credit.previous.DAYS_DECISION)  MIN(credit.previous.AMT_APPLICATION)  \\\n",
       "0                                 NaN                                   NaN   \n",
       "1                                 NaN                                   NaN   \n",
       "2                                 NaN                                   NaN   \n",
       "3                                 NaN                                   NaN   \n",
       "4                                 NaN                                   NaN   \n",
       "\n",
       "   MIN(credit.previous.AMT_ANNUITY)  MIN(credit.previous.DAYS_LAST_DUE)  \\\n",
       "0                               NaN                                 NaN   \n",
       "1                               NaN                                 NaN   \n",
       "2                               NaN                                 NaN   \n",
       "3                               NaN                                 NaN   \n",
       "4                               NaN                                 NaN   \n",
       "\n",
       "   MIN(credit.previous.SELLERPLACE_AREA)  \\\n",
       "0                                    NaN   \n",
       "1                                    NaN   \n",
       "2                                    NaN   \n",
       "3                                    NaN   \n",
       "4                                    NaN   \n",
       "\n",
       "   MIN(credit.previous.RATE_DOWN_PAYMENT)  \\\n",
       "0                                     NaN   \n",
       "1                                     NaN   \n",
       "2                                     NaN   \n",
       "3                                     NaN   \n",
       "4                                     NaN   \n",
       "\n",
       "  MIN(credit.previous.NFLAG_INSURED_ON_APPROVAL)  \n",
       "0                                            NaN  \n",
       "1                                            NaN  \n",
       "2                                            NaN  \n",
       "3                                            NaN  \n",
       "4                                            NaN  \n",
       "\n",
       "[5 rows x 698 columns]"
      ]
     },
     "execution_count": 43,
     "metadata": {},
     "output_type": "execute_result"
    }
   ],
   "source": [
    "fm1.head()"
   ]
  },
  {
   "cell_type": "code",
   "execution_count": 44,
   "metadata": {},
   "outputs": [
    {
     "data": {
      "text/html": [
       "<div>\n",
       "<style scoped>\n",
       "    .dataframe tbody tr th:only-of-type {\n",
       "        vertical-align: middle;\n",
       "    }\n",
       "\n",
       "    .dataframe tbody tr th {\n",
       "        vertical-align: top;\n",
       "    }\n",
       "\n",
       "    .dataframe thead th {\n",
       "        text-align: right;\n",
       "    }\n",
       "</style>\n",
       "<table border=\"1\" class=\"dataframe\">\n",
       "  <thead>\n",
       "    <tr style=\"text-align: right;\">\n",
       "      <th></th>\n",
       "      <th>SK_ID_CURR</th>\n",
       "      <th>AMT_ANNUITY</th>\n",
       "      <th>AMT_CREDIT</th>\n",
       "      <th>AMT_GOODS_PRICE</th>\n",
       "      <th>AMT_INCOME_TOTAL</th>\n",
       "      <th>AMT_REQ_CREDIT_BUREAU_DAY</th>\n",
       "      <th>AMT_REQ_CREDIT_BUREAU_HOUR</th>\n",
       "      <th>AMT_REQ_CREDIT_BUREAU_MON</th>\n",
       "      <th>AMT_REQ_CREDIT_BUREAU_QRT</th>\n",
       "      <th>AMT_REQ_CREDIT_BUREAU_WEEK</th>\n",
       "      <th>...</th>\n",
       "      <th>MIN(credit.previous.DAYS_TERMINATION)</th>\n",
       "      <th>MIN(credit.previous.AMT_GOODS_PRICE)</th>\n",
       "      <th>MIN(credit.previous.DAYS_FIRST_DUE)</th>\n",
       "      <th>MIN(credit.previous.DAYS_DECISION)</th>\n",
       "      <th>MIN(credit.previous.AMT_APPLICATION)</th>\n",
       "      <th>MIN(credit.previous.AMT_ANNUITY)</th>\n",
       "      <th>MIN(credit.previous.DAYS_LAST_DUE)</th>\n",
       "      <th>MIN(credit.previous.SELLERPLACE_AREA)</th>\n",
       "      <th>MIN(credit.previous.RATE_DOWN_PAYMENT)</th>\n",
       "      <th>MIN(credit.previous.NFLAG_INSURED_ON_APPROVAL)</th>\n",
       "    </tr>\n",
       "  </thead>\n",
       "  <tbody>\n",
       "    <tr>\n",
       "      <th>0</th>\n",
       "      <td>0</td>\n",
       "      <td>53595.0</td>\n",
       "      <td>715095.0</td>\n",
       "      <td>675000.0</td>\n",
       "      <td>90000.0</td>\n",
       "      <td>0.0</td>\n",
       "      <td>0.0</td>\n",
       "      <td>1.0</td>\n",
       "      <td>0.0</td>\n",
       "      <td>0.0</td>\n",
       "      <td>...</td>\n",
       "      <td>NaN</td>\n",
       "      <td>NaN</td>\n",
       "      <td>NaN</td>\n",
       "      <td>NaN</td>\n",
       "      <td>NaN</td>\n",
       "      <td>NaN</td>\n",
       "      <td>NaN</td>\n",
       "      <td>NaN</td>\n",
       "      <td>NaN</td>\n",
       "      <td>NaN</td>\n",
       "    </tr>\n",
       "    <tr>\n",
       "      <th>1</th>\n",
       "      <td>100001</td>\n",
       "      <td>20560.5</td>\n",
       "      <td>568800.0</td>\n",
       "      <td>450000.0</td>\n",
       "      <td>135000.0</td>\n",
       "      <td>0.0</td>\n",
       "      <td>0.0</td>\n",
       "      <td>0.0</td>\n",
       "      <td>0.0</td>\n",
       "      <td>0.0</td>\n",
       "      <td>...</td>\n",
       "      <td>NaN</td>\n",
       "      <td>NaN</td>\n",
       "      <td>NaN</td>\n",
       "      <td>NaN</td>\n",
       "      <td>NaN</td>\n",
       "      <td>NaN</td>\n",
       "      <td>NaN</td>\n",
       "      <td>NaN</td>\n",
       "      <td>NaN</td>\n",
       "      <td>NaN</td>\n",
       "    </tr>\n",
       "    <tr>\n",
       "      <th>2</th>\n",
       "      <td>100002</td>\n",
       "      <td>24700.5</td>\n",
       "      <td>406597.5</td>\n",
       "      <td>351000.0</td>\n",
       "      <td>202500.0</td>\n",
       "      <td>0.0</td>\n",
       "      <td>0.0</td>\n",
       "      <td>0.0</td>\n",
       "      <td>0.0</td>\n",
       "      <td>0.0</td>\n",
       "      <td>...</td>\n",
       "      <td>NaN</td>\n",
       "      <td>NaN</td>\n",
       "      <td>NaN</td>\n",
       "      <td>NaN</td>\n",
       "      <td>NaN</td>\n",
       "      <td>NaN</td>\n",
       "      <td>NaN</td>\n",
       "      <td>NaN</td>\n",
       "      <td>NaN</td>\n",
       "      <td>NaN</td>\n",
       "    </tr>\n",
       "    <tr>\n",
       "      <th>3</th>\n",
       "      <td>100003</td>\n",
       "      <td>35698.5</td>\n",
       "      <td>1293502.5</td>\n",
       "      <td>1129500.0</td>\n",
       "      <td>270000.0</td>\n",
       "      <td>0.0</td>\n",
       "      <td>0.0</td>\n",
       "      <td>0.0</td>\n",
       "      <td>0.0</td>\n",
       "      <td>0.0</td>\n",
       "      <td>...</td>\n",
       "      <td>NaN</td>\n",
       "      <td>NaN</td>\n",
       "      <td>NaN</td>\n",
       "      <td>NaN</td>\n",
       "      <td>NaN</td>\n",
       "      <td>NaN</td>\n",
       "      <td>NaN</td>\n",
       "      <td>NaN</td>\n",
       "      <td>NaN</td>\n",
       "      <td>NaN</td>\n",
       "    </tr>\n",
       "    <tr>\n",
       "      <th>4</th>\n",
       "      <td>100004</td>\n",
       "      <td>6750.0</td>\n",
       "      <td>135000.0</td>\n",
       "      <td>135000.0</td>\n",
       "      <td>67500.0</td>\n",
       "      <td>0.0</td>\n",
       "      <td>0.0</td>\n",
       "      <td>0.0</td>\n",
       "      <td>0.0</td>\n",
       "      <td>0.0</td>\n",
       "      <td>...</td>\n",
       "      <td>NaN</td>\n",
       "      <td>NaN</td>\n",
       "      <td>NaN</td>\n",
       "      <td>NaN</td>\n",
       "      <td>NaN</td>\n",
       "      <td>NaN</td>\n",
       "      <td>NaN</td>\n",
       "      <td>NaN</td>\n",
       "      <td>NaN</td>\n",
       "      <td>NaN</td>\n",
       "    </tr>\n",
       "  </tbody>\n",
       "</table>\n",
       "<p>5 rows × 698 columns</p>\n",
       "</div>"
      ],
      "text/plain": [
       "   SK_ID_CURR  AMT_ANNUITY  AMT_CREDIT  AMT_GOODS_PRICE  AMT_INCOME_TOTAL  \\\n",
       "0           0      53595.0    715095.0         675000.0           90000.0   \n",
       "1      100001      20560.5    568800.0         450000.0          135000.0   \n",
       "2      100002      24700.5    406597.5         351000.0          202500.0   \n",
       "3      100003      35698.5   1293502.5        1129500.0          270000.0   \n",
       "4      100004       6750.0    135000.0         135000.0           67500.0   \n",
       "\n",
       "   AMT_REQ_CREDIT_BUREAU_DAY  AMT_REQ_CREDIT_BUREAU_HOUR  \\\n",
       "0                        0.0                         0.0   \n",
       "1                        0.0                         0.0   \n",
       "2                        0.0                         0.0   \n",
       "3                        0.0                         0.0   \n",
       "4                        0.0                         0.0   \n",
       "\n",
       "   AMT_REQ_CREDIT_BUREAU_MON  AMT_REQ_CREDIT_BUREAU_QRT  \\\n",
       "0                        1.0                        0.0   \n",
       "1                        0.0                        0.0   \n",
       "2                        0.0                        0.0   \n",
       "3                        0.0                        0.0   \n",
       "4                        0.0                        0.0   \n",
       "\n",
       "   AMT_REQ_CREDIT_BUREAU_WEEK  ...  MIN(credit.previous.DAYS_TERMINATION)  \\\n",
       "0                         0.0  ...                                    NaN   \n",
       "1                         0.0  ...                                    NaN   \n",
       "2                         0.0  ...                                    NaN   \n",
       "3                         0.0  ...                                    NaN   \n",
       "4                         0.0  ...                                    NaN   \n",
       "\n",
       "   MIN(credit.previous.AMT_GOODS_PRICE)  MIN(credit.previous.DAYS_FIRST_DUE)  \\\n",
       "0                                   NaN                                  NaN   \n",
       "1                                   NaN                                  NaN   \n",
       "2                                   NaN                                  NaN   \n",
       "3                                   NaN                                  NaN   \n",
       "4                                   NaN                                  NaN   \n",
       "\n",
       "   MIN(credit.previous.DAYS_DECISION)  MIN(credit.previous.AMT_APPLICATION)  \\\n",
       "0                                 NaN                                   NaN   \n",
       "1                                 NaN                                   NaN   \n",
       "2                                 NaN                                   NaN   \n",
       "3                                 NaN                                   NaN   \n",
       "4                                 NaN                                   NaN   \n",
       "\n",
       "   MIN(credit.previous.AMT_ANNUITY)  MIN(credit.previous.DAYS_LAST_DUE)  \\\n",
       "0                               NaN                                 NaN   \n",
       "1                               NaN                                 NaN   \n",
       "2                               NaN                                 NaN   \n",
       "3                               NaN                                 NaN   \n",
       "4                               NaN                                 NaN   \n",
       "\n",
       "   MIN(credit.previous.SELLERPLACE_AREA)  \\\n",
       "0                                    NaN   \n",
       "1                                    NaN   \n",
       "2                                    NaN   \n",
       "3                                    NaN   \n",
       "4                                    NaN   \n",
       "\n",
       "   MIN(credit.previous.RATE_DOWN_PAYMENT)  \\\n",
       "0                                     NaN   \n",
       "1                                     NaN   \n",
       "2                                     NaN   \n",
       "3                                     NaN   \n",
       "4                                     NaN   \n",
       "\n",
       "  MIN(credit.previous.NFLAG_INSURED_ON_APPROVAL)  \n",
       "0                                            NaN  \n",
       "1                                            NaN  \n",
       "2                                            NaN  \n",
       "3                                            NaN  \n",
       "4                                            NaN  \n",
       "\n",
       "[5 rows x 698 columns]"
      ]
     },
     "execution_count": 44,
     "metadata": {},
     "output_type": "execute_result"
    }
   ],
   "source": [
    "fm2.head()"
   ]
  },
  {
   "cell_type": "code",
   "execution_count": 45,
   "metadata": {},
   "outputs": [
    {
     "name": "stderr",
     "output_type": "stream",
     "text": [
      "100%|██████████| 698/698 [00:36<00:00, 19.05it/s]\n"
     ]
    }
   ],
   "source": [
    "for col in tqdm(fm1.columns):\n",
    "    if fm1[col].dtype != fm2[col].dtype:\n",
    "        fm2[col] = fm2[col].astype(fm1[col].dtype)"
   ]
  },
  {
   "cell_type": "code",
   "execution_count": 46,
   "metadata": {},
   "outputs": [],
   "source": [
    "# pd.testing.assert_frame_equal(fm1, fm2)"
   ]
  },
  {
   "cell_type": "code",
   "execution_count": null,
   "metadata": {
    "scrolled": true
   },
   "outputs": [
    {
     "name": "stderr",
     "output_type": "stream",
     "text": [
      " 23%|██▎       | 162/698 [01:36<11:40,  1.31s/it]"
     ]
    },
    {
     "name": "stdout",
     "output_type": "stream",
     "text": [
      "SUM(previous.DAYS_LAST_DUE_1ST_VERSION)\n"
     ]
    },
    {
     "name": "stderr",
     "output_type": "stream",
     "text": [
      "\r",
      " 23%|██▎       | 163/698 [01:54<55:42,  6.25s/it]"
     ]
    },
    {
     "name": "stdout",
     "output_type": "stream",
     "text": [
      "SUM(previous.DAYS_DECISION)\n"
     ]
    },
    {
     "name": "stderr",
     "output_type": "stream",
     "text": [
      "\r",
      " 23%|██▎       | 164/698 [01:55<40:42,  4.57s/it]"
     ]
    },
    {
     "name": "stdout",
     "output_type": "stream",
     "text": [
      "SUM(previous.RATE_INTEREST_PRIVILEGED)\n"
     ]
    },
    {
     "name": "stderr",
     "output_type": "stream",
     "text": [
      "\r",
      " 24%|██▎       | 165/698 [02:13<1:16:08,  8.57s/it]"
     ]
    },
    {
     "name": "stdout",
     "output_type": "stream",
     "text": [
      "SUM(previous.AMT_GOODS_PRICE)\n"
     ]
    },
    {
     "name": "stderr",
     "output_type": "stream",
     "text": [
      "\r",
      " 24%|██▍       | 166/698 [02:22<1:18:40,  8.87s/it]"
     ]
    },
    {
     "name": "stdout",
     "output_type": "stream",
     "text": [
      "SUM(previous.NFLAG_INSURED_ON_APPROVAL)\n"
     ]
    },
    {
     "name": "stderr",
     "output_type": "stream",
     "text": [
      "\r",
      " 24%|██▍       | 167/698 [02:26<1:04:39,  7.31s/it]"
     ]
    },
    {
     "name": "stdout",
     "output_type": "stream",
     "text": [
      "SUM(previous.DAYS_FIRST_DRAWING)\n"
     ]
    },
    {
     "name": "stderr",
     "output_type": "stream",
     "text": [
      "\r",
      " 24%|██▍       | 168/698 [02:45<1:35:06, 10.77s/it]"
     ]
    },
    {
     "name": "stdout",
     "output_type": "stream",
     "text": [
      "SUM(previous.AMT_ANNUITY)\n"
     ]
    },
    {
     "name": "stderr",
     "output_type": "stream",
     "text": [
      "\r",
      " 24%|██▍       | 169/698 [03:03<1:53:36, 12.89s/it]"
     ]
    },
    {
     "name": "stdout",
     "output_type": "stream",
     "text": [
      "SUM(previous.DAYS_FIRST_DUE)\n"
     ]
    },
    {
     "name": "stderr",
     "output_type": "stream",
     "text": [
      "\r",
      " 24%|██▍       | 170/698 [03:21<2:07:49, 14.53s/it]"
     ]
    },
    {
     "name": "stdout",
     "output_type": "stream",
     "text": [
      "SUM(previous.AMT_APPLICATION)\n"
     ]
    },
    {
     "name": "stderr",
     "output_type": "stream",
     "text": [
      "\r",
      " 24%|██▍       | 171/698 [03:38<2:13:44, 15.23s/it]"
     ]
    },
    {
     "name": "stdout",
     "output_type": "stream",
     "text": [
      "SUM(previous.DAYS_LAST_DUE)\n"
     ]
    },
    {
     "name": "stderr",
     "output_type": "stream",
     "text": [
      "\r",
      " 25%|██▍       | 172/698 [03:56<2:22:12, 16.22s/it]"
     ]
    },
    {
     "name": "stdout",
     "output_type": "stream",
     "text": [
      "SUM(previous.CNT_PAYMENT)\n"
     ]
    },
    {
     "name": "stderr",
     "output_type": "stream",
     "text": [
      "\r",
      " 25%|██▍       | 173/698 [04:15<2:27:48, 16.89s/it]"
     ]
    },
    {
     "name": "stdout",
     "output_type": "stream",
     "text": [
      "SUM(previous.AMT_CREDIT)\n"
     ]
    },
    {
     "name": "stderr",
     "output_type": "stream",
     "text": [
      "\r",
      " 25%|██▍       | 174/698 [04:19<1:53:52, 13.04s/it]"
     ]
    },
    {
     "name": "stdout",
     "output_type": "stream",
     "text": [
      "SUM(previous.HOUR_APPR_PROCESS_START)\n"
     ]
    },
    {
     "name": "stderr",
     "output_type": "stream",
     "text": [
      "\r",
      " 25%|██▌       | 175/698 [04:31<1:51:35, 12.80s/it]"
     ]
    },
    {
     "name": "stdout",
     "output_type": "stream",
     "text": [
      "SUM(previous.AMT_DOWN_PAYMENT)\n"
     ]
    },
    {
     "name": "stderr",
     "output_type": "stream",
     "text": [
      "\r",
      " 25%|██▌       | 176/698 [04:49<2:05:38, 14.44s/it]"
     ]
    },
    {
     "name": "stdout",
     "output_type": "stream",
     "text": [
      "SUM(previous.SELLERPLACE_AREA)\n"
     ]
    },
    {
     "name": "stderr",
     "output_type": "stream",
     "text": [
      "\r",
      " 25%|██▌       | 177/698 [05:07<2:12:31, 15.26s/it]"
     ]
    },
    {
     "name": "stdout",
     "output_type": "stream",
     "text": [
      "SUM(previous.DAYS_TERMINATION)\n"
     ]
    },
    {
     "name": "stderr",
     "output_type": "stream",
     "text": [
      "\r",
      " 26%|██▌       | 178/698 [05:07<1:34:25, 10.89s/it]"
     ]
    },
    {
     "name": "stdout",
     "output_type": "stream",
     "text": [
      "SUM(previous.RATE_INTEREST_PRIMARY)\n"
     ]
    },
    {
     "name": "stderr",
     "output_type": "stream",
     "text": [
      "\r",
      " 26%|██▌       | 179/698 [05:15<1:24:44,  9.80s/it]"
     ]
    },
    {
     "name": "stdout",
     "output_type": "stream",
     "text": [
      "SUM(previous.RATE_DOWN_PAYMENT)\n"
     ]
    }
   ],
   "source": [
    "for col in tqdm(fm1.columns):\n",
    "    try:\n",
    "        pd.testing.assert_series_equal(fm1[col], fm2[col])\n",
    "    except:\n",
    "        print(col)"
   ]
  },
  {
   "cell_type": "code",
   "execution_count": null,
   "metadata": {},
   "outputs": [],
   "source": [
    "client.close()"
   ]
  },
  {
   "cell_type": "code",
   "execution_count": null,
   "metadata": {},
   "outputs": [],
   "source": []
  }
 ],
 "metadata": {
  "kernelspec": {
   "display_name": "Python 3.7.4 64-bit ('env': venv)",
   "language": "python",
   "name": "python37464bitenvvenvb0576f6089f14bba82265783ef39e793"
  },
  "language_info": {
   "codemirror_mode": {
    "name": "ipython",
    "version": 3
   },
   "file_extension": ".py",
   "mimetype": "text/x-python",
   "name": "python",
   "nbconvert_exporter": "python",
   "pygments_lexer": "ipython3",
   "version": "3.7.4"
  }
 },
 "nbformat": 4,
 "nbformat_minor": 2
}
