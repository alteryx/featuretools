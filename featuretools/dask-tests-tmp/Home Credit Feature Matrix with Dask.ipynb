{
 "cells": [
  {
   "cell_type": "markdown",
   "metadata": {},
   "source": [
    "# Generating a Feature Matrix with Dask\n",
    "\n",
    "This notebook walks through an example of how to generate a feature matrix using Featuretools and an entityset created from Dask dataframes. This example uses the Home Credit Default Risk dataset which can be obtained from [Kaggle](https://www.kaggle.com/c/home-credit-default-risk/data).\n",
    "\n",
    "Before running this notebook, you should download the data, and save all of the CSV files from the dataset into a directory called `data/homehome-credit-default-risk`. If you place the data in a different location you may need to update the code used to read in the CSV files so they can be found.\n",
    "\n",
    "Set the `version` variable in the following cell to one of the keys in the primitive dictionary that follows to select a set of primitives to use. This selection will also set the number of workers in the Dask client as well as the blocksize used to create the Dask dataframes."
   ]
  },
  {
   "cell_type": "code",
   "execution_count": 1,
   "metadata": {},
   "outputs": [],
   "source": [
    "version = \"v1\""
   ]
  },
  {
   "cell_type": "code",
   "execution_count": 2,
   "metadata": {},
   "outputs": [],
   "source": [
    "# Dict: {version_key : ([trans_primitives], [agg_primtivies], num_workers, blocksize)}\n",
    "primitive_dict = {\n",
    "    \"v1\": ([\"and\"], [\"sum\", \"max\"], 4, \"40MB\"), # 937 features\n",
    "    \"v2\": ([\"and\"], [\"sum\", \"max\", \"min\", \"mean\"], 1, \"100MB\"),  # 1545 features\n",
    "    \"v3\": ([\"and\", \"add_numeric\", \"negate\"], [], 4, \"100MB\"),  #5946 features\n",
    "    \"v4\": ([\"and\", \"negate\"], [\"sum\", \"max\", \"min\", \"mean\", \"count\", \"any\", \"all\"], 1, \"100MB\"),  #2083 features\n",
    "}"
   ]
  },
  {
   "cell_type": "code",
   "execution_count": 3,
   "metadata": {},
   "outputs": [
    {
     "name": "stdout",
     "output_type": "stream",
     "text": [
      "2020-05-07 15:47:34,200 featuretools - WARNING    Featuretools failed to load plugin nlp_primitives from library nlp_primitives.__init__. For a full stack trace, set logging to debug.\n"
     ]
    }
   ],
   "source": [
    "import math\n",
    "from datetime import datetime\n",
    "\n",
    "import dask.dataframe as dd\n",
    "import numpy as np\n",
    "import pandas as pd\n",
    "from dask.distributed import Client\n",
    "\n",
    "import featuretools as ft\n",
    "import featuretools.variable_types as vtypes\n",
    "\n",
    "from tqdm import tqdm"
   ]
  },
  {
   "cell_type": "markdown",
   "metadata": {},
   "source": [
    "Create a Dask client with the correct number of workers for the primitives being used."
   ]
  },
  {
   "cell_type": "code",
   "execution_count": 4,
   "metadata": {},
   "outputs": [
    {
     "data": {
      "text/html": [
       "<table style=\"border: 2px solid white;\">\n",
       "<tr>\n",
       "<td style=\"vertical-align: top; border: 0px solid white\">\n",
       "<h3 style=\"text-align: left;\">Client</h3>\n",
       "<ul style=\"text-align: left; list-style: none; margin: 0; padding: 0;\">\n",
       "  <li><b>Scheduler: </b>tcp://127.0.0.1:55189</li>\n",
       "  <li><b>Dashboard: </b><a href='http://127.0.0.1:8787/status' target='_blank'>http://127.0.0.1:8787/status</a>\n",
       "</ul>\n",
       "</td>\n",
       "<td style=\"vertical-align: top; border: 0px solid white\">\n",
       "<h3 style=\"text-align: left;\">Cluster</h3>\n",
       "<ul style=\"text-align: left; list-style:none; margin: 0; padding: 0;\">\n",
       "  <li><b>Workers: </b>4</li>\n",
       "  <li><b>Cores: </b>16</li>\n",
       "  <li><b>Memory: </b>17.18 GB</li>\n",
       "</ul>\n",
       "</td>\n",
       "</tr>\n",
       "</table>"
      ],
      "text/plain": [
       "<Client: 'tcp://127.0.0.1:55189' processes=4 threads=16, memory=17.18 GB>"
      ]
     },
     "execution_count": 4,
     "metadata": {},
     "output_type": "execute_result"
    }
   ],
   "source": [
    "try:\n",
    "    client.close()\n",
    "except:\n",
    "    pass\n",
    "client = Client(n_workers=primitive_dict[version][2])\n",
    "client"
   ]
  },
  {
   "cell_type": "markdown",
   "metadata": {},
   "source": [
    "Read in the raw CSV datafiles and store them in Dask dataframes. The blocksize is set from the value contained in `primitive_dict` above. These values were found to work well on a MacBook Pro with 4 cores and 16GB of memory, but may need to be adjusted based on the available memory in your system."
   ]
  },
  {
   "cell_type": "code",
   "execution_count": 5,
   "metadata": {},
   "outputs": [
    {
     "name": "stdout",
     "output_type": "stream",
     "text": [
      "CPU times: user 212 ms, sys: 16.7 ms, total: 229 ms\n",
      "Wall time: 234 ms\n"
     ]
    }
   ],
   "source": [
    "%%time\n",
    "blocksize = primitive_dict[version][3]\n",
    "# Read in the datasets and replace the anomalous values\n",
    "app_train = dd.read_csv('data/home-credit-default-risk/application_train.csv', blocksize=blocksize).replace({365243: np.nan})\n",
    "app_test = dd.read_csv('data/home-credit-default-risk/application_test.csv', blocksize=blocksize).replace({365243: np.nan})\n",
    "bureau = dd.read_csv('data/home-credit-default-risk/bureau.csv', blocksize=blocksize).replace({365243: np.nan})\n",
    "bureau_balance = dd.read_csv('data/home-credit-default-risk/bureau_balance.csv', blocksize=blocksize).replace({365243: np.nan})\n",
    "cash = dd.read_csv('data/home-credit-default-risk/POS_CASH_balance.csv', blocksize=blocksize).replace({365243: np.nan})\n",
    "credit = dd.read_csv('data/home-credit-default-risk/credit_card_balance.csv', blocksize=blocksize).replace({365243: np.nan})\n",
    "previous = dd.read_csv('data/home-credit-default-risk/previous_application.csv', blocksize=blocksize).replace({365243: np.nan})\n",
    "installments = dd.read_csv('data/home-credit-default-risk/installments_payments.csv', blocksize=blocksize).replace({365243: np.nan})"
   ]
  },
  {
   "cell_type": "markdown",
   "metadata": {},
   "source": [
    "Perform a few cleanup operations on the data."
   ]
  },
  {
   "cell_type": "code",
   "execution_count": 6,
   "metadata": {
    "scrolled": true
   },
   "outputs": [
    {
     "name": "stdout",
     "output_type": "stream",
     "text": [
      "CPU times: user 262 ms, sys: 7.18 ms, total: 270 ms\n",
      "Wall time: 265 ms\n"
     ]
    }
   ],
   "source": [
    "%%time\n",
    "app_test['TARGET'] = np.nan\n",
    "app = app_train.append(app_test[app_train.columns])\n",
    "\n",
    "for index in ['SK_ID_CURR', 'SK_ID_PREV', 'SK_ID_BUREAU']:\n",
    "    for dataset in [app, bureau, bureau_balance, cash, credit, previous, installments]:\n",
    "        if index in list(dataset.columns):\n",
    "            dataset[index] = dataset[index].fillna(0).astype(np.int64)\n",
    "\n",
    "es = ft.EntitySet(id='clients')\n",
    "\n",
    "installments = installments.drop(columns=['SK_ID_CURR'])\n",
    "credit = credit.drop(columns=['SK_ID_CURR'])\n",
    "cash = cash.drop(columns=['SK_ID_CURR'])"
   ]
  },
  {
   "cell_type": "markdown",
   "metadata": {},
   "source": [
    "The current implementation of Dask entities does not support inferring variable types. As a result, the user must specify the proper feature tools variable types for all of the columns in the dataframes used to create the entities. The following cell sets the appropriate datatypes for our entities."
   ]
  },
  {
   "cell_type": "code",
   "execution_count": 7,
   "metadata": {},
   "outputs": [],
   "source": [
    "app_vtypes = {\n",
    "    'SK_ID_CURR': ft.variable_types.variable.Index,\n",
    "    'AMT_ANNUITY': ft.variable_types.variable.Numeric,\n",
    "    'AMT_CREDIT': ft.variable_types.variable.Numeric,\n",
    "    'AMT_GOODS_PRICE': ft.variable_types.variable.Numeric,\n",
    "    'AMT_INCOME_TOTAL': ft.variable_types.variable.Numeric,\n",
    "    'AMT_REQ_CREDIT_BUREAU_DAY': ft.variable_types.variable.Numeric,\n",
    "    'AMT_REQ_CREDIT_BUREAU_HOUR': ft.variable_types.variable.Numeric,\n",
    "    'AMT_REQ_CREDIT_BUREAU_MON': ft.variable_types.variable.Numeric,\n",
    "    'AMT_REQ_CREDIT_BUREAU_QRT': ft.variable_types.variable.Numeric,\n",
    "    'AMT_REQ_CREDIT_BUREAU_WEEK': ft.variable_types.variable.Numeric,\n",
    "    'AMT_REQ_CREDIT_BUREAU_YEAR': ft.variable_types.variable.Numeric,\n",
    "    'APARTMENTS_AVG': ft.variable_types.variable.Numeric,\n",
    "    'APARTMENTS_MEDI': ft.variable_types.variable.Numeric,\n",
    "    'APARTMENTS_MODE': ft.variable_types.variable.Numeric,\n",
    "    'BASEMENTAREA_AVG': ft.variable_types.variable.Numeric,\n",
    "    'BASEMENTAREA_MEDI': ft.variable_types.variable.Numeric,\n",
    "    'BASEMENTAREA_MODE': ft.variable_types.variable.Numeric,\n",
    "    'CNT_CHILDREN': ft.variable_types.variable.Numeric,\n",
    "    'CNT_FAM_MEMBERS': ft.variable_types.variable.Numeric,\n",
    "    'CODE_GENDER': ft.variable_types.variable.Categorical,\n",
    "    'COMMONAREA_AVG': ft.variable_types.variable.Numeric,\n",
    "    'COMMONAREA_MEDI': ft.variable_types.variable.Numeric,\n",
    "    'COMMONAREA_MODE': ft.variable_types.variable.Numeric,\n",
    "    'DAYS_BIRTH': ft.variable_types.variable.Numeric,\n",
    "    'DAYS_EMPLOYED': ft.variable_types.variable.Numeric,\n",
    "    'DAYS_ID_PUBLISH': ft.variable_types.variable.Numeric,\n",
    "    'DAYS_LAST_PHONE_CHANGE': ft.variable_types.variable.Numeric,\n",
    "    'DAYS_REGISTRATION': ft.variable_types.variable.Numeric,\n",
    "    'DEF_30_CNT_SOCIAL_CIRCLE': ft.variable_types.variable.Numeric,\n",
    "    'DEF_60_CNT_SOCIAL_CIRCLE': ft.variable_types.variable.Numeric,\n",
    "    'ELEVATORS_AVG': ft.variable_types.variable.Numeric,\n",
    "    'ELEVATORS_MEDI': ft.variable_types.variable.Numeric,\n",
    "    'ELEVATORS_MODE': ft.variable_types.variable.Numeric,\n",
    "    'EMERGENCYSTATE_MODE': ft.variable_types.variable.Categorical,\n",
    "    'ENTRANCES_AVG': ft.variable_types.variable.Numeric,\n",
    "    'ENTRANCES_MEDI': ft.variable_types.variable.Numeric,\n",
    "    'ENTRANCES_MODE': ft.variable_types.variable.Numeric,\n",
    "    'EXT_SOURCE_1': ft.variable_types.variable.Numeric,\n",
    "    'EXT_SOURCE_2': ft.variable_types.variable.Numeric,\n",
    "    'EXT_SOURCE_3': ft.variable_types.variable.Numeric,\n",
    "    'FLAG_CONT_MOBILE': ft.variable_types.variable.Boolean,\n",
    "    'FLAG_DOCUMENT_10': ft.variable_types.variable.Boolean,\n",
    "    'FLAG_DOCUMENT_11': ft.variable_types.variable.Boolean,\n",
    "    'FLAG_DOCUMENT_12': ft.variable_types.variable.Boolean,\n",
    "    'FLAG_DOCUMENT_13': ft.variable_types.variable.Boolean,\n",
    "    'FLAG_DOCUMENT_14': ft.variable_types.variable.Boolean,\n",
    "    'FLAG_DOCUMENT_15': ft.variable_types.variable.Boolean,\n",
    "    'FLAG_DOCUMENT_16': ft.variable_types.variable.Boolean,\n",
    "    'FLAG_DOCUMENT_17': ft.variable_types.variable.Boolean,\n",
    "    'FLAG_DOCUMENT_18': ft.variable_types.variable.Boolean,\n",
    "    'FLAG_DOCUMENT_19': ft.variable_types.variable.Boolean,\n",
    "    'FLAG_DOCUMENT_2': ft.variable_types.variable.Boolean,\n",
    "    'FLAG_DOCUMENT_20': ft.variable_types.variable.Boolean,\n",
    "    'FLAG_DOCUMENT_21': ft.variable_types.variable.Boolean,\n",
    "    'FLAG_DOCUMENT_3': ft.variable_types.variable.Boolean,\n",
    "    'FLAG_DOCUMENT_4': ft.variable_types.variable.Boolean,\n",
    "    'FLAG_DOCUMENT_5': ft.variable_types.variable.Boolean,\n",
    "    'FLAG_DOCUMENT_6': ft.variable_types.variable.Boolean,\n",
    "    'FLAG_DOCUMENT_7': ft.variable_types.variable.Boolean,\n",
    "    'FLAG_DOCUMENT_8': ft.variable_types.variable.Boolean,\n",
    "    'FLAG_DOCUMENT_9': ft.variable_types.variable.Boolean,\n",
    "    'FLAG_EMAIL': ft.variable_types.variable.Boolean,\n",
    "    'FLAG_EMP_PHONE': ft.variable_types.variable.Boolean,\n",
    "    'FLAG_MOBIL': ft.variable_types.variable.Boolean,\n",
    "    'FLAG_OWN_CAR': ft.variable_types.variable.Categorical,\n",
    "    'FLAG_OWN_REALTY': ft.variable_types.variable.Categorical,\n",
    "    'FLAG_PHONE': ft.variable_types.variable.Boolean,\n",
    "    'FLAG_WORK_PHONE': ft.variable_types.variable.Boolean,\n",
    "    'FLOORSMAX_AVG': ft.variable_types.variable.Numeric,\n",
    "    'FLOORSMAX_MEDI': ft.variable_types.variable.Numeric,\n",
    "    'FLOORSMAX_MODE': ft.variable_types.variable.Numeric,\n",
    "    'FLOORSMIN_AVG': ft.variable_types.variable.Numeric,\n",
    "    'FLOORSMIN_MEDI': ft.variable_types.variable.Numeric,\n",
    "    'FLOORSMIN_MODE': ft.variable_types.variable.Numeric,\n",
    "    'FONDKAPREMONT_MODE': ft.variable_types.variable.Categorical,\n",
    "    'HOUR_APPR_PROCESS_START': ft.variable_types.variable.Numeric,\n",
    "    'HOUSETYPE_MODE': ft.variable_types.variable.Categorical,\n",
    "    'LANDAREA_AVG': ft.variable_types.variable.Numeric,\n",
    "    'LANDAREA_MEDI': ft.variable_types.variable.Numeric,\n",
    "    'LANDAREA_MODE': ft.variable_types.variable.Numeric,\n",
    "    'LIVE_CITY_NOT_WORK_CITY': ft.variable_types.variable.Boolean,\n",
    "    'LIVE_REGION_NOT_WORK_REGION': ft.variable_types.variable.Boolean,\n",
    "    'LIVINGAPARTMENTS_AVG': ft.variable_types.variable.Numeric,\n",
    "    'LIVINGAPARTMENTS_MEDI': ft.variable_types.variable.Numeric,\n",
    "    'LIVINGAPARTMENTS_MODE': ft.variable_types.variable.Numeric,\n",
    "    'LIVINGAREA_AVG': ft.variable_types.variable.Numeric,\n",
    "    'LIVINGAREA_MEDI': ft.variable_types.variable.Numeric,\n",
    "    'LIVINGAREA_MODE': ft.variable_types.variable.Numeric,\n",
    "    'NAME_CONTRACT_TYPE': ft.variable_types.variable.Categorical,\n",
    "    'NAME_EDUCATION_TYPE': ft.variable_types.variable.Categorical,\n",
    "    'NAME_FAMILY_STATUS': ft.variable_types.variable.Categorical,\n",
    "    'NAME_HOUSING_TYPE': ft.variable_types.variable.Categorical,\n",
    "    'NAME_INCOME_TYPE': ft.variable_types.variable.Categorical,\n",
    "    'NAME_TYPE_SUITE': ft.variable_types.variable.Categorical,\n",
    "    'NONLIVINGAPARTMENTS_AVG': ft.variable_types.variable.Numeric,\n",
    "    'NONLIVINGAPARTMENTS_MEDI': ft.variable_types.variable.Numeric,\n",
    "    'NONLIVINGAPARTMENTS_MODE': ft.variable_types.variable.Numeric,\n",
    "    'NONLIVINGAREA_AVG': ft.variable_types.variable.Numeric,\n",
    "    'NONLIVINGAREA_MEDI': ft.variable_types.variable.Numeric,\n",
    "    'NONLIVINGAREA_MODE': ft.variable_types.variable.Numeric,\n",
    "    'OBS_30_CNT_SOCIAL_CIRCLE': ft.variable_types.variable.Numeric,\n",
    "    'OBS_60_CNT_SOCIAL_CIRCLE': ft.variable_types.variable.Numeric,\n",
    "    'OCCUPATION_TYPE': ft.variable_types.variable.Categorical,\n",
    "    'ORGANIZATION_TYPE': ft.variable_types.variable.Categorical,\n",
    "    'OWN_CAR_AGE': ft.variable_types.variable.Numeric,\n",
    "    'REGION_POPULATION_RELATIVE': ft.variable_types.variable.Numeric,\n",
    "    'REGION_RATING_CLIENT': ft.variable_types.variable.Numeric,\n",
    "    'REGION_RATING_CLIENT_W_CITY': ft.variable_types.variable.Numeric,\n",
    "    'REG_CITY_NOT_LIVE_CITY': ft.variable_types.variable.Boolean,\n",
    "    'REG_CITY_NOT_WORK_CITY': ft.variable_types.variable.Boolean,\n",
    "    'REG_REGION_NOT_LIVE_REGION': ft.variable_types.variable.Boolean,\n",
    "    'REG_REGION_NOT_WORK_REGION': ft.variable_types.variable.Boolean,\n",
    "    'TARGET': ft.variable_types.variable.Numeric,\n",
    "    'TOTALAREA_MODE': ft.variable_types.variable.Numeric,\n",
    "    'WALLSMATERIAL_MODE': ft.variable_types.variable.Categorical,\n",
    "    'WEEKDAY_APPR_PROCESS_START': ft.variable_types.variable.Categorical,\n",
    "    'YEARS_BEGINEXPLUATATION_AVG': ft.variable_types.variable.Numeric,\n",
    "    'YEARS_BEGINEXPLUATATION_MEDI': ft.variable_types.variable.Numeric,\n",
    "    'YEARS_BEGINEXPLUATATION_MODE': ft.variable_types.variable.Numeric,\n",
    "    'YEARS_BUILD_AVG': ft.variable_types.variable.Numeric,\n",
    "    'YEARS_BUILD_MEDI': ft.variable_types.variable.Numeric,\n",
    "    'YEARS_BUILD_MODE': ft.variable_types.variable.Numeric\n",
    "}\n",
    "\n",
    "bureau_vtypes = {\n",
    "    'SK_ID_BUREAU': ft.variable_types.variable.Index,\n",
    "    'SK_ID_CURR': ft.variable_types.variable.Id,\n",
    "    'CREDIT_ACTIVE': ft.variable_types.variable.Categorical,\n",
    "    'CREDIT_CURRENCY': ft.variable_types.variable.Categorical,\n",
    "    'DAYS_CREDIT': ft.variable_types.variable.Numeric,\n",
    "    'CREDIT_DAY_OVERDUE': ft.variable_types.variable.Numeric,\n",
    "    'DAYS_CREDIT_ENDDATE': ft.variable_types.variable.Numeric,\n",
    "    'DAYS_ENDDATE_FACT': ft.variable_types.variable.Numeric,\n",
    "    'AMT_CREDIT_MAX_OVERDUE': ft.variable_types.variable.Numeric,\n",
    "    'CNT_CREDIT_PROLONG': ft.variable_types.variable.Numeric,\n",
    "    'AMT_CREDIT_SUM': ft.variable_types.variable.Numeric,\n",
    "    'AMT_CREDIT_SUM_DEBT': ft.variable_types.variable.Numeric,\n",
    "    'AMT_CREDIT_SUM_LIMIT': ft.variable_types.variable.Numeric,\n",
    "    'AMT_CREDIT_SUM_OVERDUE': ft.variable_types.variable.Numeric,\n",
    "    'CREDIT_TYPE': ft.variable_types.variable.Categorical,\n",
    "    'DAYS_CREDIT_UPDATE': ft.variable_types.variable.Numeric,\n",
    "    'AMT_ANNUITY': ft.variable_types.variable.Numeric\n",
    "}\n",
    "\n",
    "previous_vtypes = {\n",
    "    'SK_ID_PREV': ft.variable_types.variable.Index,\n",
    "    'SK_ID_CURR': ft.variable_types.variable.Id,\n",
    "    'NAME_CONTRACT_TYPE': ft.variable_types.variable.Categorical,\n",
    "    'AMT_ANNUITY': ft.variable_types.variable.Numeric,\n",
    "    'AMT_APPLICATION': ft.variable_types.variable.Numeric,\n",
    "    'AMT_CREDIT': ft.variable_types.variable.Numeric,\n",
    "    'AMT_DOWN_PAYMENT': ft.variable_types.variable.Numeric,\n",
    "    'AMT_GOODS_PRICE': ft.variable_types.variable.Numeric,\n",
    "    'WEEKDAY_APPR_PROCESS_START': ft.variable_types.variable.Categorical,\n",
    "    'HOUR_APPR_PROCESS_START': ft.variable_types.variable.Numeric,\n",
    "    'FLAG_LAST_APPL_PER_CONTRACT': ft.variable_types.variable.Categorical,\n",
    "    'NFLAG_LAST_APPL_IN_DAY': ft.variable_types.variable.Boolean,\n",
    "    'RATE_DOWN_PAYMENT': ft.variable_types.variable.Numeric,\n",
    "    'RATE_INTEREST_PRIMARY': ft.variable_types.variable.Numeric,\n",
    "    'RATE_INTEREST_PRIVILEGED': ft.variable_types.variable.Numeric,\n",
    "    'NAME_CASH_LOAN_PURPOSE': ft.variable_types.variable.Categorical,\n",
    "    'NAME_CONTRACT_STATUS': ft.variable_types.variable.Categorical,\n",
    "    'DAYS_DECISION': ft.variable_types.variable.Numeric,\n",
    "    'NAME_PAYMENT_TYPE': ft.variable_types.variable.Categorical,\n",
    "    'CODE_REJECT_REASON': ft.variable_types.variable.Categorical,\n",
    "    'NAME_TYPE_SUITE': ft.variable_types.variable.Categorical,\n",
    "    'NAME_CLIENT_TYPE': ft.variable_types.variable.Categorical,\n",
    "    'NAME_GOODS_CATEGORY': ft.variable_types.variable.Categorical,\n",
    "    'NAME_PORTFOLIO': ft.variable_types.variable.Categorical,\n",
    "    'NAME_PRODUCT_TYPE': ft.variable_types.variable.Categorical,\n",
    "    'CHANNEL_TYPE': ft.variable_types.variable.Categorical,\n",
    "    'SELLERPLACE_AREA': ft.variable_types.variable.Numeric,\n",
    "    'NAME_SELLER_INDUSTRY': ft.variable_types.variable.Categorical,\n",
    "    'CNT_PAYMENT': ft.variable_types.variable.Numeric,\n",
    "    'NAME_YIELD_GROUP': ft.variable_types.variable.Categorical,\n",
    "    'PRODUCT_COMBINATION': ft.variable_types.variable.Categorical,\n",
    "    'DAYS_FIRST_DRAWING': ft.variable_types.variable.Numeric,\n",
    "    'DAYS_FIRST_DUE': ft.variable_types.variable.Numeric,\n",
    "    'DAYS_LAST_DUE_1ST_VERSION': ft.variable_types.variable.Numeric,\n",
    "    'DAYS_LAST_DUE': ft.variable_types.variable.Numeric,\n",
    "    'DAYS_TERMINATION': ft.variable_types.variable.Numeric,\n",
    "    'NFLAG_INSURED_ON_APPROVAL': ft.variable_types.variable.Numeric\n",
    "}\n",
    "\n",
    "bureau_balance_vtypes = {\n",
    "    'bureaubalance_index': ft.variable_types.variable.Index,\n",
    "    'SK_ID_BUREAU': ft.variable_types.variable.Id,\n",
    "    'MONTHS_BALANCE': ft.variable_types.variable.Numeric,\n",
    "    'STATUS': ft.variable_types.variable.Categorical\n",
    "}\n",
    "\n",
    "cash_vtypes = {\n",
    "    'cash_index': ft.variable_types.variable.Index,\n",
    "    'SK_ID_PREV': ft.variable_types.variable.Id,\n",
    "    'MONTHS_BALANCE': ft.variable_types.variable.Numeric,\n",
    "    'CNT_INSTALMENT': ft.variable_types.variable.Numeric,\n",
    "    'CNT_INSTALMENT_FUTURE': ft.variable_types.variable.Numeric,\n",
    "    'NAME_CONTRACT_STATUS': ft.variable_types.variable.Categorical,\n",
    "    'SK_DPD': ft.variable_types.variable.Numeric,\n",
    "    'SK_DPD_DEF': ft.variable_types.variable.Numeric\n",
    "}\n",
    "\n",
    "installments_vtypes = {\n",
    "    'installments_index': ft.variable_types.variable.Index,\n",
    "    'SK_ID_PREV': ft.variable_types.variable.Id,\n",
    "    'NUM_INSTALMENT_VERSION': ft.variable_types.variable.Numeric,\n",
    "    'NUM_INSTALMENT_NUMBER': ft.variable_types.variable.Numeric,\n",
    "    'DAYS_INSTALMENT': ft.variable_types.variable.Numeric,\n",
    "    'DAYS_ENTRY_PAYMENT': ft.variable_types.variable.Numeric,\n",
    "    'AMT_INSTALMENT': ft.variable_types.variable.Numeric,\n",
    "    'AMT_PAYMENT': ft.variable_types.variable.Numeric\n",
    "}\n",
    "\n",
    "credit_vtypes = {\n",
    "    'credit_index': ft.variable_types.variable.Index,\n",
    "    'SK_ID_PREV': ft.variable_types.variable.Id,\n",
    "    'MONTHS_BALANCE': ft.variable_types.variable.Numeric,\n",
    "    'AMT_BALANCE': ft.variable_types.variable.Numeric,\n",
    "    'AMT_CREDIT_LIMIT_ACTUAL': ft.variable_types.variable.Numeric,\n",
    "    'AMT_DRAWINGS_ATM_CURRENT': ft.variable_types.variable.Numeric,\n",
    "    'AMT_DRAWINGS_CURRENT': ft.variable_types.variable.Numeric,\n",
    "    'AMT_DRAWINGS_OTHER_CURRENT': ft.variable_types.variable.Numeric,\n",
    "    'AMT_DRAWINGS_POS_CURRENT': ft.variable_types.variable.Numeric,\n",
    "    'AMT_INST_MIN_REGULARITY': ft.variable_types.variable.Numeric,\n",
    "    'AMT_PAYMENT_CURRENT': ft.variable_types.variable.Numeric,\n",
    "    'AMT_PAYMENT_TOTAL_CURRENT': ft.variable_types.variable.Numeric,\n",
    "    'AMT_RECEIVABLE_PRINCIPAL': ft.variable_types.variable.Numeric,\n",
    "    'AMT_RECIVABLE': ft.variable_types.variable.Numeric,\n",
    "    'AMT_TOTAL_RECEIVABLE': ft.variable_types.variable.Numeric,\n",
    "    'CNT_DRAWINGS_ATM_CURRENT': ft.variable_types.variable.Numeric,\n",
    "    'CNT_DRAWINGS_CURRENT': ft.variable_types.variable.Numeric,\n",
    "    'CNT_DRAWINGS_OTHER_CURRENT': ft.variable_types.variable.Numeric,\n",
    "    'CNT_DRAWINGS_POS_CURRENT': ft.variable_types.variable.Numeric,\n",
    "    'CNT_INSTALMENT_MATURE_CUM': ft.variable_types.variable.Numeric,\n",
    "    'NAME_CONTRACT_STATUS': ft.variable_types.variable.Categorical,\n",
    "    'SK_DPD': ft.variable_types.variable.Numeric,\n",
    "    'SK_DPD_DEF': ft.variable_types.variable.Numeric\n",
    "}"
   ]
  },
  {
   "cell_type": "markdown",
   "metadata": {},
   "source": [
    "Create the entityset using the previously created Dask dataframes. The process for creating entities and entitysets from Dask dataframes is the same as creating entities and entitysets from pandas dataframes, with the one exception being that the `variable_types` parameter must be used when creating entities from Dask dataframes."
   ]
  },
  {
   "cell_type": "code",
   "execution_count": 8,
   "metadata": {
    "scrolled": true
   },
   "outputs": [
    {
     "name": "stdout",
     "output_type": "stream",
     "text": [
      "Adding relationships...\n",
      "Entityset: clients\n",
      "  Entities:\n",
      "    app [Rows: Delayed('int-a517f98c-8742-480c-a6ef-298417251af9'), Columns: 122]\n",
      "    bureau [Rows: Delayed('int-de9237cf-b8c8-4c8d-9774-83344040b6ff'), Columns: 17]\n",
      "    previous [Rows: Delayed('int-356cd0a8-8f8f-4eb8-a2f9-0813e86372e8'), Columns: 37]\n",
      "    bureau_balance [Rows: Delayed('int-2711e447-0f80-464c-9a2c-f4a83ea82ae1'), Columns: 4]\n",
      "    cash [Rows: Delayed('int-6b7bfcd1-3ba6-43f4-b4ba-58b5fddda54e'), Columns: 8]\n",
      "    installments [Rows: Delayed('int-95b3b938-70e6-4437-ae3f-093e7f2e3b08'), Columns: 8]\n",
      "    credit [Rows: Delayed('int-caa5b6f8-8bba-4647-b61d-461deb233504'), Columns: 23]\n",
      "  Relationships:\n",
      "    bureau.SK_ID_CURR -> app.SK_ID_CURR\n",
      "    bureau_balance.SK_ID_BUREAU -> bureau.SK_ID_BUREAU\n",
      "    previous.SK_ID_CURR -> app.SK_ID_CURR\n",
      "    cash.SK_ID_PREV -> previous.SK_ID_PREV\n",
      "    installments.SK_ID_PREV -> previous.SK_ID_PREV\n",
      "    credit.SK_ID_PREV -> previous.SK_ID_PREV\n",
      "CPU times: user 4.06 s, sys: 411 ms, total: 4.47 s\n",
      "Wall time: 43.3 s\n"
     ]
    }
   ],
   "source": [
    "%%time\n",
    "# Entities with a unique index\n",
    "es = es.entity_from_dataframe(entity_id='app', dataframe=app, index='SK_ID_CURR',\n",
    "                              variable_types=app_vtypes)\n",
    "\n",
    "es = es.entity_from_dataframe(entity_id='bureau', dataframe=bureau, index='SK_ID_BUREAU',\n",
    "                              variable_types=bureau_vtypes)\n",
    "\n",
    "es = es.entity_from_dataframe(entity_id='previous', dataframe=previous, index='SK_ID_PREV',\n",
    "                              variable_types=previous_vtypes)\n",
    "\n",
    "# Entities that do not have a unique index\n",
    "es = es.entity_from_dataframe(entity_id='bureau_balance', dataframe=bureau_balance,\n",
    "                              make_index=True, index='bureaubalance_index',\n",
    "                              variable_types=bureau_balance_vtypes)\n",
    "\n",
    "es = es.entity_from_dataframe(entity_id='cash', dataframe=cash,\n",
    "                              make_index=True, index='cash_index',\n",
    "                              variable_types=cash_vtypes)\n",
    "\n",
    "es = es.entity_from_dataframe(entity_id='installments', dataframe=installments,\n",
    "                              make_index=True, index='installments_index',\n",
    "                              variable_types=installments_vtypes)\n",
    "\n",
    "es = es.entity_from_dataframe(entity_id='credit', dataframe=credit,\n",
    "                              make_index=True, index='credit_index',\n",
    "                              variable_types=credit_vtypes)\n",
    "\n",
    "print(\"Adding relationships...\")\n",
    "# Relationship between app_train and bureau\n",
    "r_app_bureau = ft.Relationship(es['app']['SK_ID_CURR'], es['bureau']['SK_ID_CURR'])\n",
    "\n",
    "# Relationship between bureau and bureau balance\n",
    "r_bureau_balance = ft.Relationship(es['bureau']['SK_ID_BUREAU'], es['bureau_balance']['SK_ID_BUREAU'])\n",
    "\n",
    "# Relationship between current app and previous apps\n",
    "r_app_previous = ft.Relationship(es['app']['SK_ID_CURR'], es['previous']['SK_ID_CURR'])\n",
    "\n",
    "# Relationships between previous apps and cash, installments, and credit\n",
    "r_previous_cash = ft.Relationship(es['previous']['SK_ID_PREV'], es['cash']['SK_ID_PREV'])\n",
    "r_previous_installments = ft.Relationship(es['previous']['SK_ID_PREV'], es['installments']['SK_ID_PREV'])\n",
    "r_previous_credit = ft.Relationship(es['previous']['SK_ID_PREV'], es['credit']['SK_ID_PREV'])\n",
    "\n",
    "# Add in the defined relationships\n",
    "es = es.add_relationships([r_app_bureau, r_bureau_balance, r_app_previous,\n",
    "                           r_previous_cash, r_previous_installments, r_previous_credit])\n",
    "# Print out the EntitySet\n",
    "print(es)"
   ]
  },
  {
   "cell_type": "markdown",
   "metadata": {},
   "source": [
    "Create a `cutoff_times` dataframe to supply to `ft.dfs()`. This step is optional and the `cutoff_time` parameter can be omitted when calling DFS. With the current implementation, supplying a cutoff time dataframe is slightly faster than supplying a single cutoff time value, although both approaches should work equivalently. This is something that should be improved in future updates of Featuretools."
   ]
  },
  {
   "cell_type": "code",
   "execution_count": 9,
   "metadata": {},
   "outputs": [
    {
     "name": "stdout",
     "output_type": "stream",
     "text": [
      "CPU times: user 176 ms, sys: 24.2 ms, total: 200 ms\n",
      "Wall time: 2.5 s\n"
     ]
    }
   ],
   "source": [
    "%%time\n",
    "cutoff_times = app['SK_ID_CURR'].to_frame().rename(columns={\"SK_ID_CURR\":\"instance_id\"})\n",
    "cutoff_times[\"time\"] = datetime.now()\n",
    "cutoff_times = cutoff_times.compute()"
   ]
  },
  {
   "cell_type": "markdown",
   "metadata": {},
   "source": [
    "Run `ft_dfs()` to generate a list of features. We will use this list below to repartition our target entity to help avoid memory issues."
   ]
  },
  {
   "cell_type": "code",
   "execution_count": 10,
   "metadata": {},
   "outputs": [
    {
     "name": "stdout",
     "output_type": "stream",
     "text": [
      "Running DFS...\n",
      "Built 937 features\n",
      "CPU times: user 1.09 s, sys: 23 ms, total: 1.12 s\n",
      "Wall time: 1.1 s\n"
     ]
    }
   ],
   "source": [
    "%%time\n",
    "trans_primitives = primitive_dict[version][0]\n",
    "agg_primitives = primitive_dict[version][1]\n",
    "\n",
    "print(\"Running DFS...\")\n",
    "features = ft.dfs(entityset=es, target_entity='app',\n",
    "                  trans_primitives=trans_primitives,\n",
    "                  agg_primitives=agg_primitives,\n",
    "                  where_primitives=[], seed_features=[],\n",
    "                  max_depth=2, verbose=1, features_only=True,\n",
    "                  cutoff_time=cutoff_times)"
   ]
  },
  {
   "cell_type": "markdown",
   "metadata": {},
   "source": [
    "The number of partitions in the feature matrix dataframe is currently determined from the number of partitions in the target entity. These partitions were set above when we created the dataframes used to create the entityset. For this example, our target entity is the `app` entity.\n",
    "\n",
    "We expect to generate a large number of feature columns in our feature matrix relative to the number of columns in the `app` entity dataframe. The code below will repartition the `app` dataframe, which will, in turn, help us make sure that the partition size for the resulting feature matrix does not get too large, which could result in memory issues when attempting to save or compute the feature matrix."
   ]
  },
  {
   "cell_type": "code",
   "execution_count": 11,
   "metadata": {},
   "outputs": [
    {
     "name": "stdout",
     "output_type": "stream",
     "text": [
      "New Partitions: 48\n",
      "CPU times: user 1.07 ms, sys: 48 µs, total: 1.12 ms\n",
      "Wall time: 1.1 ms\n"
     ]
    }
   ],
   "source": [
    "%%time\n",
    "new_partitions = es['app'].df.npartitions * math.ceil(len(features) / len(es['app'].df.columns))\n",
    "print(\"New Partitions: {}\".format(new_partitions))\n",
    "es['app'].df = es['app'].df.repartition(npartitions=new_partitions)"
   ]
  },
  {
   "cell_type": "markdown",
   "metadata": {},
   "source": [
    "Now, we can run `ft.dfs()` to generate the feature matrix. The feature matrix will be returned as a Dask dataframe."
   ]
  },
  {
   "cell_type": "code",
   "execution_count": 12,
   "metadata": {},
   "outputs": [
    {
     "name": "stdout",
     "output_type": "stream",
     "text": [
      "CPU times: user 3.44 s, sys: 101 ms, total: 3.54 s\n",
      "Wall time: 3.49 s\n"
     ]
    }
   ],
   "source": [
    "%%time\n",
    "fm, features = ft.dfs(entityset=es, target_entity='app',\n",
    "                      trans_primitives=trans_primitives,\n",
    "                      agg_primitives=agg_primitives,\n",
    "                      where_primitives=[], seed_features=[],\n",
    "                      max_depth=2, verbose=0,\n",
    "                      cutoff_time=cutoff_times)"
   ]
  },
  {
   "cell_type": "markdown",
   "metadata": {},
   "source": [
    "The feature matrix can now be saved to disk. Note, this process may take several minutes to complete, depending on the size of the feautre matrix that was generated."
   ]
  },
  {
   "cell_type": "code",
   "execution_count": 13,
   "metadata": {},
   "outputs": [
    {
     "name": "stdout",
     "output_type": "stream",
     "text": [
      "Output feature matrix to CSV...\n",
      "CPU times: user 25.8 s, sys: 2.05 s, total: 27.9 s\n",
      "Wall time: 2min 34s\n"
     ]
    }
   ],
   "source": [
    "%%time\n",
    "fm.to_csv(f\"dask-output-tmp/test_dask_{version}-*.csv\", index=False)"
   ]
  },
  {
   "cell_type": "markdown",
   "metadata": {},
   "source": [
    "Alternatively, the feature matrix can be brought into memory by running `.compute()` on the Dask feature matrix returend from `ft.dfs()`. Note, this process may fail depending on the size of the feature matrix generated and the available system memory."
   ]
  },
  {
   "cell_type": "code",
   "execution_count": 14,
   "metadata": {},
   "outputs": [
    {
     "name": "stdout",
     "output_type": "stream",
     "text": [
      "Shape: (356255, 938)\n",
      "Memory: 1439.2702 MB\n",
      "CPU times: user 26.3 s, sys: 4.63 s, total: 30.9 s\n",
      "Wall time: 1min 57s\n"
     ]
    }
   ],
   "source": [
    "%%time\n",
    "fm_computed = fm.compute()\n",
    "print(\"Shape: {}\".format(fm_computed.shape))\n",
    "print(\"Memory: {} MB\".format(fm_computed.memory_usage().sum() / 1000000))"
   ]
  },
  {
   "cell_type": "code",
   "execution_count": 15,
   "metadata": {},
   "outputs": [
    {
     "data": {
      "text/html": [
       "<div>\n",
       "<style scoped>\n",
       "    .dataframe tbody tr th:only-of-type {\n",
       "        vertical-align: middle;\n",
       "    }\n",
       "\n",
       "    .dataframe tbody tr th {\n",
       "        vertical-align: top;\n",
       "    }\n",
       "\n",
       "    .dataframe thead th {\n",
       "        text-align: right;\n",
       "    }\n",
       "</style>\n",
       "<table border=\"1\" class=\"dataframe\">\n",
       "  <thead>\n",
       "    <tr style=\"text-align: right;\">\n",
       "      <th></th>\n",
       "      <th>AMT_ANNUITY</th>\n",
       "      <th>AMT_CREDIT</th>\n",
       "      <th>AMT_GOODS_PRICE</th>\n",
       "      <th>AMT_INCOME_TOTAL</th>\n",
       "      <th>AMT_REQ_CREDIT_BUREAU_DAY</th>\n",
       "      <th>AMT_REQ_CREDIT_BUREAU_HOUR</th>\n",
       "      <th>AMT_REQ_CREDIT_BUREAU_MON</th>\n",
       "      <th>AMT_REQ_CREDIT_BUREAU_QRT</th>\n",
       "      <th>AMT_REQ_CREDIT_BUREAU_WEEK</th>\n",
       "      <th>AMT_REQ_CREDIT_BUREAU_YEAR</th>\n",
       "      <th>...</th>\n",
       "      <th>MAX(credit.previous.DAYS_FIRST_DUE)</th>\n",
       "      <th>MAX(credit.previous.AMT_GOODS_PRICE)</th>\n",
       "      <th>MAX(credit.previous.AMT_DOWN_PAYMENT)</th>\n",
       "      <th>MAX(credit.previous.CNT_PAYMENT)</th>\n",
       "      <th>MAX(credit.previous.HOUR_APPR_PROCESS_START)</th>\n",
       "      <th>MAX(credit.previous.RATE_DOWN_PAYMENT)</th>\n",
       "      <th>MAX(credit.previous.DAYS_FIRST_DRAWING)</th>\n",
       "      <th>MAX(credit.previous.NFLAG_INSURED_ON_APPROVAL)</th>\n",
       "      <th>MAX(credit.previous.DAYS_LAST_DUE_1ST_VERSION)</th>\n",
       "      <th>SK_ID_CURR</th>\n",
       "    </tr>\n",
       "  </thead>\n",
       "  <tbody>\n",
       "    <tr>\n",
       "      <th>0</th>\n",
       "      <td>24700.5</td>\n",
       "      <td>406597.5</td>\n",
       "      <td>351000.0</td>\n",
       "      <td>202500.0</td>\n",
       "      <td>0.0</td>\n",
       "      <td>0.0</td>\n",
       "      <td>0.0</td>\n",
       "      <td>0.0</td>\n",
       "      <td>0.0</td>\n",
       "      <td>1.0</td>\n",
       "      <td>...</td>\n",
       "      <td>NaN</td>\n",
       "      <td>NaN</td>\n",
       "      <td>NaN</td>\n",
       "      <td>NaN</td>\n",
       "      <td>NaN</td>\n",
       "      <td>NaN</td>\n",
       "      <td>NaN</td>\n",
       "      <td>NaN</td>\n",
       "      <td>NaN</td>\n",
       "      <td>100002</td>\n",
       "    </tr>\n",
       "    <tr>\n",
       "      <th>1</th>\n",
       "      <td>35698.5</td>\n",
       "      <td>1293502.5</td>\n",
       "      <td>1129500.0</td>\n",
       "      <td>270000.0</td>\n",
       "      <td>0.0</td>\n",
       "      <td>0.0</td>\n",
       "      <td>0.0</td>\n",
       "      <td>0.0</td>\n",
       "      <td>0.0</td>\n",
       "      <td>0.0</td>\n",
       "      <td>...</td>\n",
       "      <td>NaN</td>\n",
       "      <td>NaN</td>\n",
       "      <td>NaN</td>\n",
       "      <td>NaN</td>\n",
       "      <td>NaN</td>\n",
       "      <td>NaN</td>\n",
       "      <td>NaN</td>\n",
       "      <td>NaN</td>\n",
       "      <td>NaN</td>\n",
       "      <td>100003</td>\n",
       "    </tr>\n",
       "    <tr>\n",
       "      <th>2</th>\n",
       "      <td>6750.0</td>\n",
       "      <td>135000.0</td>\n",
       "      <td>135000.0</td>\n",
       "      <td>67500.0</td>\n",
       "      <td>0.0</td>\n",
       "      <td>0.0</td>\n",
       "      <td>0.0</td>\n",
       "      <td>0.0</td>\n",
       "      <td>0.0</td>\n",
       "      <td>0.0</td>\n",
       "      <td>...</td>\n",
       "      <td>NaN</td>\n",
       "      <td>NaN</td>\n",
       "      <td>NaN</td>\n",
       "      <td>NaN</td>\n",
       "      <td>NaN</td>\n",
       "      <td>NaN</td>\n",
       "      <td>NaN</td>\n",
       "      <td>NaN</td>\n",
       "      <td>NaN</td>\n",
       "      <td>100004</td>\n",
       "    </tr>\n",
       "    <tr>\n",
       "      <th>3</th>\n",
       "      <td>29686.5</td>\n",
       "      <td>312682.5</td>\n",
       "      <td>297000.0</td>\n",
       "      <td>135000.0</td>\n",
       "      <td>NaN</td>\n",
       "      <td>NaN</td>\n",
       "      <td>NaN</td>\n",
       "      <td>NaN</td>\n",
       "      <td>NaN</td>\n",
       "      <td>NaN</td>\n",
       "      <td>...</td>\n",
       "      <td>NaN</td>\n",
       "      <td>270000.0</td>\n",
       "      <td>NaN</td>\n",
       "      <td>0.0</td>\n",
       "      <td>15.0</td>\n",
       "      <td>NaN</td>\n",
       "      <td>NaN</td>\n",
       "      <td>0.0</td>\n",
       "      <td>NaN</td>\n",
       "      <td>100006</td>\n",
       "    </tr>\n",
       "    <tr>\n",
       "      <th>4</th>\n",
       "      <td>21865.5</td>\n",
       "      <td>513000.0</td>\n",
       "      <td>513000.0</td>\n",
       "      <td>121500.0</td>\n",
       "      <td>0.0</td>\n",
       "      <td>0.0</td>\n",
       "      <td>0.0</td>\n",
       "      <td>0.0</td>\n",
       "      <td>0.0</td>\n",
       "      <td>0.0</td>\n",
       "      <td>...</td>\n",
       "      <td>NaN</td>\n",
       "      <td>NaN</td>\n",
       "      <td>NaN</td>\n",
       "      <td>NaN</td>\n",
       "      <td>NaN</td>\n",
       "      <td>NaN</td>\n",
       "      <td>NaN</td>\n",
       "      <td>NaN</td>\n",
       "      <td>NaN</td>\n",
       "      <td>100007</td>\n",
       "    </tr>\n",
       "  </tbody>\n",
       "</table>\n",
       "<p>5 rows × 938 columns</p>\n",
       "</div>"
      ],
      "text/plain": [
       "   AMT_ANNUITY  AMT_CREDIT  AMT_GOODS_PRICE  AMT_INCOME_TOTAL  \\\n",
       "0      24700.5    406597.5         351000.0          202500.0   \n",
       "1      35698.5   1293502.5        1129500.0          270000.0   \n",
       "2       6750.0    135000.0         135000.0           67500.0   \n",
       "3      29686.5    312682.5         297000.0          135000.0   \n",
       "4      21865.5    513000.0         513000.0          121500.0   \n",
       "\n",
       "   AMT_REQ_CREDIT_BUREAU_DAY  AMT_REQ_CREDIT_BUREAU_HOUR  \\\n",
       "0                        0.0                         0.0   \n",
       "1                        0.0                         0.0   \n",
       "2                        0.0                         0.0   \n",
       "3                        NaN                         NaN   \n",
       "4                        0.0                         0.0   \n",
       "\n",
       "   AMT_REQ_CREDIT_BUREAU_MON  AMT_REQ_CREDIT_BUREAU_QRT  \\\n",
       "0                        0.0                        0.0   \n",
       "1                        0.0                        0.0   \n",
       "2                        0.0                        0.0   \n",
       "3                        NaN                        NaN   \n",
       "4                        0.0                        0.0   \n",
       "\n",
       "   AMT_REQ_CREDIT_BUREAU_WEEK  AMT_REQ_CREDIT_BUREAU_YEAR  ...  \\\n",
       "0                         0.0                         1.0  ...   \n",
       "1                         0.0                         0.0  ...   \n",
       "2                         0.0                         0.0  ...   \n",
       "3                         NaN                         NaN  ...   \n",
       "4                         0.0                         0.0  ...   \n",
       "\n",
       "   MAX(credit.previous.DAYS_FIRST_DUE)  MAX(credit.previous.AMT_GOODS_PRICE)  \\\n",
       "0                                  NaN                                   NaN   \n",
       "1                                  NaN                                   NaN   \n",
       "2                                  NaN                                   NaN   \n",
       "3                                  NaN                              270000.0   \n",
       "4                                  NaN                                   NaN   \n",
       "\n",
       "   MAX(credit.previous.AMT_DOWN_PAYMENT)  MAX(credit.previous.CNT_PAYMENT)  \\\n",
       "0                                    NaN                               NaN   \n",
       "1                                    NaN                               NaN   \n",
       "2                                    NaN                               NaN   \n",
       "3                                    NaN                               0.0   \n",
       "4                                    NaN                               NaN   \n",
       "\n",
       "   MAX(credit.previous.HOUR_APPR_PROCESS_START)  \\\n",
       "0                                           NaN   \n",
       "1                                           NaN   \n",
       "2                                           NaN   \n",
       "3                                          15.0   \n",
       "4                                           NaN   \n",
       "\n",
       "   MAX(credit.previous.RATE_DOWN_PAYMENT)  \\\n",
       "0                                     NaN   \n",
       "1                                     NaN   \n",
       "2                                     NaN   \n",
       "3                                     NaN   \n",
       "4                                     NaN   \n",
       "\n",
       "   MAX(credit.previous.DAYS_FIRST_DRAWING)  \\\n",
       "0                                      NaN   \n",
       "1                                      NaN   \n",
       "2                                      NaN   \n",
       "3                                      NaN   \n",
       "4                                      NaN   \n",
       "\n",
       "   MAX(credit.previous.NFLAG_INSURED_ON_APPROVAL)  \\\n",
       "0                                             NaN   \n",
       "1                                             NaN   \n",
       "2                                             NaN   \n",
       "3                                             0.0   \n",
       "4                                             NaN   \n",
       "\n",
       "  MAX(credit.previous.DAYS_LAST_DUE_1ST_VERSION)  SK_ID_CURR  \n",
       "0                                            NaN      100002  \n",
       "1                                            NaN      100003  \n",
       "2                                            NaN      100004  \n",
       "3                                            NaN      100006  \n",
       "4                                            NaN      100007  \n",
       "\n",
       "[5 rows x 938 columns]"
      ]
     },
     "execution_count": 15,
     "metadata": {},
     "output_type": "execute_result"
    }
   ],
   "source": [
    "fm_computed.head()"
   ]
  },
  {
   "cell_type": "markdown",
   "metadata": {},
   "source": [
    "Now that we are finished, we can close our Dask client."
   ]
  },
  {
   "cell_type": "code",
   "execution_count": 16,
   "metadata": {},
   "outputs": [],
   "source": [
    "client.close()"
   ]
  },
  {
   "cell_type": "code",
   "execution_count": null,
   "metadata": {},
   "outputs": [],
   "source": []
  }
 ],
 "metadata": {
  "kernelspec": {
   "display_name": "Python 3.7.4 64-bit ('env': venv)",
   "language": "python",
   "name": "python37464bitenvvenvb0576f6089f14bba82265783ef39e793"
  },
  "language_info": {
   "codemirror_mode": {
    "name": "ipython",
    "version": 3
   },
   "file_extension": ".py",
   "mimetype": "text/x-python",
   "name": "python",
   "nbconvert_exporter": "python",
   "pygments_lexer": "ipython3",
   "version": "3.7.4"
  }
 },
 "nbformat": 4,
 "nbformat_minor": 2
}
