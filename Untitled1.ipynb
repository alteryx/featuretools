{
 "cells": [
  {
   "cell_type": "code",
   "execution_count": 1,
   "id": "16c62a18",
   "metadata": {},
   "outputs": [],
   "source": [
    "import pandas as pd\n",
    "import featuretools as ft"
   ]
  },
  {
   "cell_type": "code",
   "execution_count": 2,
   "id": "b1cba4b9",
   "metadata": {},
   "outputs": [],
   "source": [
    "df = pd.DataFrame({\n",
    "    \"id\": [0, 1, 2],\n",
    "    \"nl\": [\"text\", \"natural language\", \"there is a bug\"],\n",
    "})"
   ]
  },
  {
   "cell_type": "code",
   "execution_count": 3,
   "id": "37127bab",
   "metadata": {},
   "outputs": [],
   "source": [
    "es = ft.EntitySet()"
   ]
  },
  {
   "cell_type": "code",
   "execution_count": 4,
   "id": "4e1a452a",
   "metadata": {},
   "outputs": [
    {
     "data": {
      "text/plain": [
       "Entityset: None\n",
       "  DataFrames:\n",
       "    df [Rows: 3, Columns: 2]\n",
       "  Relationships:\n",
       "    No relationships"
      ]
     },
     "execution_count": 4,
     "metadata": {},
     "output_type": "execute_result"
    }
   ],
   "source": [
    "es.add_dataframe(dataframe=df, dataframe_name=\"df\", index=\"id\")"
   ]
  },
  {
   "cell_type": "code",
   "execution_count": 5,
   "id": "045163d7",
   "metadata": {},
   "outputs": [
    {
     "name": "stderr",
     "output_type": "stream",
     "text": [
      "/Users/nate.parsons/dev/featuretools/featuretools/synthesis/deep_feature_synthesis.py:161: UserWarning: Only one dataframe in entityset, changing max_depth to 1 since deeper features cannot be created\n",
      "  warnings.warn(\n"
     ]
    }
   ],
   "source": [
    "feature_matrix, _ = ft.dfs(entityset=es, target_dataframe_name=\"df\", trans_primitives=[\"lsa\"])"
   ]
  },
  {
   "cell_type": "code",
   "execution_count": 8,
   "id": "e8271826",
   "metadata": {},
   "outputs": [],
   "source": [
    "feature_matrix.ww[\"LSA(nl)[0]\"].ww.origin"
   ]
  },
  {
   "cell_type": "code",
   "execution_count": 9,
   "id": "2575eb68",
   "metadata": {},
   "outputs": [
    {
     "data": {
      "text/plain": [
       "'engineered'"
      ]
     },
     "execution_count": 9,
     "metadata": {},
     "output_type": "execute_result"
    }
   ],
   "source": [
    "feature_matrix.ww[\"LSA(nl)[1]\"].ww.origin"
   ]
  },
  {
   "cell_type": "code",
   "execution_count": null,
   "id": "f847af8f",
   "metadata": {},
   "outputs": [],
   "source": []
  }
 ],
 "metadata": {
  "kernelspec": {
   "display_name": "Python 3 (ipykernel)",
   "language": "python",
   "name": "python3"
  },
  "language_info": {
   "codemirror_mode": {
    "name": "ipython",
    "version": 3
   },
   "file_extension": ".py",
   "mimetype": "text/x-python",
   "name": "python",
   "nbconvert_exporter": "python",
   "pygments_lexer": "ipython3",
   "version": "3.8.10"
  }
 },
 "nbformat": 4,
 "nbformat_minor": 5
}
