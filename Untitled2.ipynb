{
 "cells": [
  {
   "cell_type": "code",
   "execution_count": 1,
   "id": "cd2dc175",
   "metadata": {},
   "outputs": [],
   "source": [
    "from random import randint\n",
    "import numpy as np\n",
    "import pandas as pd"
   ]
  },
  {
   "cell_type": "code",
   "execution_count": 2,
   "id": "03b33ec5",
   "metadata": {},
   "outputs": [],
   "source": [
    "nrows=10000000\n",
    "ser1 = pd.Series([randint(-10000, 10000) for _ in range(nrows)])\n",
    "ser2 = pd.Series([randint(-10000, 10000) for _ in range(nrows)])"
   ]
  },
  {
   "cell_type": "code",
   "execution_count": 3,
   "id": "62e2228f",
   "metadata": {},
   "outputs": [
    {
     "name": "stdout",
     "output_type": "stream",
     "text": [
      "12.4 ms ± 70.5 µs per loop (mean ± std. dev. of 7 runs, 100 loops each)\n"
     ]
    }
   ],
   "source": [
    "%%timeit\n",
    "ser1 / ser2"
   ]
  },
  {
   "cell_type": "code",
   "execution_count": 4,
   "id": "45aff16c",
   "metadata": {},
   "outputs": [
    {
     "name": "stdout",
     "output_type": "stream",
     "text": [
      "12.9 ms ± 198 µs per loop (mean ± std. dev. of 7 runs, 100 loops each)\n"
     ]
    }
   ],
   "source": [
    "%%timeit\n",
    "np.divide(ser1, ser2)"
   ]
  },
  {
   "cell_type": "code",
   "execution_count": 5,
   "id": "7c28c51a",
   "metadata": {},
   "outputs": [
    {
     "data": {
      "text/plain": [
       "0    8306\n",
       "1   -7546\n",
       "2   -2725\n",
       "3   -5632\n",
       "4    7445\n",
       "dtype: int64"
      ]
     },
     "execution_count": 5,
     "metadata": {},
     "output_type": "execute_result"
    }
   ],
   "source": [
    "ser1.head()"
   ]
  },
  {
   "cell_type": "code",
   "execution_count": 6,
   "id": "f4c25b94",
   "metadata": {},
   "outputs": [
    {
     "data": {
      "text/plain": [
       "0   -9671\n",
       "1   -2867\n",
       "2    7280\n",
       "3   -7738\n",
       "4   -5797\n",
       "dtype: int64"
      ]
     },
     "execution_count": 6,
     "metadata": {},
     "output_type": "execute_result"
    }
   ],
   "source": [
    "ser2.head()"
   ]
  },
  {
   "cell_type": "code",
   "execution_count": null,
   "id": "ad66e87c",
   "metadata": {},
   "outputs": [],
   "source": []
  }
 ],
 "metadata": {
  "kernelspec": {
   "display_name": "Python 3 (ipykernel)",
   "language": "python",
   "name": "python3"
  },
  "language_info": {
   "codemirror_mode": {
    "name": "ipython",
    "version": 3
   },
   "file_extension": ".py",
   "mimetype": "text/x-python",
   "name": "python",
   "nbconvert_exporter": "python",
   "pygments_lexer": "ipython3",
   "version": "3.8.10"
  }
 },
 "nbformat": 4,
 "nbformat_minor": 5
}
