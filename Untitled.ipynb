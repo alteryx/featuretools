{
 "cells": [
  {
   "cell_type": "code",
   "execution_count": null,
   "id": "bffe430d",
   "metadata": {},
   "outputs": [],
   "source": [
    "import numpy as np\n",
    "import pandas as pd\n",
    "\n",
    "b = pd.Series([False, False, False, True, True, False, True], dtype=\"boolean\")"
   ]
  },
  {
   "cell_type": "code",
   "execution_count": null,
   "id": "480398f0",
   "metadata": {},
   "outputs": [],
   "source": [
    "c = b.groupby(b).transform(\"size\") == 2"
   ]
  },
  {
   "cell_type": "code",
   "execution_count": null,
   "id": "2b4b8cce",
   "metadata": {},
   "outputs": [],
   "source": [
    "c"
   ]
  },
  {
   "cell_type": "code",
   "execution_count": null,
   "id": "1fd20505",
   "metadata": {},
   "outputs": [],
   "source": [
    "np.where(g, 1, -1)"
   ]
  },
  {
   "cell_type": "code",
   "execution_count": null,
   "id": "247ddd69",
   "metadata": {},
   "outputs": [],
   "source": [
    "df[\"Count\"] = df.groupby(g)[\"Mask\"].transform(\"size\") * np.where(g, 1, -1)"
   ]
  }
 ],
 "metadata": {
  "kernelspec": {
   "display_name": "Python 3 (ipykernel)",
   "language": "python",
   "name": "python3"
  },
  "language_info": {
   "codemirror_mode": {
    "name": "ipython",
    "version": 3
   },
   "file_extension": ".py",
   "mimetype": "text/x-python",
   "name": "python",
   "nbconvert_exporter": "python",
   "pygments_lexer": "ipython3",
   "version": "3.10.9"
  }
 },
 "nbformat": 4,
 "nbformat_minor": 5
}
