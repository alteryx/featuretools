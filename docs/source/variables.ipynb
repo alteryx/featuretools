{
 "cells": [
  {
   "cell_type": "markdown",
   "metadata": {},
   "source": [
    "# Variable Types\n",
    "\n",
    "A Variable is analogous to a column in table in a relational database. It is important that datasets have appropriately defined variable types because this will allow the right primitives to be used to generate new features. \n",
    "\n",
    "To understand the different variable types in Featuretools, let's first look at a graph of the variables:"
   ]
  },
  {
   "cell_type": "code",
   "execution_count": null,
   "metadata": {},
   "outputs": [],
   "source": [
    "from featuretools.variable_types.utils import graph_variable_types\n",
    "graph_variable_types()"
   ]
  },
  {
   "cell_type": "markdown",
   "metadata": {},
   "source": [
    "As we can see, there are multiple variable types and some have subclassed variable types. For example, ZIPCode is variable type that is child of Categorical type which is a subtype of Discrete type. "
   ]
  },
  {
   "cell_type": "markdown",
   "metadata": {},
   "source": [
    "Let's explore some of the Variable Types and understand them in detail."
   ]
  },
  {
   "cell_type": "markdown",
   "metadata": {},
   "source": [
    "## Discrete\n",
    "\n",
    "A Discrete variable type is one that can only take certain values. It is a type of data that can be counted, but cannot be measured. If you are able to classify the data into distinct buckets, then it a discrete variable type. \n",
    "\n",
    "There are 2 sub-variable types of Discrete. These are Categorical, and Ordinal. If the data has a certain ordering, it is of Ordinal type. If it cannot be ordered, then is a Categorical type. \n",
    "\n",
    "### Categorical \n",
    "\n",
    "A Categorical variable type is one that can take an unordered discrete values. It is usually a limited, and fixed number of possible values. Categorical variable types can be represented as strings, or integers. \n",
    "\n",
    "### Ordinal\n",
    "\n",
    "A Ordinal variable type is one that can take an ordered discrete values. Similar to Categorical, it is usually a limited, and fixed number of possible values. However, these discrete values have a certain order, and the ordering is important to understanding the values. Ordinal variable types can be represented as strings, or integers. \n",
    "\n",
    "Some examples of Ordinal variable types:\n",
    "- Educational Background (Elementary, High School, Undergraduate, Graduate)"
   ]
  },
  {
   "cell_type": "markdown",
   "metadata": {},
   "source": [
    "We can also get all the variable types as a DataFrame."
   ]
  },
  {
   "cell_type": "code",
   "execution_count": null,
   "metadata": {},
   "outputs": [],
   "source": [
    "from featuretools.variable_types.utils import list_variable_types\n",
    "list_variable_types()"
   ]
  }
 ],
 "metadata": {
  "kernelspec": {
   "display_name": "Python 3",
   "language": "python",
   "name": "python3"
  },
  "language_info": {
   "codemirror_mode": {
    "name": "ipython",
    "version": 3
   },
   "file_extension": ".py",
   "mimetype": "text/x-python",
   "name": "python",
   "nbconvert_exporter": "python",
   "pygments_lexer": "ipython3",
   "version": "3.6.9"
  }
 },
 "nbformat": 4,
 "nbformat_minor": 4
}
