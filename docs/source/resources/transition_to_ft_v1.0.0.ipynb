{
 "cells": [
  {
   "cell_type": "markdown",
   "id": "6004844f",
   "metadata": {},
   "source": [
    "# Transitioning to Featuretools Version 1.0.0\n",
    "\n",
    "Featuretools version 1.0.0 incorporates many significant changes that impact the way EntitySets are created, how primitives are defined, and in some cases the resulting feature matrix that is created. This document will provide an overview of the significant changs, helping existing Featuretools users transition to version 1.0.0.\n",
    "\n",
    "### Why make these changes?\n",
    "Over time it became clear that several open source libraries were defining custom type systems to define variable types for columns in a dataframe. Having custom type systems in individual libraries makes it difficult to communicate typing information between the libraries.\n",
    "\n",
    "To help resolve this problem, a new libary called [Woodwork](https://woodwork.alteryx.com/en/stable/) was developed to help implement a standard typing system that can be shared by multiple libraries. These changes are being made to replace the existing custom type system defined in older versions of Featuretools, with the typing system defined byu Woodwork. The use of Woodwork in Featuretools will allow typing in a feature matrix created by Featuretools to be used seamlessly for creating machine learning models using [EvalML](https://evalml.alteryx.com/en/stable/), which also uses Woodwork to manage typing information."
   ]
  },
  {
   "cell_type": "markdown",
   "id": "4a9bfede",
   "metadata": {},
   "source": [
    "### What has changed?\n",
    "Previous releases of Featuretools used a custom type system to define the types for each column in a dataframe. This typing information was stored in a `Variable`, and the types for all columns in a dataframe were stored in an `Entity`. The biggest change with the integration of Woodwork into Featuretools is that both the `Entity` and `Variable` classes have been removed from Featuretools.\n",
    "\n",
    "The previous `Entity` class has been replaced by a Woodwork dataframe. The Woodwork dataframe now stores all of the column typing information that was previously stored in the `Entity`.\n",
    "\n",
    "Column typing information which was previously stored as a Featuretools `Variable` is now stored on the Woodwork dataframe as a `ColumnSchema` object. The typing information for the column is stored as a combination of a Woodwork `LogicalType` and one or more `semantic_tags` inside the `ColumnSchema` object. For more information on how Woodwork manages typing information, refer to the [Woodwork Understanding Types and Tags](https://woodwork.alteryx.com/en/stable/guides/logical_types_and_semantic_tags.html) guide."
   ]
  },
  {
   "cell_type": "markdown",
   "id": "a8453248",
   "metadata": {},
   "source": [
    "### What do these changes mean for users?\n",
    "The removal of these classes required several methods that were previously called from an `Entity` object to be moved to the `EntitySet` object instead. This change also impacts the way relationships, features and primitives are defined, requiring different parameters than were previously required. Also, in some cases, because the Woodwork typing system is not identical to the old Featuretools typing system, the feature matrix that is returned can be slightly different as a result of columns being identified as different types.\n",
    "\n",
    "All of these changes, and more, will be reviewed in more detail throughout this document, providing examples of both the old and new API where possible."
   ]
  },
  {
   "cell_type": "markdown",
   "id": "de402e3b",
   "metadata": {},
   "source": [
    "## Removal of `Entity` Class and Updates to `EntitySet`\n",
    "\n",
    "In previous versions of Featuretools and EntitySet was created by adding multiple entities and then defining relationships between variables (columns) in different entities. Starting in Featuretools version 1.0.0, EntitySets are now created by adding multiple dataframes and defining relationships between columns in the dataframes. While conceptually similar, there are some minor differences in the process.\n",
    "\n",
    "### Adding dataframes to an EntitySet\n",
    "\n",
    "When adding dataframes to an EntitySet, users can pass in a Woodwork dataframe, or a regular dataframe without Woodwork typing information. As before, Featuretools support creating EntitySets from pandas, Dask and Koalas dataframes. If users supply a dataframe that has Woodwork typing information initialized, Featuretools will simply use this typing information directly, If users supply a dataframe without Woodwork initialized, Featuretools will initialize Woodwork on the dataframe, peforming type inference for any column that does not have typing information specified.\n",
    "\n",
    "Below are some examples to illustrate this process. First we will create two small dataframes to use for the example."
   ]
  },
  {
   "cell_type": "code",
   "execution_count": 15,
   "id": "5bea1bd4",
   "metadata": {},
   "outputs": [],
   "source": [
    "import featuretools as ft\n",
    "import pandas as pd\n",
    "import woodwork as ww"
   ]
  },
  {
   "cell_type": "code",
   "execution_count": 22,
   "id": "b094ca23",
   "metadata": {},
   "outputs": [],
   "source": [
    "orders_df = pd.DataFrame({\n",
    "    'order_id': [0, 1, 2],\n",
    "    'order_date': ['2021-01-02', '2021-01-03', '2021-01-04']\n",
    "})\n",
    "items_df = pd.DataFrame({\n",
    "    'id': [0, 1, 2, 3, 4],\n",
    "    'order_id': [0, 1, 1, 2, 2],\n",
    "    'item_price': [29.95, 4.99, 10.25, 20.05, 15.99]\n",
    "})"
   ]
  },
  {
   "cell_type": "markdown",
   "id": "db705814",
   "metadata": {},
   "source": [
    "With older versions of Featuretools,users would first create an EntitySet object, and then add dataframes to the EntitySet, by calling `entity_from_dataframe` as shown below.\n",
    "\n",
    "```python\n",
    "es = ft.EntitySet('old_es')\n",
    "\n",
    "es.entity_from_dataframe(dataframe=orders_df,\n",
    "                         entity_id='orders',\n",
    "                         index='order_id',\n",
    "                         time_index='order_date')\n",
    "es.entity_from_dataframe(dataframe=items_df,\n",
    "                         entity_id='items',\n",
    "                         index='id')\n",
    "es\n",
    "```\n",
    "\n",
    "```\n",
    "Entityset: old_es\n",
    "  Entities:\n",
    "    orders [Rows: 3, Columns: 2]\n",
    "    items [Rows: 5, Columns: 3]\n",
    "  Relationships:\n",
    "    No relationships\n",
    "```"
   ]
  },
  {
   "cell_type": "markdown",
   "id": "f6f95f35",
   "metadata": {},
   "source": [
    "With Featuretools v1.0.0, the steps for adding a dataframe to an EntitySet are the same, but some of the details have changed. First, create an EntitySet as before. To add the dataframe call `EntitySet.add_dataframe` in place of the previous `EntitySet.entity_from_dataframe` call. Note that the name of the dataframe is specified in the `dataframe_name` argument, which was previously called `entity_id`."
   ]
  },
  {
   "cell_type": "code",
   "execution_count": 23,
   "id": "b1fdffe4",
   "metadata": {},
   "outputs": [
    {
     "data": {
      "text/plain": [
       "Entityset: new_es\n",
       "  DataFrames:\n",
       "    orders [Rows: 3, Columns: 2]\n",
       "  Relationships:\n",
       "    No relationships"
      ]
     },
     "execution_count": 23,
     "metadata": {},
     "output_type": "execute_result"
    }
   ],
   "source": [
    "es = ft.EntitySet('new_es')\n",
    "\n",
    "es.add_dataframe(dataframe=orders_df,\n",
    "                 dataframe_name='orders',\n",
    "                 index='order_id',\n",
    "                 time_index='order_date')"
   ]
  },
  {
   "cell_type": "markdown",
   "id": "1c983744",
   "metadata": {},
   "source": [
    "You can also define the name, index and time index by first initializing Woodwork on the dataframe and then passing the Woodwork initialized dataframe directly to the `add_dataframe` call. For this example we will initialize Woodwork on `items_df`, setting the dataframe name as `items` and specifying that the index should be the `id` column."
   ]
  },
  {
   "cell_type": "code",
   "execution_count": 24,
   "id": "0d5ad8e5",
   "metadata": {},
   "outputs": [
    {
     "data": {
      "text/html": [
       "<table border=\"1\" class=\"dataframe\">\n",
       "  <thead>\n",
       "    <tr style=\"text-align: right;\">\n",
       "      <th></th>\n",
       "      <th>Physical Type</th>\n",
       "      <th>Logical Type</th>\n",
       "      <th>Semantic Tag(s)</th>\n",
       "    </tr>\n",
       "    <tr>\n",
       "      <th>Column</th>\n",
       "      <th></th>\n",
       "      <th></th>\n",
       "      <th></th>\n",
       "    </tr>\n",
       "  </thead>\n",
       "  <tbody>\n",
       "    <tr>\n",
       "      <th>id</th>\n",
       "      <td>int64</td>\n",
       "      <td>Integer</td>\n",
       "      <td>['index']</td>\n",
       "    </tr>\n",
       "    <tr>\n",
       "      <th>order_id</th>\n",
       "      <td>int64</td>\n",
       "      <td>Integer</td>\n",
       "      <td>['numeric']</td>\n",
       "    </tr>\n",
       "    <tr>\n",
       "      <th>item_price</th>\n",
       "      <td>float64</td>\n",
       "      <td>Double</td>\n",
       "      <td>['numeric']</td>\n",
       "    </tr>\n",
       "  </tbody>\n",
       "</table>"
      ],
      "text/plain": [
       "           Physical Type Logical Type Semantic Tag(s)\n",
       "Column                                               \n",
       "id                 int64      Integer       ['index']\n",
       "order_id           int64      Integer     ['numeric']\n",
       "item_price       float64       Double     ['numeric']"
      ]
     },
     "execution_count": 24,
     "metadata": {},
     "output_type": "execute_result"
    }
   ],
   "source": [
    "items_df.ww.init(name='items', index='id')\n",
    "items_df.ww"
   ]
  },
  {
   "cell_type": "markdown",
   "id": "07f5f27c",
   "metadata": {},
   "source": [
    "With Woodwork initialized, we no longer need to specify values for the `dataframe_name` or `index` arguments when calling `add_dataframe` as Featuretools will simply use the values that were already specified when Woodwork was initialized."
   ]
  },
  {
   "cell_type": "code",
   "execution_count": 20,
   "id": "5f4ab39a",
   "metadata": {},
   "outputs": [
    {
     "data": {
      "text/plain": [
       "Entityset: new_es\n",
       "  DataFrames:\n",
       "    orders [Rows: 3, Columns: 2]\n",
       "    items [Rows: 5, Columns: 3]\n",
       "  Relationships:\n",
       "    No relationships"
      ]
     },
     "execution_count": 20,
     "metadata": {},
     "output_type": "execute_result"
    }
   ],
   "source": [
    "es.add_dataframe(dataframe=items_df)"
   ]
  },
  {
   "cell_type": "markdown",
   "id": "93814387",
   "metadata": {},
   "source": [
    "### Accessing column typing information\n"
   ]
  },
  {
   "cell_type": "code",
   "execution_count": null,
   "id": "6abb9b10",
   "metadata": {},
   "outputs": [],
   "source": []
  }
 ],
 "metadata": {
  "kernelspec": {
   "display_name": "Python 3",
   "language": "python",
   "name": "python3"
  },
  "language_info": {
   "codemirror_mode": {
    "name": "ipython",
    "version": 3
   },
   "file_extension": ".py",
   "mimetype": "text/x-python",
   "name": "python",
   "nbconvert_exporter": "python",
   "pygments_lexer": "ipython3",
   "version": "3.8.5"
  }
 },
 "nbformat": 4,
 "nbformat_minor": 5
}
