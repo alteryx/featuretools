{
 "cells": [
  {
   "cell_type": "markdown",
   "id": "6004844f",
   "metadata": {},
   "source": [
    "# Transitioning to Featuretools Version 1.0\n",
    "\n",
    "Featuretools version 1.0 incorporates many significant changes that impact the way EntitySets are created, how primitives are defined, and in some cases the resulting feature matrix that is created. This document will provide an overview of the significant changs, helping existing Featuretools users transition to version 1.0.\n",
    "\n",
    "## Background and Introduction\n",
    "\n",
    "### Why make these changes?\n",
    "Over time it became clear that several open source libraries were defining custom type systems to define variable types for columns in a dataframe. Having custom type systems in individual libraries makes it difficult to communicate typing information between the libraries.\n",
    "\n",
    "To help resolve this problem, a new libary called [Woodwork](https://woodwork.alteryx.com/en/stable/) was developed to help implement a standard typing system that can be shared by multiple libraries. These changes are being made to replace the existing custom type system defined in older versions of Featuretools, with the typing system defined byu Woodwork. The use of Woodwork in Featuretools will allow typing in a feature matrix created by Featuretools to be used seamlessly for creating machine learning models using [EvalML](https://evalml.alteryx.com/en/stable/), which also uses Woodwork to manage typing information."
   ]
  },
  {
   "cell_type": "markdown",
   "id": "4a9bfede",
   "metadata": {},
   "source": [
    "### What has changed?\n",
    "Previous releases of Featuretools used a custom type system to define the types for each column in a dataframe. This typing information was stored in a `Variable`, and the types for all columns in a dataframe were stored in an `Entity`. The biggest change with the integration of Woodwork into Featuretools is that both the `Entity` and `Variable` classes have been removed from Featuretools.\n",
    "\n",
    "The previous `Entity` class has been replaced by a Woodwork dataframe. The Woodwork dataframe now stores all of the column typing information that was previously stored in the `Entity`.\n",
    "\n",
    "Column typing information which was previously stored as a Featuretools `Variable` is now stored on the Woodwork dataframe as a `ColumnSchema` object. The typing information for the column is stored as a combination of a Woodwork `LogicalType` and one or more `semantic_tags` inside the `ColumnSchema` object. For more information on how Woodwork manages typing information, refer to the [Woodwork Understanding Types and Tags](https://woodwork.alteryx.com/en/stable/guides/logical_types_and_semantic_tags.html) guide."
   ]
  },
  {
   "cell_type": "markdown",
   "id": "a8453248",
   "metadata": {},
   "source": [
    "### What do these changes mean for users?\n",
    "The removal of these classes required several methods that were previously called from an `Entity` object to be moved to the `EntitySet` object instead. This change also impacts the way relationships, features and primitives are defined, requiring different parameters than were previously required. Also, in some cases, because the Woodwork typing system is not identical to the old Featuretools typing system, the feature matrix that is returned can be slightly different as a result of columns being identified as different types.\n",
    "\n",
    "All of these changes, and more, will be reviewed in more detail throughout this document, providing examples of both the old and new API where possible."
   ]
  },
  {
   "cell_type": "markdown",
   "id": "de402e3b",
   "metadata": {},
   "source": [
    "## Removal of `Entity` Class and Updates to `EntitySet`\n",
    "\n",
    "In previous versions of Featuretools and EntitySet was created by adding multiple entities and then defining relationships between variables (columns) in different entities. Starting in Featuretools version 1.0, EntitySets are now created by adding multiple dataframes and defining relationships between columns in the dataframes. While conceptually similar, there are some minor differences in the process.\n",
    "\n",
    "### Adding dataframes to an EntitySet\n",
    "\n",
    "When adding dataframes to an EntitySet, users can pass in a Woodwork dataframe, or a regular dataframe without Woodwork typing information. As before, Featuretools support creating EntitySets from pandas, Dask and Koalas dataframes. If users supply a dataframe that has Woodwork typing information initialized, Featuretools will simply use this typing information directly, If users supply a dataframe without Woodwork initialized, Featuretools will initialize Woodwork on the dataframe, peforming type inference for any column that does not have typing information specified.\n",
    "\n",
    "Below are some examples to illustrate this process. First we will create two small dataframes to use for the example."
   ]
  },
  {
   "cell_type": "code",
   "execution_count": 3,
   "id": "5bea1bd4",
   "metadata": {},
   "outputs": [],
   "source": [
    "import featuretools as ft\n",
    "import pandas as pd\n",
    "import woodwork as ww"
   ]
  },
  {
   "cell_type": "code",
   "execution_count": 4,
   "id": "b094ca23",
   "metadata": {},
   "outputs": [],
   "source": [
    "orders_df = pd.DataFrame({\n",
    "    'order_id': [0, 1, 2],\n",
    "    'order_date': ['2021-01-02', '2021-01-03', '2021-01-04']\n",
    "})\n",
    "items_df = pd.DataFrame({\n",
    "    'id': [0, 1, 2, 3, 4],\n",
    "    'order_id': [0, 1, 1, 2, 2],\n",
    "    'item_price': [29.95, 4.99, 10.25, 20.50, 15.99],\n",
    "    'on_sale': [False, True, False, True, False]\n",
    "})"
   ]
  },
  {
   "cell_type": "markdown",
   "id": "db705814",
   "metadata": {},
   "source": [
    "With older versions of Featuretools,users would first create an EntitySet object, and then add dataframes to the EntitySet, by calling `entity_from_dataframe` as shown below.\n",
    "\n",
    "```python\n",
    "es = ft.EntitySet('old_es')\n",
    "\n",
    "es.entity_from_dataframe(dataframe=orders_df,\n",
    "                         entity_id='orders',\n",
    "                         index='order_id',\n",
    "                         time_index='order_date')\n",
    "es.entity_from_dataframe(dataframe=items_df,\n",
    "                         entity_id='items',\n",
    "                         index='id')\n",
    "es\n",
    "```\n",
    "\n",
    "```\n",
    "Entityset: old_es\n",
    "  Entities:\n",
    "    orders [Rows: 3, Columns: 2]\n",
    "    items [Rows: 5, Columns: 3]\n",
    "  Relationships:\n",
    "    No relationships\n",
    "```"
   ]
  },
  {
   "cell_type": "markdown",
   "id": "f6f95f35",
   "metadata": {},
   "source": [
    "With Featuretools v1.0, the steps for adding a dataframe to an EntitySet are the same, but some of the details have changed. First, create an EntitySet as before. To add the dataframe call `EntitySet.add_dataframe` in place of the previous `EntitySet.entity_from_dataframe` call. Note that the name of the dataframe is specified in the `dataframe_name` argument, which was previously called `entity_id`."
   ]
  },
  {
   "cell_type": "code",
   "execution_count": 5,
   "id": "b1fdffe4",
   "metadata": {},
   "outputs": [
    {
     "data": {
      "text/plain": [
       "Entityset: new_es\n",
       "  DataFrames:\n",
       "    orders [Rows: 3, Columns: 2]\n",
       "  Relationships:\n",
       "    No relationships"
      ]
     },
     "execution_count": 5,
     "metadata": {},
     "output_type": "execute_result"
    }
   ],
   "source": [
    "es = ft.EntitySet('new_es')\n",
    "\n",
    "es.add_dataframe(dataframe=orders_df,\n",
    "                 dataframe_name='orders',\n",
    "                 index='order_id',\n",
    "                 time_index='order_date')"
   ]
  },
  {
   "cell_type": "markdown",
   "id": "1c983744",
   "metadata": {},
   "source": [
    "You can also define the name, index and time index by first initializing Woodwork on the dataframe and then passing the Woodwork initialized dataframe directly to the `add_dataframe` call. For this example we will initialize Woodwork on `items_df`, setting the dataframe name as `items` and specifying that the index should be the `id` column."
   ]
  },
  {
   "cell_type": "code",
   "execution_count": 6,
   "id": "0d5ad8e5",
   "metadata": {},
   "outputs": [
    {
     "data": {
      "text/html": [
       "<table border=\"1\" class=\"dataframe\">\n",
       "  <thead>\n",
       "    <tr style=\"text-align: right;\">\n",
       "      <th></th>\n",
       "      <th>Physical Type</th>\n",
       "      <th>Logical Type</th>\n",
       "      <th>Semantic Tag(s)</th>\n",
       "    </tr>\n",
       "    <tr>\n",
       "      <th>Column</th>\n",
       "      <th></th>\n",
       "      <th></th>\n",
       "      <th></th>\n",
       "    </tr>\n",
       "  </thead>\n",
       "  <tbody>\n",
       "    <tr>\n",
       "      <th>id</th>\n",
       "      <td>int64</td>\n",
       "      <td>Integer</td>\n",
       "      <td>['index']</td>\n",
       "    </tr>\n",
       "    <tr>\n",
       "      <th>order_id</th>\n",
       "      <td>int64</td>\n",
       "      <td>Integer</td>\n",
       "      <td>['numeric']</td>\n",
       "    </tr>\n",
       "    <tr>\n",
       "      <th>item_price</th>\n",
       "      <td>float64</td>\n",
       "      <td>Double</td>\n",
       "      <td>['numeric']</td>\n",
       "    </tr>\n",
       "    <tr>\n",
       "      <th>on_sale</th>\n",
       "      <td>bool</td>\n",
       "      <td>Boolean</td>\n",
       "      <td>[]</td>\n",
       "    </tr>\n",
       "  </tbody>\n",
       "</table>"
      ],
      "text/plain": [
       "           Physical Type Logical Type Semantic Tag(s)\n",
       "Column                                               \n",
       "id                 int64      Integer       ['index']\n",
       "order_id           int64      Integer     ['numeric']\n",
       "item_price       float64       Double     ['numeric']\n",
       "on_sale             bool      Boolean              []"
      ]
     },
     "execution_count": 6,
     "metadata": {},
     "output_type": "execute_result"
    }
   ],
   "source": [
    "items_df.ww.init(name='items', index='id')\n",
    "items_df.ww"
   ]
  },
  {
   "cell_type": "markdown",
   "id": "07f5f27c",
   "metadata": {},
   "source": [
    "With Woodwork initialized, we no longer need to specify values for the `dataframe_name` or `index` arguments when calling `add_dataframe` as Featuretools will simply use the values that were already specified when Woodwork was initialized."
   ]
  },
  {
   "cell_type": "code",
   "execution_count": 7,
   "id": "5f4ab39a",
   "metadata": {},
   "outputs": [
    {
     "data": {
      "text/plain": [
       "Entityset: new_es\n",
       "  DataFrames:\n",
       "    orders [Rows: 3, Columns: 2]\n",
       "    items [Rows: 5, Columns: 4]\n",
       "  Relationships:\n",
       "    No relationships"
      ]
     },
     "execution_count": 7,
     "metadata": {},
     "output_type": "execute_result"
    }
   ],
   "source": [
    "es.add_dataframe(dataframe=items_df)"
   ]
  },
  {
   "cell_type": "markdown",
   "id": "93814387",
   "metadata": {},
   "source": [
    "### Accessing column typing information\n",
    "\n",
    "Previously column variable type information could be accessed for an entire entity through `Entity.variable_types` or for an individual column by selecting the individual column first through es['entity_id']['col_id']`.\n",
    "\n",
    "```python\n",
    "es['items'].variable_types\n",
    "```\n",
    "```\n",
    "{'id': featuretools.variable_types.variable.Index,\n",
    " 'order_id': featuretools.variable_types.variable.Numeric,\n",
    " 'item_price': featuretools.variable_types.variable.Numeric}\n",
    "```\n",
    "```python\n",
    "es['items']['item_price']\n",
    "```\n",
    "```\n",
    "<Variable: item_price (dtype = numeric)>\n",
    "```\n",
    "\n",
    "With the updated version of Featuretools, the logical types and semantic tags for all of the columns in a single dataframe can be viewed through the `.ww` namespace on the dataframe. First, select the dataframe from the entityset with `es['dataframe_name']` and then access the typing information by chaining a `.ww` call on the end as shown below."
   ]
  },
  {
   "cell_type": "code",
   "execution_count": 8,
   "id": "6abb9b10",
   "metadata": {},
   "outputs": [
    {
     "data": {
      "text/html": [
       "<table border=\"1\" class=\"dataframe\">\n",
       "  <thead>\n",
       "    <tr style=\"text-align: right;\">\n",
       "      <th></th>\n",
       "      <th>Physical Type</th>\n",
       "      <th>Logical Type</th>\n",
       "      <th>Semantic Tag(s)</th>\n",
       "    </tr>\n",
       "    <tr>\n",
       "      <th>Column</th>\n",
       "      <th></th>\n",
       "      <th></th>\n",
       "      <th></th>\n",
       "    </tr>\n",
       "  </thead>\n",
       "  <tbody>\n",
       "    <tr>\n",
       "      <th>id</th>\n",
       "      <td>int64</td>\n",
       "      <td>Integer</td>\n",
       "      <td>['index']</td>\n",
       "    </tr>\n",
       "    <tr>\n",
       "      <th>order_id</th>\n",
       "      <td>int64</td>\n",
       "      <td>Integer</td>\n",
       "      <td>['numeric']</td>\n",
       "    </tr>\n",
       "    <tr>\n",
       "      <th>item_price</th>\n",
       "      <td>float64</td>\n",
       "      <td>Double</td>\n",
       "      <td>['numeric']</td>\n",
       "    </tr>\n",
       "    <tr>\n",
       "      <th>on_sale</th>\n",
       "      <td>bool</td>\n",
       "      <td>Boolean</td>\n",
       "      <td>[]</td>\n",
       "    </tr>\n",
       "  </tbody>\n",
       "</table>"
      ],
      "text/plain": [
       "           Physical Type Logical Type Semantic Tag(s)\n",
       "Column                                               \n",
       "id                 int64      Integer       ['index']\n",
       "order_id           int64      Integer     ['numeric']\n",
       "item_price       float64       Double     ['numeric']\n",
       "on_sale             bool      Boolean              []"
      ]
     },
     "execution_count": 8,
     "metadata": {},
     "output_type": "execute_result"
    }
   ],
   "source": [
    "es['items'].ww"
   ]
  },
  {
   "cell_type": "markdown",
   "id": "72775903",
   "metadata": {},
   "source": [
    "The logical type and semantic tags for a single column can be obtained from the Woodwork columns dictionary stored on the dataframe, returning a `Woodwork.ColumnSchema` object that stores the typing information:"
   ]
  },
  {
   "cell_type": "code",
   "execution_count": 9,
   "id": "da516642",
   "metadata": {},
   "outputs": [
    {
     "data": {
      "text/plain": [
       "<ColumnSchema (Logical Type = Double) (Semantic Tags = ['numeric'])>"
      ]
     },
     "execution_count": 9,
     "metadata": {},
     "output_type": "execute_result"
    }
   ],
   "source": [
    "es['items'].ww.columns['item_price']"
   ]
  },
  {
   "cell_type": "markdown",
   "id": "50f9f70a",
   "metadata": {},
   "source": [
    "### Type inference and updating column types\n",
    "\n",
    "Featuretools will attempt to infer types for any columns that do not have types defined by the user. Prior to version 1.0, Featuretools implemented custom type inference code to determine what variable type should be assigned to each column. You could see the inferred variable types by viewing the contents of the `Entity.variable_types` dictionary.\n",
    "\n",
    "Starting in Featuretools 1.0, column type inference is being handled by Woodwork. Any columns that do not have a logical type assigned by the user when adding a dataframe to an entityset, will have their logical types inferred by Woodwork. As before, type inference can be skipped for any columns in a dataframe by passing the appropriate logical types in a dictionary when calling `EntitySet.add_dataframe`.\n",
    "\n",
    "As an example, we can create a new dataframe and add it to an entityset, specifying the logical type for the users full name as the Woodwork `PersonFullName` logical type."
   ]
  },
  {
   "cell_type": "code",
   "execution_count": 10,
   "id": "a34016b5",
   "metadata": {},
   "outputs": [],
   "source": [
    "users_df = pd.DataFrame({\n",
    "    'id': [0, 1, 2],\n",
    "    'name': ['John Doe', 'Rita Book', 'Teri Dactyl']\n",
    "})"
   ]
  },
  {
   "cell_type": "code",
   "execution_count": 11,
   "id": "d999e022",
   "metadata": {},
   "outputs": [
    {
     "data": {
      "text/html": [
       "<table border=\"1\" class=\"dataframe\">\n",
       "  <thead>\n",
       "    <tr style=\"text-align: right;\">\n",
       "      <th></th>\n",
       "      <th>Physical Type</th>\n",
       "      <th>Logical Type</th>\n",
       "      <th>Semantic Tag(s)</th>\n",
       "    </tr>\n",
       "    <tr>\n",
       "      <th>Column</th>\n",
       "      <th></th>\n",
       "      <th></th>\n",
       "      <th></th>\n",
       "    </tr>\n",
       "  </thead>\n",
       "  <tbody>\n",
       "    <tr>\n",
       "      <th>id</th>\n",
       "      <td>int64</td>\n",
       "      <td>Integer</td>\n",
       "      <td>['index']</td>\n",
       "    </tr>\n",
       "    <tr>\n",
       "      <th>name</th>\n",
       "      <td>string</td>\n",
       "      <td>PersonFullName</td>\n",
       "      <td>[]</td>\n",
       "    </tr>\n",
       "  </tbody>\n",
       "</table>"
      ],
      "text/plain": [
       "       Physical Type    Logical Type Semantic Tag(s)\n",
       "Column                                              \n",
       "id             int64         Integer       ['index']\n",
       "name          string  PersonFullName              []"
      ]
     },
     "execution_count": 11,
     "metadata": {},
     "output_type": "execute_result"
    }
   ],
   "source": [
    "es.add_dataframe(dataframe=users_df,\n",
    "                 dataframe_name='users',\n",
    "                 index='id',\n",
    "                 logical_types={'name': 'PersonFullName'})\n",
    "\n",
    "es['users'].ww"
   ]
  },
  {
   "cell_type": "markdown",
   "id": "d2eff5e1",
   "metadata": {},
   "source": [
    "Looking at the typing information above, we can see that the logical type for the `name` column was set to `PersonFullName` as we specified.\n",
    "\n",
    "Situations where type inference identifies a column as having the incorrect logical type will occur. In these situations, the logical type can be updated using the Woodwork `set_types` method. Let's say we want the the `order_id` column of the `orders` dataframe to have a `Categorical` logical type instead of the `Integer` type that was inferred. Previously, this would have accomplished through the `Entity.convert_variable_type` method.\n",
    "\n",
    "```python\n",
    "from featuretools.variable_types import Categorical\n",
    "\n",
    "es['items'].convert_variable_type(variable_id='order_id', new_type=Categorical)\n",
    "```\n",
    "\n",
    "Now, we can perform this same update using Woodwork:"
   ]
  },
  {
   "cell_type": "code",
   "execution_count": 12,
   "id": "a6c095b5",
   "metadata": {},
   "outputs": [
    {
     "data": {
      "text/html": [
       "<table border=\"1\" class=\"dataframe\">\n",
       "  <thead>\n",
       "    <tr style=\"text-align: right;\">\n",
       "      <th></th>\n",
       "      <th>Physical Type</th>\n",
       "      <th>Logical Type</th>\n",
       "      <th>Semantic Tag(s)</th>\n",
       "    </tr>\n",
       "    <tr>\n",
       "      <th>Column</th>\n",
       "      <th></th>\n",
       "      <th></th>\n",
       "      <th></th>\n",
       "    </tr>\n",
       "  </thead>\n",
       "  <tbody>\n",
       "    <tr>\n",
       "      <th>id</th>\n",
       "      <td>int64</td>\n",
       "      <td>Integer</td>\n",
       "      <td>['index']</td>\n",
       "    </tr>\n",
       "    <tr>\n",
       "      <th>order_id</th>\n",
       "      <td>category</td>\n",
       "      <td>Categorical</td>\n",
       "      <td>['category']</td>\n",
       "    </tr>\n",
       "    <tr>\n",
       "      <th>item_price</th>\n",
       "      <td>float64</td>\n",
       "      <td>Double</td>\n",
       "      <td>['numeric']</td>\n",
       "    </tr>\n",
       "    <tr>\n",
       "      <th>on_sale</th>\n",
       "      <td>bool</td>\n",
       "      <td>Boolean</td>\n",
       "      <td>[]</td>\n",
       "    </tr>\n",
       "  </tbody>\n",
       "</table>"
      ],
      "text/plain": [
       "           Physical Type Logical Type Semantic Tag(s)\n",
       "Column                                               \n",
       "id                 int64      Integer       ['index']\n",
       "order_id        category  Categorical    ['category']\n",
       "item_price       float64       Double     ['numeric']\n",
       "on_sale             bool      Boolean              []"
      ]
     },
     "execution_count": 12,
     "metadata": {},
     "output_type": "execute_result"
    }
   ],
   "source": [
    "es['items'].ww.set_types(logical_types={'order_id': 'Categorical'})\n",
    "es['items'].ww"
   ]
  },
  {
   "cell_type": "markdown",
   "id": "ebcd6d9e",
   "metadata": {},
   "source": [
    "#### Mapping from old Featuretools variable types to Woodwork ColumnSchemas\n",
    "\n",
    "Types defined by Woodwork differ from the old variable types that were defined by Featuretools prior to version 1.0. While there is not a direct mapping from the old variable types to the new Woodwork types defined by `ColumnSchema` objects, the approximate mapping are shown below.\n",
    "\n",
    "**Featuretools Variable** -> **Woodwork Column Schema**\n",
    "- `Boolean` -> `ColumnSchema(logical_type=Boolean)` or `ColumnSchema(logical_type=BooleanNullable)`\n",
    "- `Discrete` -> `ColumnSchema(semantic_tags={'category'})`\n",
    "- `Categorical` -> `ColumnSchema(logical_type=Categorical)`\n",
    "- `CountryCode` -> `ColumnSchema(logical_type=CountryCode)`\n",
    "- `Id` -> `ColumnSchema(semantic_tags={'foreign_key'})`\n",
    "- `SubRegionCode` -> `ColumnSchema(logical_type=SubRegionCode)`\n",
    "- `ZIPCode` -> `ColumnSchema(logical_type=PostalCode)`\n",
    "- `Ordinal` -> `ColumnSchema(logical_type=Ordinal)`\n",
    "- `Datetime` -> `ColumnSchema(logical_type=Datetime)`\n",
    "- `DateOfBirth` -> `ColumnSchema(logical_type=Datetime, semantic_tags={'date_of_birth'})`\n",
    "- `TimeIndex` -> `ColumnSchema(semantic_tags={'time_index'})`\n",
    "- `DatetimeTimeIndex` -> `ColumnSchema(logical_type=Datetime, semantic_tags={'time_index'})`\n",
    "- `NumericTimeIndex` -> `ColumnSchema(logical_type=Integer, semantic_tags={'time_index'})` or `ColumnSchema(logical_type=Double, semantic_tags={'time_index'})`\n",
    "- `EmailAddress` -> `ColumnSchema(logical_type=EmailAddress)`\n",
    "- `FilePath` -> `ColumnSchema(logical_type=Filepath)`\n",
    "- `FullName` -> `ColumnSchema(logical_type=PersonFullName)`\n",
    "- `IPAddress` -> `ColumnSchema(logical_type=IPAddress)`\n",
    "- `Index` -> `ColumnSchema(semantic_tags={'index'})`\n",
    "- `LatLong` -> `ColumnSchema(logical_type=LatLong)`\n",
    "- `NaturalLanguage` -> `ColumnSchema(logical_type=NaturalLanguage)`\n",
    "- `Numeric` -> `ColumnSchema(semantic_tags={'numeric'})`\n",
    "- `PhoneNumber` -> `ColumnSchema(logical_type=PhoneNumber)`\n",
    "- `Timedelta` -> `ColumnSchema(logical_type=Timedelta)`\n",
    "- `URL` -> `ColumnSchema(logical_type=URL)`\n",
    "- `Unknown` -> `ColumnSchema(logical_type=Unknown)`"
   ]
  },
  {
   "cell_type": "markdown",
   "id": "bf3dfea2",
   "metadata": {},
   "source": [
    "### Adding interesting values\n",
    "\n",
    "Interesting values can be added to all dataframes in an entityset, a single dataframe in an entityset, or to a single column of a dataframe in an entityset.\n",
    "\n",
    "To add interesting values for all of the dataframes in an entityset, simply call `EntitySet.add_interesting_values`, optionally specifying the maximum number of values to add for each column. This remains unchanged from older versions of Featuretools to the 1.0 release.\n",
    "\n",
    "Adding values for a single dataframe or for a single column has changed, however. Previously to add interesting values for an entity, users would call `Entity.add_interesting_values()`:\n",
    "```python\n",
    "es['items'].add_interesting_values()\n",
    "```\n",
    "\n",
    "Now, in order to specify interesting values for a single dataframe, you call `add_interesting_values` on the entityset, and pass the name of the dataframe for which you want interesting values added:"
   ]
  },
  {
   "cell_type": "code",
   "execution_count": 13,
   "id": "c058d2ed",
   "metadata": {},
   "outputs": [],
   "source": [
    "es.add_interesting_values(dataframe_name='items')"
   ]
  },
  {
   "cell_type": "markdown",
   "id": "c3e0a247",
   "metadata": {},
   "source": [
    "Previously, to manually add interesting values for a column, you would simply assign them to the variable:\n",
    "\n",
    "```python\n",
    "es['items']['order_id'] = [1, 2]\n",
    "```\n",
    "\n",
    "Now, this is done through `EntitySet` add interesting values, passing in the name of the dataframe and a dictionary mapping column names to the interesting values to assign for that column. For example, to assign the interesting values of `[1, 2]` to the `order_id` column of the `items` dataframe, use the following approach:"
   ]
  },
  {
   "cell_type": "code",
   "execution_count": 14,
   "id": "8276114b",
   "metadata": {},
   "outputs": [],
   "source": [
    "es.add_interesting_values(dataframe_name='items',\n",
    "                          values={'order_id': [1, 2]})"
   ]
  },
  {
   "cell_type": "markdown",
   "id": "22e70b84",
   "metadata": {},
   "source": [
    "Interesting values for multiple columns in the same dataframe can be assigned by adding more entries to the dictionary passed to the `values` parameter.\n",
    "\n",
    "Accessing interesting values has change as well. Previously interesting values could be viewed from the variable:\n",
    "```python\n",
    "es['items']['order_id'].interesting_values\n",
    "```\n",
    "\n",
    "Interesting values are now stored in the Woodwork metadata for the columns in a dataframe:"
   ]
  },
  {
   "cell_type": "code",
   "execution_count": 15,
   "id": "8461c4f7",
   "metadata": {},
   "outputs": [
    {
     "data": {
      "text/plain": [
       "[1, 2]"
      ]
     },
     "execution_count": 15,
     "metadata": {},
     "output_type": "execute_result"
    }
   ],
   "source": [
    "es['items'].ww.columns['order_id'].metadata['interesting_values']"
   ]
  },
  {
   "cell_type": "markdown",
   "id": "cb23501f",
   "metadata": {},
   "source": [
    "### Setting a secondary time index\n",
    "\n",
    "In earlier versions of Featuretools, a secondary time index could be set on an Entity by calling `Entity.set_secondary_time_index`. \n",
    "```python\n",
    "es_flight = ft.demo.load_flight(nrows=100)\n",
    "\n",
    "arr_time_columns = ['arr_delay', 'dep_delay', 'carrier_delay', 'weather_delay',\n",
    "                    'national_airspace_delay', 'security_delay',\n",
    "                    'late_aircraft_delay', 'canceled', 'diverted',\n",
    "                    'taxi_in', 'taxi_out', 'air_time', 'dep_time']\n",
    "es_flight['trip_logs'].set_secondary_time_index({'arr_time': arr_time_columns})\n",
    "```\n",
    "\n",
    "Since the `Entity` class has been removed in Featuretools 1.0, this now needs to be done through the entityset instead:"
   ]
  },
  {
   "cell_type": "code",
   "execution_count": 16,
   "id": "b80b1f6a",
   "metadata": {},
   "outputs": [
    {
     "name": "stdout",
     "output_type": "stream",
     "text": [
      "Downloading data ...\n"
     ]
    }
   ],
   "source": [
    "es_flight = ft.demo.load_flight(nrows=100)\n",
    "\n",
    "arr_time_columns = ['arr_delay', 'dep_delay', 'carrier_delay', 'weather_delay',\n",
    "                    'national_airspace_delay', 'security_delay',\n",
    "                    'late_aircraft_delay', 'canceled', 'diverted',\n",
    "                    'taxi_in', 'taxi_out', 'air_time', 'dep_time']\n",
    "es_flight.set_secondary_time_index(dataframe_name='trip_logs',\n",
    "                                   secondary_time_index={'arr_time': arr_time_columns})"
   ]
  },
  {
   "cell_type": "markdown",
   "id": "2ebee2e6",
   "metadata": {},
   "source": [
    "Previously interesting values could be accessed directly from the entity with `es_flight['trip_logs'].secondary_time_index`. Starting in Featuretools 1.0 the secondary time index and the associated columns are stored in the Woodwork dataframe metadata and can be accessed as shown below."
   ]
  },
  {
   "cell_type": "code",
   "execution_count": 17,
   "id": "3ea95fdb",
   "metadata": {},
   "outputs": [
    {
     "data": {
      "text/plain": [
       "{'arr_time': ['arr_delay',\n",
       "  'dep_delay',\n",
       "  'carrier_delay',\n",
       "  'weather_delay',\n",
       "  'national_airspace_delay',\n",
       "  'security_delay',\n",
       "  'late_aircraft_delay',\n",
       "  'canceled',\n",
       "  'diverted',\n",
       "  'taxi_in',\n",
       "  'taxi_out',\n",
       "  'air_time',\n",
       "  'dep_time',\n",
       "  'arr_time']}"
      ]
     },
     "execution_count": 17,
     "metadata": {},
     "output_type": "execute_result"
    }
   ],
   "source": [
    "es_flight['trip_logs'].ww.metadata['secondary_time_index']"
   ]
  },
  {
   "cell_type": "markdown",
   "id": "ca81708b",
   "metadata": {},
   "source": [
    "### Defining and adding relationships\n",
    "\n",
    "In earlier versions of Featuretools, relationships were defined by creating a `Relationship` object, which took two `Variables` as inputs. To define a relationship between the orders entity and the items entity, we would first create a `Relationship` object and then add it to the entityset:\n",
    "\n",
    "```python\n",
    "relationship = ft.Relationship(es['orders']['order_id'], es['items']['order_id'])\n",
    "es.add_relationship(relationship)\n",
    "```\n",
    "\n",
    "With Featuretools 1.0, the process is similar, but there are two different ways to add the relationship to the entityset. One way is to pass the dataframe and column names to `EntitySet.add_relationship`, and another is to pass a previously created relationship object to the `relationship` keyword argument. Both approaches are demonstrated below."
   ]
  },
  {
   "cell_type": "code",
   "execution_count": 18,
   "id": "97c04dd4",
   "metadata": {},
   "outputs": [
    {
     "data": {
      "text/plain": [
       "Entityset: new_es\n",
       "  DataFrames:\n",
       "    orders [Rows: 3, Columns: 2]\n",
       "    items [Rows: 5, Columns: 4]\n",
       "    users [Rows: 3, Columns: 2]\n",
       "  Relationships:\n",
       "    items.order_id -> orders.order_id"
      ]
     },
     "execution_count": 18,
     "metadata": {},
     "output_type": "execute_result"
    }
   ],
   "source": [
    "# Undo change from above and change child column logical type to match parent\n",
    "es['items'].ww.set_types(logical_types={'order_id': 'Integer'})\n",
    "\n",
    "es.add_relationship(parent_dataframe_name='orders',\n",
    "                    parent_column_name='order_id',\n",
    "                    child_dataframe_name='items',\n",
    "                    child_column_name='order_id')"
   ]
  },
  {
   "cell_type": "code",
   "execution_count": 19,
   "id": "26643d04",
   "metadata": {
    "nbshpinx": "hidden"
   },
   "outputs": [],
   "source": [
    "es.relationships = []"
   ]
  },
  {
   "cell_type": "markdown",
   "id": "317e5657",
   "metadata": {},
   "source": [
    "Alternatively, we can first create a `Relationship` object and pass that to `EntitySet.add_relationship`. When defining a relationship object we need to pass in the entityset to which it belongs along with the names for the parent dataframe and parent column and the name of the child dataframe and child column."
   ]
  },
  {
   "cell_type": "code",
   "execution_count": 20,
   "id": "47e54c72",
   "metadata": {},
   "outputs": [
    {
     "data": {
      "text/plain": [
       "Entityset: new_es\n",
       "  DataFrames:\n",
       "    orders [Rows: 3, Columns: 2]\n",
       "    items [Rows: 5, Columns: 4]\n",
       "    users [Rows: 3, Columns: 2]\n",
       "  Relationships:\n",
       "    items.order_id -> orders.order_id"
      ]
     },
     "execution_count": 20,
     "metadata": {},
     "output_type": "execute_result"
    }
   ],
   "source": [
    "relationship = ft.Relationship(entityset=es,\n",
    "                               parent_dataframe_name='orders',\n",
    "                               parent_column_name='order_id',\n",
    "                               child_dataframe_name='items',\n",
    "                               child_column_name='order_id')\n",
    "es.add_relationship(relationship=relationship)"
   ]
  },
  {
   "cell_type": "markdown",
   "id": "7a49ba91",
   "metadata": {},
   "source": [
    "### Updating data for a dataframe in an EntitySet\n",
    "\n",
    "Previously to update the data associated with an entity, users could call `Entity.update_data` and pass in the new dataframe. As an example, let's update the data in our `users` entity:\n",
    "```python\n",
    "new_users_df = pd.DataFrame({\n",
    "    'id': [3, 4],\n",
    "    'name': ['Anne Teak', 'Art Decco']\n",
    "})\n",
    "\n",
    "es['users'].update_data(df=new_users_df)\n",
    "```\n",
    "\n",
    "To accomplish this task with Featuretools 1.0, we will use the `EntitySet.update_dataframe` method instead:"
   ]
  },
  {
   "cell_type": "code",
   "execution_count": 21,
   "id": "b45a81d5",
   "metadata": {},
   "outputs": [
    {
     "data": {
      "text/html": [
       "<div>\n",
       "<style scoped>\n",
       "    .dataframe tbody tr th:only-of-type {\n",
       "        vertical-align: middle;\n",
       "    }\n",
       "\n",
       "    .dataframe tbody tr th {\n",
       "        vertical-align: top;\n",
       "    }\n",
       "\n",
       "    .dataframe thead th {\n",
       "        text-align: right;\n",
       "    }\n",
       "</style>\n",
       "<table border=\"1\" class=\"dataframe\">\n",
       "  <thead>\n",
       "    <tr style=\"text-align: right;\">\n",
       "      <th></th>\n",
       "      <th>id</th>\n",
       "      <th>name</th>\n",
       "    </tr>\n",
       "  </thead>\n",
       "  <tbody>\n",
       "    <tr>\n",
       "      <th>0</th>\n",
       "      <td>0</td>\n",
       "      <td>Anne Teak</td>\n",
       "    </tr>\n",
       "    <tr>\n",
       "      <th>1</th>\n",
       "      <td>1</td>\n",
       "      <td>Art Decco</td>\n",
       "    </tr>\n",
       "  </tbody>\n",
       "</table>\n",
       "</div>"
      ],
      "text/plain": [
       "   id       name\n",
       "0   0  Anne Teak\n",
       "1   1  Art Decco"
      ]
     },
     "execution_count": 21,
     "metadata": {},
     "output_type": "execute_result"
    }
   ],
   "source": [
    "new_users_df = pd.DataFrame({\n",
    "    'id': [0, 1],\n",
    "    'name': ['Anne Teak', 'Art Decco']\n",
    "})\n",
    "\n",
    "es.update_dataframe(dataframe_name='users', df=new_users_df)\n",
    "es['users']"
   ]
  },
  {
   "cell_type": "markdown",
   "id": "679af861",
   "metadata": {},
   "source": [
    "## Defining features\n",
    "\n",
    "The syntax for defining features has changed slightly in Featuretools 1.0. Previously, identify features could be defined simply by passing in the variable that should be use to build the feature.\n",
    "\n",
    "```python\n",
    "feature = ft.Feature(es['items']['item_price'])\n",
    "```\n",
    "\n",
    "Starting with Featuretools 1.0, a similar syntax can be used, but because `es['items']` will now return a Woodwork dataframe instead of an `Entity`, we need to update the syntax slightly to access the Woodwork column. To update, simply add `.ww` between the dataframe name selector and the column selector as shown below."
   ]
  },
  {
   "cell_type": "code",
   "execution_count": 22,
   "id": "88902f6b",
   "metadata": {},
   "outputs": [
    {
     "ename": "Exception",
     "evalue": "Unrecognized feature initialization",
     "output_type": "error",
     "traceback": [
      "\u001b[0;31m---------------------------------------------------------------------------\u001b[0m",
      "\u001b[0;31mException\u001b[0m                                 Traceback (most recent call last)",
      "\u001b[0;32m<ipython-input-22-dde1d15e9034>\u001b[0m in \u001b[0;36m<module>\u001b[0;34m\u001b[0m\n\u001b[0;32m----> 1\u001b[0;31m \u001b[0mfeature\u001b[0m \u001b[0;34m=\u001b[0m \u001b[0mft\u001b[0m\u001b[0;34m.\u001b[0m\u001b[0mFeature\u001b[0m\u001b[0;34m(\u001b[0m\u001b[0mes\u001b[0m\u001b[0;34m[\u001b[0m\u001b[0;34m'items'\u001b[0m\u001b[0;34m]\u001b[0m\u001b[0;34m.\u001b[0m\u001b[0mww\u001b[0m\u001b[0;34m[\u001b[0m\u001b[0;34m'item_price'\u001b[0m\u001b[0;34m]\u001b[0m\u001b[0;34m)\u001b[0m\u001b[0;34m\u001b[0m\u001b[0;34m\u001b[0m\u001b[0m\n\u001b[0m",
      "\u001b[0;32m~/dev/featuretools/featuretools/feature_base/feature_base.py\u001b[0m in \u001b[0;36m__new__\u001b[0;34m(self, base, dataframe_name, column_name, groupby, parent_dataframe_name, primitive, use_previous, where)\u001b[0m\n\u001b[1;32m    770\u001b[0m             \u001b[0;32mreturn\u001b[0m \u001b[0mbase\u001b[0m\u001b[0;34m\u001b[0m\u001b[0;34m\u001b[0m\u001b[0m\n\u001b[1;32m    771\u001b[0m \u001b[0;34m\u001b[0m\u001b[0m\n\u001b[0;32m--> 772\u001b[0;31m         \u001b[0;32mraise\u001b[0m \u001b[0mException\u001b[0m\u001b[0;34m(\u001b[0m\u001b[0;34m\"Unrecognized feature initialization\"\u001b[0m\u001b[0;34m)\u001b[0m\u001b[0;34m\u001b[0m\u001b[0;34m\u001b[0m\u001b[0m\n\u001b[0m\u001b[1;32m    773\u001b[0m \u001b[0;34m\u001b[0m\u001b[0m\n\u001b[1;32m    774\u001b[0m \u001b[0;34m\u001b[0m\u001b[0m\n",
      "\u001b[0;31mException\u001b[0m: Unrecognized feature initialization"
     ]
    }
   ],
   "source": [
    "feature = ft.Feature(es['items'].ww['item_price'])"
   ]
  },
  {
   "cell_type": "markdown",
   "id": "0faf41e4",
   "metadata": {},
   "source": [
    "## Defining primitives\n",
    "\n",
    "In earlier versions of Featuretools primitive input and return types were defined by specifying the appropriate `Varable` class. Starting in version 1.0, the input and return types are defined by Woodwork `ColumnSchema` objects. \n",
    "\n",
    "To illustrate this change, let's look closer at the `Age` transform primitive. This primitive takes datetime representing a date of birth and returns a numeric value corresponding to a person's age. In previous versions of Featuretools, the input type was defined by specifying the `DateOfBirth` variable type and the return type was specified by the `Numeric` variable type:\n",
    "\n",
    "```python\n",
    "input_types = [DateOfBirth]\n",
    "return_type = Numeric\n",
    "```\n",
    "\n",
    "Woodwork does not have a specific `DateOfBirth` logical type, but rather identifies a column as a date of birth column by specifying the logical type as `Datetime` with a semantic tag of `date_of_birth`. There is also no `Numeric` logical type in Woodwork, but rather Woodwork identifies all columns that can be used for numeric operations with the semantic tag of `numeric`. With these in mind, we can redefine the `Age` input types and return types with `ColumnSchema` objects as follows:\n",
    "\n",
    "```python\n",
    "input_types = [ColumnSchema(logical_type=Datetime, semantic_tags={'date_of_birth'})]\n",
    "return_type = ColumnSchmea(semantic_tags={'numeric'})\n",
    "```\n",
    "\n",
    "Aside from changing the way input and return types are defined, the rest of the process for defining primitives remains unchanged.\n",
    "\n",
    "There are many differences between Featuretools `Variable` types and the corresponding types defined by Woodwork. For a complete overview of how to redefine `Variable` objects as `ColumnSchema` objects, see the mappings provided earlier in this document."
   ]
  },
  {
   "cell_type": "markdown",
   "id": "fec87370",
   "metadata": {},
   "source": [
    "## Changes to Deep Feature Synthesis and Calculate Feature Matrix\n",
    "\n",
    "The argument names for both `featuretools.dfs` and `featuretools.calculate_feature_matrix` have changed slightly in Featuretools 1.0. In prior versions, users could generate a list of features using the default primitives and options like this:\n",
    "\n",
    "```python\n",
    "features = ft.dfs(entityset=es,\n",
    "                  target_entity='items',\n",
    "                  features_only=True)\n",
    "```\n",
    "\n",
    "In Featuretools 1.0, the `target_entity` argument has been renamed to `target_dataframe_name`, but otherwise this basic call remains the same.\n",
    "\n"
   ]
  },
  {
   "cell_type": "code",
   "execution_count": 23,
   "id": "5428949c",
   "metadata": {},
   "outputs": [
    {
     "data": {
      "text/plain": [
       "[<Feature: order_id>,\n",
       " <Feature: item_price>,\n",
       " <Feature: on_sale>,\n",
       " <Feature: orders.COUNT(items)>,\n",
       " <Feature: orders.MAX(items.item_price)>,\n",
       " <Feature: orders.MEAN(items.item_price)>,\n",
       " <Feature: orders.MIN(items.item_price)>,\n",
       " <Feature: orders.PERCENT_TRUE(items.on_sale)>,\n",
       " <Feature: orders.SKEW(items.item_price)>,\n",
       " <Feature: orders.STD(items.item_price)>,\n",
       " <Feature: orders.SUM(items.item_price)>,\n",
       " <Feature: orders.DAY(order_date)>,\n",
       " <Feature: orders.MONTH(order_date)>,\n",
       " <Feature: orders.WEEKDAY(order_date)>,\n",
       " <Feature: orders.YEAR(order_date)>]"
      ]
     },
     "execution_count": 23,
     "metadata": {},
     "output_type": "execute_result"
    }
   ],
   "source": [
    "features = ft.dfs(entityset=es,\n",
    "                  target_dataframe_name='items',\n",
    "                  features_only=True)\n",
    "features"
   ]
  },
  {
   "cell_type": "markdown",
   "id": "3154734d",
   "metadata": {},
   "source": [
    "In addition the `dfs` argument `ignore_entities` was renamed to `ignore_dataframes` and `ignore_variables` was renamed to `ignore_columns`. Similarly if specifying primitive options all references to `entities` should be replaced with `dataframes` and references to `variables` should be replaced with columns. For example, the primitive option of `include_groupby_entities` is now `include_groupby_dataframes` and `include_variables` is now `include_columns`.\n",
    "\n",
    "The basic call to `featuretools.calculate_feature_matrix` remains unchanged if passing in an entityset along with a list of features to caluculate. However, users calling `calculate_feature_matrix` by passing in a list of `entities` and `relationships` should note that the `entities` argument has been renamed to `dataframes` and the values in the dictionary values should now include Woodwork logical types instead of Featuretools `Variable` classes."
   ]
  },
  {
   "cell_type": "code",
   "execution_count": 25,
   "id": "456da22e",
   "metadata": {},
   "outputs": [
    {
     "data": {
      "text/html": [
       "<div>\n",
       "<style scoped>\n",
       "    .dataframe tbody tr th:only-of-type {\n",
       "        vertical-align: middle;\n",
       "    }\n",
       "\n",
       "    .dataframe tbody tr th {\n",
       "        vertical-align: top;\n",
       "    }\n",
       "\n",
       "    .dataframe thead th {\n",
       "        text-align: right;\n",
       "    }\n",
       "</style>\n",
       "<table border=\"1\" class=\"dataframe\">\n",
       "  <thead>\n",
       "    <tr style=\"text-align: right;\">\n",
       "      <th></th>\n",
       "      <th>order_id</th>\n",
       "      <th>item_price</th>\n",
       "      <th>on_sale</th>\n",
       "      <th>orders.COUNT(items)</th>\n",
       "      <th>orders.MAX(items.item_price)</th>\n",
       "      <th>orders.MEAN(items.item_price)</th>\n",
       "      <th>orders.MIN(items.item_price)</th>\n",
       "      <th>orders.PERCENT_TRUE(items.on_sale)</th>\n",
       "      <th>orders.SKEW(items.item_price)</th>\n",
       "      <th>orders.STD(items.item_price)</th>\n",
       "      <th>orders.SUM(items.item_price)</th>\n",
       "      <th>orders.DAY(order_date)</th>\n",
       "      <th>orders.MONTH(order_date)</th>\n",
       "      <th>orders.WEEKDAY(order_date)</th>\n",
       "      <th>orders.YEAR(order_date)</th>\n",
       "    </tr>\n",
       "    <tr>\n",
       "      <th>id</th>\n",
       "      <th></th>\n",
       "      <th></th>\n",
       "      <th></th>\n",
       "      <th></th>\n",
       "      <th></th>\n",
       "      <th></th>\n",
       "      <th></th>\n",
       "      <th></th>\n",
       "      <th></th>\n",
       "      <th></th>\n",
       "      <th></th>\n",
       "      <th></th>\n",
       "      <th></th>\n",
       "      <th></th>\n",
       "      <th></th>\n",
       "    </tr>\n",
       "  </thead>\n",
       "  <tbody>\n",
       "    <tr>\n",
       "      <th>0</th>\n",
       "      <td>0</td>\n",
       "      <td>29.95</td>\n",
       "      <td>False</td>\n",
       "      <td>1</td>\n",
       "      <td>29.95</td>\n",
       "      <td>29.950</td>\n",
       "      <td>29.95</td>\n",
       "      <td>0.0</td>\n",
       "      <td>NaN</td>\n",
       "      <td>NaN</td>\n",
       "      <td>29.95</td>\n",
       "      <td>2</td>\n",
       "      <td>1</td>\n",
       "      <td>5</td>\n",
       "      <td>2021</td>\n",
       "    </tr>\n",
       "    <tr>\n",
       "      <th>1</th>\n",
       "      <td>1</td>\n",
       "      <td>4.99</td>\n",
       "      <td>True</td>\n",
       "      <td>2</td>\n",
       "      <td>10.25</td>\n",
       "      <td>7.620</td>\n",
       "      <td>4.99</td>\n",
       "      <td>0.5</td>\n",
       "      <td>NaN</td>\n",
       "      <td>3.719382</td>\n",
       "      <td>15.24</td>\n",
       "      <td>3</td>\n",
       "      <td>1</td>\n",
       "      <td>6</td>\n",
       "      <td>2021</td>\n",
       "    </tr>\n",
       "    <tr>\n",
       "      <th>2</th>\n",
       "      <td>1</td>\n",
       "      <td>10.25</td>\n",
       "      <td>False</td>\n",
       "      <td>2</td>\n",
       "      <td>10.25</td>\n",
       "      <td>7.620</td>\n",
       "      <td>4.99</td>\n",
       "      <td>0.5</td>\n",
       "      <td>NaN</td>\n",
       "      <td>3.719382</td>\n",
       "      <td>15.24</td>\n",
       "      <td>3</td>\n",
       "      <td>1</td>\n",
       "      <td>6</td>\n",
       "      <td>2021</td>\n",
       "    </tr>\n",
       "    <tr>\n",
       "      <th>3</th>\n",
       "      <td>2</td>\n",
       "      <td>20.50</td>\n",
       "      <td>True</td>\n",
       "      <td>2</td>\n",
       "      <td>20.50</td>\n",
       "      <td>18.245</td>\n",
       "      <td>15.99</td>\n",
       "      <td>0.5</td>\n",
       "      <td>NaN</td>\n",
       "      <td>3.189052</td>\n",
       "      <td>36.49</td>\n",
       "      <td>4</td>\n",
       "      <td>1</td>\n",
       "      <td>0</td>\n",
       "      <td>2021</td>\n",
       "    </tr>\n",
       "    <tr>\n",
       "      <th>4</th>\n",
       "      <td>2</td>\n",
       "      <td>15.99</td>\n",
       "      <td>False</td>\n",
       "      <td>2</td>\n",
       "      <td>20.50</td>\n",
       "      <td>18.245</td>\n",
       "      <td>15.99</td>\n",
       "      <td>0.5</td>\n",
       "      <td>NaN</td>\n",
       "      <td>3.189052</td>\n",
       "      <td>36.49</td>\n",
       "      <td>4</td>\n",
       "      <td>1</td>\n",
       "      <td>0</td>\n",
       "      <td>2021</td>\n",
       "    </tr>\n",
       "  </tbody>\n",
       "</table>\n",
       "</div>"
      ],
      "text/plain": [
       "    order_id  item_price  on_sale  orders.COUNT(items)  \\\n",
       "id                                                       \n",
       "0          0       29.95    False                    1   \n",
       "1          1        4.99     True                    2   \n",
       "2          1       10.25    False                    2   \n",
       "3          2       20.50     True                    2   \n",
       "4          2       15.99    False                    2   \n",
       "\n",
       "    orders.MAX(items.item_price)  orders.MEAN(items.item_price)  \\\n",
       "id                                                                \n",
       "0                          29.95                         29.950   \n",
       "1                          10.25                          7.620   \n",
       "2                          10.25                          7.620   \n",
       "3                          20.50                         18.245   \n",
       "4                          20.50                         18.245   \n",
       "\n",
       "    orders.MIN(items.item_price)  orders.PERCENT_TRUE(items.on_sale)  \\\n",
       "id                                                                     \n",
       "0                          29.95                                 0.0   \n",
       "1                           4.99                                 0.5   \n",
       "2                           4.99                                 0.5   \n",
       "3                          15.99                                 0.5   \n",
       "4                          15.99                                 0.5   \n",
       "\n",
       "    orders.SKEW(items.item_price)  orders.STD(items.item_price)  \\\n",
       "id                                                                \n",
       "0                             NaN                           NaN   \n",
       "1                             NaN                      3.719382   \n",
       "2                             NaN                      3.719382   \n",
       "3                             NaN                      3.189052   \n",
       "4                             NaN                      3.189052   \n",
       "\n",
       "    orders.SUM(items.item_price)  orders.DAY(order_date)  \\\n",
       "id                                                         \n",
       "0                          29.95                       2   \n",
       "1                          15.24                       3   \n",
       "2                          15.24                       3   \n",
       "3                          36.49                       4   \n",
       "4                          36.49                       4   \n",
       "\n",
       "    orders.MONTH(order_date)  orders.WEEKDAY(order_date)  \\\n",
       "id                                                         \n",
       "0                          1                           5   \n",
       "1                          1                           6   \n",
       "2                          1                           6   \n",
       "3                          1                           0   \n",
       "4                          1                           0   \n",
       "\n",
       "    orders.YEAR(order_date)  \n",
       "id                           \n",
       "0                      2021  \n",
       "1                      2021  \n",
       "2                      2021  \n",
       "3                      2021  \n",
       "4                      2021  "
      ]
     },
     "execution_count": 25,
     "metadata": {},
     "output_type": "execute_result"
    }
   ],
   "source": [
    "feature_matrix = ft.calculate_feature_matrix(features=features, entityset=es)\n",
    "feature_matrix"
   ]
  },
  {
   "cell_type": "markdown",
   "id": "b87489cf",
   "metadata": {},
   "source": [
    "In addition to the changes in argument names, there are a couple other changes to the returned feature matrix that users should be aware of. First, because of slight differences in the way Woodwork defines column types compared to how the prior Featuretools implementation did, there can be some differences in the features that are generated between old and new versions. The most notable impact is in the way foreign key columns are handled. Previously, Featuretools treats all foreign key (previously `Id`) columns as categorical columns, and would generate appropriate features from these columns. Starting in version 1.0, foreign key columns are not constrained to be categorical, and if they are another type such as `Integer`, features will not be generated from these columns.\n",
    "\n",
    "Also, because Woodwork's type inference process differs from the previous Featuretools type inference process an entityset may have column types identified differently. This difference in column types could impact the features that are generated. If it is important to have the same set of features, check all of the logical types in the entityset dataframes and update them to the expected types if there are columns that have been inferred as unexpected types.\n",
    "\n",
    "Finally, the feature matrix calculated by Featuretools will now have Woodwork initialized. This means that users can view feature matrix column typing information through the Woodwork namespace as follows."
   ]
  },
  {
   "cell_type": "code",
   "execution_count": 26,
   "id": "cdb45cc9",
   "metadata": {},
   "outputs": [
    {
     "ename": "WoodworkNotInitError",
     "evalue": "Woodwork not initialized for this DataFrame. Initialize by calling DataFrame.ww.init",
     "output_type": "error",
     "traceback": [
      "\u001b[0;31m---------------------------------------------------------------------------\u001b[0m",
      "\u001b[0;31mWoodworkNotInitError\u001b[0m                      Traceback (most recent call last)",
      "\u001b[0;32m~/dev/featuretools/env/lib/python3.8/site-packages/IPython/core/formatters.py\u001b[0m in \u001b[0;36m__call__\u001b[0;34m(self, obj)\u001b[0m\n\u001b[1;32m    700\u001b[0m                 \u001b[0mtype_pprinters\u001b[0m\u001b[0;34m=\u001b[0m\u001b[0mself\u001b[0m\u001b[0;34m.\u001b[0m\u001b[0mtype_printers\u001b[0m\u001b[0;34m,\u001b[0m\u001b[0;34m\u001b[0m\u001b[0;34m\u001b[0m\u001b[0m\n\u001b[1;32m    701\u001b[0m                 deferred_pprinters=self.deferred_printers)\n\u001b[0;32m--> 702\u001b[0;31m             \u001b[0mprinter\u001b[0m\u001b[0;34m.\u001b[0m\u001b[0mpretty\u001b[0m\u001b[0;34m(\u001b[0m\u001b[0mobj\u001b[0m\u001b[0;34m)\u001b[0m\u001b[0;34m\u001b[0m\u001b[0;34m\u001b[0m\u001b[0m\n\u001b[0m\u001b[1;32m    703\u001b[0m             \u001b[0mprinter\u001b[0m\u001b[0;34m.\u001b[0m\u001b[0mflush\u001b[0m\u001b[0;34m(\u001b[0m\u001b[0;34m)\u001b[0m\u001b[0;34m\u001b[0m\u001b[0;34m\u001b[0m\u001b[0m\n\u001b[1;32m    704\u001b[0m             \u001b[0;32mreturn\u001b[0m \u001b[0mstream\u001b[0m\u001b[0;34m.\u001b[0m\u001b[0mgetvalue\u001b[0m\u001b[0;34m(\u001b[0m\u001b[0;34m)\u001b[0m\u001b[0;34m\u001b[0m\u001b[0;34m\u001b[0m\u001b[0m\n",
      "\u001b[0;32m~/dev/featuretools/env/lib/python3.8/site-packages/IPython/lib/pretty.py\u001b[0m in \u001b[0;36mpretty\u001b[0;34m(self, obj)\u001b[0m\n\u001b[1;32m    392\u001b[0m                         \u001b[0;32mif\u001b[0m \u001b[0mcls\u001b[0m \u001b[0;32mis\u001b[0m \u001b[0;32mnot\u001b[0m \u001b[0mobject\u001b[0m\u001b[0;31m \u001b[0m\u001b[0;31m\\\u001b[0m\u001b[0;34m\u001b[0m\u001b[0;34m\u001b[0m\u001b[0m\n\u001b[1;32m    393\u001b[0m                                 \u001b[0;32mand\u001b[0m \u001b[0mcallable\u001b[0m\u001b[0;34m(\u001b[0m\u001b[0mcls\u001b[0m\u001b[0;34m.\u001b[0m\u001b[0m__dict__\u001b[0m\u001b[0;34m.\u001b[0m\u001b[0mget\u001b[0m\u001b[0;34m(\u001b[0m\u001b[0;34m'__repr__'\u001b[0m\u001b[0;34m)\u001b[0m\u001b[0;34m)\u001b[0m\u001b[0;34m:\u001b[0m\u001b[0;34m\u001b[0m\u001b[0;34m\u001b[0m\u001b[0m\n\u001b[0;32m--> 394\u001b[0;31m                             \u001b[0;32mreturn\u001b[0m \u001b[0m_repr_pprint\u001b[0m\u001b[0;34m(\u001b[0m\u001b[0mobj\u001b[0m\u001b[0;34m,\u001b[0m \u001b[0mself\u001b[0m\u001b[0;34m,\u001b[0m \u001b[0mcycle\u001b[0m\u001b[0;34m)\u001b[0m\u001b[0;34m\u001b[0m\u001b[0;34m\u001b[0m\u001b[0m\n\u001b[0m\u001b[1;32m    395\u001b[0m \u001b[0;34m\u001b[0m\u001b[0m\n\u001b[1;32m    396\u001b[0m             \u001b[0;32mreturn\u001b[0m \u001b[0m_default_pprint\u001b[0m\u001b[0;34m(\u001b[0m\u001b[0mobj\u001b[0m\u001b[0;34m,\u001b[0m \u001b[0mself\u001b[0m\u001b[0;34m,\u001b[0m \u001b[0mcycle\u001b[0m\u001b[0;34m)\u001b[0m\u001b[0;34m\u001b[0m\u001b[0;34m\u001b[0m\u001b[0m\n",
      "\u001b[0;32m~/dev/featuretools/env/lib/python3.8/site-packages/IPython/lib/pretty.py\u001b[0m in \u001b[0;36m_repr_pprint\u001b[0;34m(obj, p, cycle)\u001b[0m\n\u001b[1;32m    698\u001b[0m     \u001b[0;34m\"\"\"A pprint that just redirects to the normal repr function.\"\"\"\u001b[0m\u001b[0;34m\u001b[0m\u001b[0;34m\u001b[0m\u001b[0m\n\u001b[1;32m    699\u001b[0m     \u001b[0;31m# Find newlines and replace them with p.break_()\u001b[0m\u001b[0;34m\u001b[0m\u001b[0;34m\u001b[0m\u001b[0;34m\u001b[0m\u001b[0m\n\u001b[0;32m--> 700\u001b[0;31m     \u001b[0moutput\u001b[0m \u001b[0;34m=\u001b[0m \u001b[0mrepr\u001b[0m\u001b[0;34m(\u001b[0m\u001b[0mobj\u001b[0m\u001b[0;34m)\u001b[0m\u001b[0;34m\u001b[0m\u001b[0;34m\u001b[0m\u001b[0m\n\u001b[0m\u001b[1;32m    701\u001b[0m     \u001b[0mlines\u001b[0m \u001b[0;34m=\u001b[0m \u001b[0moutput\u001b[0m\u001b[0;34m.\u001b[0m\u001b[0msplitlines\u001b[0m\u001b[0;34m(\u001b[0m\u001b[0;34m)\u001b[0m\u001b[0;34m\u001b[0m\u001b[0;34m\u001b[0m\u001b[0m\n\u001b[1;32m    702\u001b[0m     \u001b[0;32mwith\u001b[0m \u001b[0mp\u001b[0m\u001b[0;34m.\u001b[0m\u001b[0mgroup\u001b[0m\u001b[0;34m(\u001b[0m\u001b[0;34m)\u001b[0m\u001b[0;34m:\u001b[0m\u001b[0;34m\u001b[0m\u001b[0;34m\u001b[0m\u001b[0m\n",
      "\u001b[0;32m~/dev/featuretools/env/lib/python3.8/site-packages/woodwork/table_accessor.py\u001b[0m in \u001b[0;36m__repr__\u001b[0;34m(self)\u001b[0m\n\u001b[1;32m    215\u001b[0m     \u001b[0;32mdef\u001b[0m \u001b[0m__repr__\u001b[0m\u001b[0;34m(\u001b[0m\u001b[0mself\u001b[0m\u001b[0;34m)\u001b[0m\u001b[0;34m:\u001b[0m\u001b[0;34m\u001b[0m\u001b[0;34m\u001b[0m\u001b[0m\n\u001b[1;32m    216\u001b[0m         \u001b[0;34m\"\"\"A string representation of a Woodwork table containing typing information\"\"\"\u001b[0m\u001b[0;34m\u001b[0m\u001b[0;34m\u001b[0m\u001b[0m\n\u001b[0;32m--> 217\u001b[0;31m         \u001b[0;32mreturn\u001b[0m \u001b[0mrepr\u001b[0m\u001b[0;34m(\u001b[0m\u001b[0mself\u001b[0m\u001b[0;34m.\u001b[0m\u001b[0m_get_typing_info\u001b[0m\u001b[0;34m(\u001b[0m\u001b[0;34m)\u001b[0m\u001b[0;34m)\u001b[0m\u001b[0;34m\u001b[0m\u001b[0;34m\u001b[0m\u001b[0m\n\u001b[0m\u001b[1;32m    218\u001b[0m \u001b[0;34m\u001b[0m\u001b[0m\n\u001b[1;32m    219\u001b[0m     \u001b[0;32mdef\u001b[0m \u001b[0m_repr_html_\u001b[0m\u001b[0;34m(\u001b[0m\u001b[0mself\u001b[0m\u001b[0;34m)\u001b[0m\u001b[0;34m:\u001b[0m\u001b[0;34m\u001b[0m\u001b[0;34m\u001b[0m\u001b[0m\n",
      "\u001b[0;32m~/dev/featuretools/env/lib/python3.8/site-packages/woodwork/accessor_utils.py\u001b[0m in \u001b[0;36mwrapper\u001b[0;34m(self, *args, **kwargs)\u001b[0m\n\u001b[1;32m    172\u001b[0m             msg = (\"Woodwork not initialized for this DataFrame. Initialize by \"\n\u001b[1;32m    173\u001b[0m                    \"calling DataFrame.ww.init\")\n\u001b[0;32m--> 174\u001b[0;31m             \u001b[0;32mraise\u001b[0m \u001b[0mWoodworkNotInitError\u001b[0m\u001b[0;34m(\u001b[0m\u001b[0mmsg\u001b[0m\u001b[0;34m)\u001b[0m\u001b[0;34m\u001b[0m\u001b[0;34m\u001b[0m\u001b[0m\n\u001b[0m\u001b[1;32m    175\u001b[0m         \u001b[0;32mreturn\u001b[0m \u001b[0mmethod\u001b[0m\u001b[0;34m(\u001b[0m\u001b[0mself\u001b[0m\u001b[0;34m,\u001b[0m \u001b[0;34m*\u001b[0m\u001b[0margs\u001b[0m\u001b[0;34m,\u001b[0m \u001b[0;34m**\u001b[0m\u001b[0mkwargs\u001b[0m\u001b[0;34m)\u001b[0m\u001b[0;34m\u001b[0m\u001b[0;34m\u001b[0m\u001b[0m\n\u001b[1;32m    176\u001b[0m     \u001b[0;32mreturn\u001b[0m \u001b[0mwrapper\u001b[0m\u001b[0;34m\u001b[0m\u001b[0;34m\u001b[0m\u001b[0m\n",
      "\u001b[0;31mWoodworkNotInitError\u001b[0m: Woodwork not initialized for this DataFrame. Initialize by calling DataFrame.ww.init"
     ]
    },
    {
     "ename": "WoodworkNotInitError",
     "evalue": "Woodwork not initialized for this DataFrame. Initialize by calling DataFrame.ww.init",
     "output_type": "error",
     "traceback": [
      "\u001b[0;31m---------------------------------------------------------------------------\u001b[0m",
      "\u001b[0;31mWoodworkNotInitError\u001b[0m                      Traceback (most recent call last)",
      "\u001b[0;32m~/dev/featuretools/env/lib/python3.8/site-packages/IPython/core/formatters.py\u001b[0m in \u001b[0;36m__call__\u001b[0;34m(self, obj)\u001b[0m\n\u001b[1;32m    343\u001b[0m             \u001b[0mmethod\u001b[0m \u001b[0;34m=\u001b[0m \u001b[0mget_real_method\u001b[0m\u001b[0;34m(\u001b[0m\u001b[0mobj\u001b[0m\u001b[0;34m,\u001b[0m \u001b[0mself\u001b[0m\u001b[0;34m.\u001b[0m\u001b[0mprint_method\u001b[0m\u001b[0;34m)\u001b[0m\u001b[0;34m\u001b[0m\u001b[0;34m\u001b[0m\u001b[0m\n\u001b[1;32m    344\u001b[0m             \u001b[0;32mif\u001b[0m \u001b[0mmethod\u001b[0m \u001b[0;32mis\u001b[0m \u001b[0;32mnot\u001b[0m \u001b[0;32mNone\u001b[0m\u001b[0;34m:\u001b[0m\u001b[0;34m\u001b[0m\u001b[0;34m\u001b[0m\u001b[0m\n\u001b[0;32m--> 345\u001b[0;31m                 \u001b[0;32mreturn\u001b[0m \u001b[0mmethod\u001b[0m\u001b[0;34m(\u001b[0m\u001b[0;34m)\u001b[0m\u001b[0;34m\u001b[0m\u001b[0;34m\u001b[0m\u001b[0m\n\u001b[0m\u001b[1;32m    346\u001b[0m             \u001b[0;32mreturn\u001b[0m \u001b[0;32mNone\u001b[0m\u001b[0;34m\u001b[0m\u001b[0;34m\u001b[0m\u001b[0m\n\u001b[1;32m    347\u001b[0m         \u001b[0;32melse\u001b[0m\u001b[0;34m:\u001b[0m\u001b[0;34m\u001b[0m\u001b[0;34m\u001b[0m\u001b[0m\n",
      "\u001b[0;32m~/dev/featuretools/env/lib/python3.8/site-packages/woodwork/table_accessor.py\u001b[0m in \u001b[0;36m_repr_html_\u001b[0;34m(self)\u001b[0m\n\u001b[1;32m    220\u001b[0m         \"\"\"An HTML representation of a Woodwork table for IPython.display in Jupyter Notebooks\n\u001b[1;32m    221\u001b[0m         containing typing information and a preview of the data.\"\"\"\n\u001b[0;32m--> 222\u001b[0;31m         \u001b[0;32mreturn\u001b[0m \u001b[0mself\u001b[0m\u001b[0;34m.\u001b[0m\u001b[0m_get_typing_info\u001b[0m\u001b[0;34m(\u001b[0m\u001b[0;34m)\u001b[0m\u001b[0;34m.\u001b[0m\u001b[0mto_html\u001b[0m\u001b[0;34m(\u001b[0m\u001b[0;34m)\u001b[0m\u001b[0;34m\u001b[0m\u001b[0;34m\u001b[0m\u001b[0m\n\u001b[0m\u001b[1;32m    223\u001b[0m \u001b[0;34m\u001b[0m\u001b[0m\n\u001b[1;32m    224\u001b[0m     \u001b[0;34m@\u001b[0m\u001b[0m_check_table_schema\u001b[0m\u001b[0;34m\u001b[0m\u001b[0;34m\u001b[0m\u001b[0m\n",
      "\u001b[0;32m~/dev/featuretools/env/lib/python3.8/site-packages/woodwork/accessor_utils.py\u001b[0m in \u001b[0;36mwrapper\u001b[0;34m(self, *args, **kwargs)\u001b[0m\n\u001b[1;32m    172\u001b[0m             msg = (\"Woodwork not initialized for this DataFrame. Initialize by \"\n\u001b[1;32m    173\u001b[0m                    \"calling DataFrame.ww.init\")\n\u001b[0;32m--> 174\u001b[0;31m             \u001b[0;32mraise\u001b[0m \u001b[0mWoodworkNotInitError\u001b[0m\u001b[0;34m(\u001b[0m\u001b[0mmsg\u001b[0m\u001b[0;34m)\u001b[0m\u001b[0;34m\u001b[0m\u001b[0;34m\u001b[0m\u001b[0m\n\u001b[0m\u001b[1;32m    175\u001b[0m         \u001b[0;32mreturn\u001b[0m \u001b[0mmethod\u001b[0m\u001b[0;34m(\u001b[0m\u001b[0mself\u001b[0m\u001b[0;34m,\u001b[0m \u001b[0;34m*\u001b[0m\u001b[0margs\u001b[0m\u001b[0;34m,\u001b[0m \u001b[0;34m**\u001b[0m\u001b[0mkwargs\u001b[0m\u001b[0;34m)\u001b[0m\u001b[0;34m\u001b[0m\u001b[0;34m\u001b[0m\u001b[0m\n\u001b[1;32m    176\u001b[0m     \u001b[0;32mreturn\u001b[0m \u001b[0mwrapper\u001b[0m\u001b[0;34m\u001b[0m\u001b[0;34m\u001b[0m\u001b[0m\n",
      "\u001b[0;31mWoodworkNotInitError\u001b[0m: Woodwork not initialized for this DataFrame. Initialize by calling DataFrame.ww.init"
     ]
    }
   ],
   "source": [
    "feature_matrix.ww"
   ]
  },
  {
   "cell_type": "markdown",
   "id": "68910d73",
   "metadata": {},
   "source": [
    "- Feature matrix will now be returned as a dataframe with Woodwork initialized. Each column will contain a designation indicating whether the feature was engineered or in the original data in the ColumnAccessor.origin attribute.\n",
    "\n",
    "Featuretools now labels features by whether they were originally in the dataframes, or whether they were created by Featuretools. This information is stored in the Woodwork `origin` attribute for the column. Columns that were in the original data will be labeled with `source` and features that were created by Featuretools will be labeled with `engineered`.\n",
    "\n",
    "As a demonstration of how to access this information, let's look at the `item_price` feature which was in the original data as well as the `orders.MEAN(items.item_price)` which was created by Featuretools."
   ]
  },
  {
   "cell_type": "code",
   "execution_count": 27,
   "id": "f3e143fe",
   "metadata": {},
   "outputs": [
    {
     "ename": "WoodworkNotInitError",
     "evalue": "Woodwork not initialized for this DataFrame. Initialize by calling DataFrame.ww.init",
     "output_type": "error",
     "traceback": [
      "\u001b[0;31m---------------------------------------------------------------------------\u001b[0m",
      "\u001b[0;31mWoodworkNotInitError\u001b[0m                      Traceback (most recent call last)",
      "\u001b[0;32m<ipython-input-27-a606329225aa>\u001b[0m in \u001b[0;36m<module>\u001b[0;34m\u001b[0m\n\u001b[0;32m----> 1\u001b[0;31m \u001b[0mfeature_matrix\u001b[0m\u001b[0;34m.\u001b[0m\u001b[0mww\u001b[0m\u001b[0;34m[\u001b[0m\u001b[0;34m'item_price'\u001b[0m\u001b[0;34m]\u001b[0m\u001b[0;34m.\u001b[0m\u001b[0mww\u001b[0m\u001b[0;34m.\u001b[0m\u001b[0morigin\u001b[0m\u001b[0;34m\u001b[0m\u001b[0;34m\u001b[0m\u001b[0m\n\u001b[0m",
      "\u001b[0;32m~/dev/featuretools/env/lib/python3.8/site-packages/woodwork/accessor_utils.py\u001b[0m in \u001b[0;36mwrapper\u001b[0;34m(self, *args, **kwargs)\u001b[0m\n\u001b[1;32m    172\u001b[0m             msg = (\"Woodwork not initialized for this DataFrame. Initialize by \"\n\u001b[1;32m    173\u001b[0m                    \"calling DataFrame.ww.init\")\n\u001b[0;32m--> 174\u001b[0;31m             \u001b[0;32mraise\u001b[0m \u001b[0mWoodworkNotInitError\u001b[0m\u001b[0;34m(\u001b[0m\u001b[0mmsg\u001b[0m\u001b[0;34m)\u001b[0m\u001b[0;34m\u001b[0m\u001b[0;34m\u001b[0m\u001b[0m\n\u001b[0m\u001b[1;32m    175\u001b[0m         \u001b[0;32mreturn\u001b[0m \u001b[0mmethod\u001b[0m\u001b[0;34m(\u001b[0m\u001b[0mself\u001b[0m\u001b[0;34m,\u001b[0m \u001b[0;34m*\u001b[0m\u001b[0margs\u001b[0m\u001b[0;34m,\u001b[0m \u001b[0;34m**\u001b[0m\u001b[0mkwargs\u001b[0m\u001b[0;34m)\u001b[0m\u001b[0;34m\u001b[0m\u001b[0;34m\u001b[0m\u001b[0m\n\u001b[1;32m    176\u001b[0m     \u001b[0;32mreturn\u001b[0m \u001b[0mwrapper\u001b[0m\u001b[0;34m\u001b[0m\u001b[0;34m\u001b[0m\u001b[0m\n",
      "\u001b[0;31mWoodworkNotInitError\u001b[0m: Woodwork not initialized for this DataFrame. Initialize by calling DataFrame.ww.init"
     ]
    }
   ],
   "source": [
    "feature_matrix.ww['item_price'].ww.origin"
   ]
  },
  {
   "cell_type": "code",
   "execution_count": 28,
   "id": "12cf8260",
   "metadata": {},
   "outputs": [
    {
     "ename": "WoodworkNotInitError",
     "evalue": "Woodwork not initialized for this DataFrame. Initialize by calling DataFrame.ww.init",
     "output_type": "error",
     "traceback": [
      "\u001b[0;31m---------------------------------------------------------------------------\u001b[0m",
      "\u001b[0;31mWoodworkNotInitError\u001b[0m                      Traceback (most recent call last)",
      "\u001b[0;32m<ipython-input-28-43ad8f53e9ac>\u001b[0m in \u001b[0;36m<module>\u001b[0;34m\u001b[0m\n\u001b[0;32m----> 1\u001b[0;31m \u001b[0mfeature_matrix\u001b[0m\u001b[0;34m.\u001b[0m\u001b[0mww\u001b[0m\u001b[0;34m[\u001b[0m\u001b[0;34m'orders.MEAN(items.item_price)'\u001b[0m\u001b[0;34m]\u001b[0m\u001b[0;34m.\u001b[0m\u001b[0mww\u001b[0m\u001b[0;34m.\u001b[0m\u001b[0morigin\u001b[0m\u001b[0;34m\u001b[0m\u001b[0;34m\u001b[0m\u001b[0m\n\u001b[0m",
      "\u001b[0;32m~/dev/featuretools/env/lib/python3.8/site-packages/woodwork/accessor_utils.py\u001b[0m in \u001b[0;36mwrapper\u001b[0;34m(self, *args, **kwargs)\u001b[0m\n\u001b[1;32m    172\u001b[0m             msg = (\"Woodwork not initialized for this DataFrame. Initialize by \"\n\u001b[1;32m    173\u001b[0m                    \"calling DataFrame.ww.init\")\n\u001b[0;32m--> 174\u001b[0;31m             \u001b[0;32mraise\u001b[0m \u001b[0mWoodworkNotInitError\u001b[0m\u001b[0;34m(\u001b[0m\u001b[0mmsg\u001b[0m\u001b[0;34m)\u001b[0m\u001b[0;34m\u001b[0m\u001b[0;34m\u001b[0m\u001b[0m\n\u001b[0m\u001b[1;32m    175\u001b[0m         \u001b[0;32mreturn\u001b[0m \u001b[0mmethod\u001b[0m\u001b[0;34m(\u001b[0m\u001b[0mself\u001b[0m\u001b[0;34m,\u001b[0m \u001b[0;34m*\u001b[0m\u001b[0margs\u001b[0m\u001b[0;34m,\u001b[0m \u001b[0;34m**\u001b[0m\u001b[0mkwargs\u001b[0m\u001b[0;34m)\u001b[0m\u001b[0;34m\u001b[0m\u001b[0;34m\u001b[0m\u001b[0m\n\u001b[1;32m    176\u001b[0m     \u001b[0;32mreturn\u001b[0m \u001b[0mwrapper\u001b[0m\u001b[0;34m\u001b[0m\u001b[0;34m\u001b[0m\u001b[0m\n",
      "\u001b[0;31mWoodworkNotInitError\u001b[0m: Woodwork not initialized for this DataFrame. Initialize by calling DataFrame.ww.init"
     ]
    }
   ],
   "source": [
    "feature_matrix.ww['orders.MEAN(items.item_price)'].ww.origin"
   ]
  },
  {
   "cell_type": "markdown",
   "id": "4c429c75",
   "metadata": {},
   "source": [
    "## Other changes\n",
    "\n",
    "In addition to the changes outlined above, there are several other smaller changes in Featuretools 1.0 of which existing users should be aware.\n",
    "\n",
    "Column ordering of an dataframe in an EntitySet might be different than it was before. Previously, Featuretools would reorder the columns such that the index column would always be the first column in the dataframe. This behavior has been removed, and the index column is no longer guaranteed to be the first column in the dataframe. Now the index column will remain the in the position it was when the dataframe was added to the entityset.\n",
    "\n",
    "For `LatLong` columns, older versions of Featuretools would replace single `nan` values in the columns with a tuple `(nan, nan)`. This is no longer the case, and single `nan` values will now remain in the `LatLong` column. Based on the behavior in Woodwork, any values of `(nan, nan)` in a `LatLong` column will be replaced with a single `nan` value.\n",
    "\n",
    "Since Featuretools no longer defines `Variable` objects with relationships between them, the `featuretools.variable_types.graph_variable_types` function has been removed.\n",
    "\n",
    "Similarly, the `featuretools.variable_types.list_variable_types` utility function has been deprecated and replaced with two corresponding Woodwork functions: `woodwork.list_logical_types` and `woodwork.list_semantic_tags`. Starting in Featuretools 1.0, the Woodwork utility functions should be used to obtain information on the logical types and semantic tags that can be applied to dataframe columns."
   ]
  }
 ],
 "metadata": {
  "kernelspec": {
   "display_name": "Python 3",
   "language": "python",
   "name": "python3"
  },
  "language_info": {
   "codemirror_mode": {
    "name": "ipython",
    "version": 3
   },
   "file_extension": ".py",
   "mimetype": "text/x-python",
   "name": "python",
   "nbconvert_exporter": "python",
   "pygments_lexer": "ipython3",
   "version": "3.8.5"
  }
 },
 "nbformat": 4,
 "nbformat_minor": 5
}
