{
 "cells": [
  {
   "cell_type": "markdown",
   "metadata": {},
   "source": [
    "# Chunk Size Guide"
   ]
  },
  {
   "cell_type": "markdown",
   "metadata": {},
   "source": [
    "## Overview\n",
    "When Featuretools calculates a feature matrix, it first groups the rows to be calculated into chunks. Each chunk is a collection of rows that will be computed at the same time. The results of calculating each chunk are combined into the single feature matrix that is returned to the user. The size of these chunks is determined by the `chunk_size` parameter, found in `dfs` and `calculate_feature_matrix`. If you wish to optimize chunk size, picking the right value will depend on the memory you have available and how often you’d like to get progress updates. This guide will go over a few example scenarios for choosing a good `chunk_size` and the factors to consider when doing so.\n",
    "\n",
    "![](../images/chunk_size_graph.png \"Chunk size versus calculation time\")\n",
    "\n",
    "### Peak memory usage\n",
    "If rows have the same cutoff time they are placed in the same chunk until the chunk is full, so they can be calculated simultaneously. By increasing the size of a chunk, it is more likely that there is room for all rows for a given cutoff time to be grouped together. This allows us to minimize the overhead of finding allowable data. The downside is that computation now requires more memory per chunk. If the machine in use can’t handle the larger peak memory usage this can start to slow down the process more than the time saved by removing the overhead.\n",
    "\n",
    "### Frequency of progress updates and overall runtime\n",
    "After the completion of a chunk, there is a progress update along with an estimation of remaining compute time provided to the user. Smaller chunks mean more fine-grained updates to the user. Even more, the average runtime over many smaller chunks is a better estimate of the overall remaining runtime.\n",
    "\n",
    "However, if we make the chunk size too small, we may split up rows that share the same cutoff time into separate chunks. This means Featuretools will have to slice the data for that cutoff time multiple times, resulting in repeated work. Additionally, if chunks get really small (e.g. one row per chunk), then the overhead from other parts of the calculation process will start to contribute more significantly to overall runtime."
   ]
  },
  {
   "cell_type": "markdown",
   "metadata": {},
   "source": [
    "### The `chunk_size` parameter\n",
    "The size of each chunk is determined by the `chunk_size` parameter  in `dfs` or `calculate_feature_matrix`.  Valid inputs are:\n",
    "\n",
    "* `None` or unspecified\n",
    "\n",
    "```\n",
    "# not specified, so default option\n",
    "# uses 10% of rows per chunk\n",
    "# if total rows is less than 100, chunk size is 10\n",
    "fm = ft.calculate_feature_matrix(features)\n",
    "\n",
    "# None is the default option\n",
    "# same as above, 10% of rows per chunk or 10 rows per chunk, whichever is larger\n",
    "fm = ft.calculate_feature_matrix(features, chunk_size=None)\n",
    "```\n",
    "\n",
    "* A positive integer\n",
    "\n",
    "```\n",
    "# 25 rows per chunk\n",
    "fm = ft.calculate_feature_matrix(features, chunk_size=25)\n",
    "```\n",
    "\n",
    "* A float between 0 and 1 (percentage)\n",
    "\n",
    "```\n",
    "# 5% of all rows per chunk\n",
    "fm = ft.calculate_feature_matrix(features, chunk_size=.05)\n",
    "```\n",
    "\n",
    "* The string \"cutoff time\" \n",
    "\n",
    "```\n",
    "# use one chunk per unique cutoff time\n",
    "fm = ft.calculate_feature_matrix(features, chunk_size=\"cutoff time\")\n",
    "```\n",
    "\n",
    "Unlike the other options, \"cutoff time\" does not genereate a specific number of rows per chunk.  Instead of trying to create uniformly sized chunks, Featuretools will calculate every row with the same time together. "
   ]
  },
  {
   "cell_type": "markdown",
   "metadata": {},
   "source": [
    "### Instacart Dataset\n",
    "\n",
    "This example makes use the Instacart dataset seen in the [Predict Next Purchase demo](https://github.com/featuretools/predict_next_purchase). Sets of labels and cutoff times are made at 3 month increments, but due to the nature of the data the first set of cutoff times accounts for nearly half of all rows in the cutoff time dataframe. Both the single chunk and cutoff time chunking scenarios will load all of that data in a single slice.  As we can see by comparing the single chunk or grouping by cutoff time cases with the smaller chunk size cases, keeping the entire cutoff time group together slows down the computation on this computer (4 cores @ 2.50 GHz, 8 GB RAM). Smaller chunk sizes than the default 10% lead to faster run times at first, continuing to reduce the size of each chunk starts to slow down the computation again. "
   ]
  },
  {
   "cell_type": "code",
   "execution_count": 1,
   "metadata": {},
   "outputs": [],
   "source": [
    "import time\n",
    "import datetime\n",
    "\n",
    "import featuretools as ft\n",
    "import matplotlib.ticker as ticker\n",
    "import pandas as pd\n",
    "import seaborn\n",
    "from featuretools.computational_backends import bin_cutoff_times\n",
    "\n",
    "\n",
    "# assign locator and formatter for the xaxis ticks.\n",
    "def timeTicks(x, pos):                                                                                                                                                                                                                                                         \n",
    "    d = datetime.timedelta(seconds=x / 1000000000. )                                                                                                                                                                                                                                          \n",
    "    return str(d)                                                                                                                                                                                                                                                              \n",
    "formatter = ticker.FuncFormatter(timeTicks)"
   ]
  },
  {
   "cell_type": "code",
   "execution_count": 2,
   "metadata": {},
   "outputs": [
    {
     "name": "stdout",
     "output_type": "stream",
     "text": [
      "            user_id  label\n",
      "time                      \n",
      "2015-03-15     7790   7790\n",
      "2015-06-15     4458   4458\n",
      "2015-09-15     2515   2515\n",
      "2015-12-15     1091   1091\n"
     ]
    }
   ],
   "source": [
    "import utils\n",
    "\n",
    "# import entityset\n",
    "instacart_es = utils.load_entityset(\"partitioned_data/part_1/\")\n",
    "\n",
    "# make labels and cutoff times\n",
    "label_times = pd.concat([utils.make_labels(es=instacart_es,\n",
    "                                           product_name = \"Banana\",\n",
    "                                           cutoff_time = pd.Timestamp('March 15, 2015'),\n",
    "                                           prediction_window = ft.Timedelta(\"4 weeks\"),\n",
    "                                           training_window = ft.Timedelta(\"60 days\")),\n",
    "                         utils.make_labels(es=instacart_es,\n",
    "                                           product_name = \"Banana\",\n",
    "                                           cutoff_time = pd.Timestamp('June 15, 2015'),\n",
    "                                           prediction_window = ft.Timedelta(\"4 weeks\"),\n",
    "                                           training_window = ft.Timedelta(\"60 days\")),\n",
    "                         utils.make_labels(es=instacart_es,\n",
    "                                           product_name = \"Banana\",\n",
    "                                           cutoff_time = pd.Timestamp('September 15, 2015'),\n",
    "                                           prediction_window = ft.Timedelta(\"4 weeks\"),\n",
    "                                           training_window = ft.Timedelta(\"60 days\")),\n",
    "                         utils.make_labels(es=instacart_es,\n",
    "                                           product_name = \"Banana\",\n",
    "                                           cutoff_time = pd.Timestamp('December 15, 2015'),\n",
    "                                           prediction_window = ft.Timedelta(\"4 weeks\"),\n",
    "                                           training_window = ft.Timedelta(\"60 days\")),],\n",
    "                       ignore_index=True)\n",
    "\n",
    "print(label_times.groupby('time').count())"
   ]
  },
  {
   "cell_type": "markdown",
   "metadata": {},
   "source": [
    "#### 1 chunk"
   ]
  },
  {
   "cell_type": "code",
   "execution_count": 3,
   "metadata": {},
   "outputs": [
    {
     "name": "stdout",
     "output_type": "stream",
     "text": [
      "Built 76 features\n",
      "Elapsed: 04:20 | Remaining: 00:00 | Progress: 100%|██████████| Calculated: 1/1 chunks\n"
     ]
    }
   ],
   "source": [
    "start = time.time()\n",
    "feature_matrix, features = ft.dfs(target_entity=\"users\", \n",
    "                                  cutoff_time=label_times,\n",
    "                                  training_window=ft.Timedelta(\"60 days\"),\n",
    "                                  entityset=instacart_es,\n",
    "                                  chunk_size=15854,\n",
    "                                  verbose=True)\n",
    "stop = time.time()\n",
    "one_chunk_duration_4 = datetime.timedelta(seconds=stop-start)"
   ]
  },
  {
   "cell_type": "markdown",
   "metadata": {},
   "source": [
    "#### 10% per chunk"
   ]
  },
  {
   "cell_type": "code",
   "execution_count": 4,
   "metadata": {},
   "outputs": [
    {
     "name": "stdout",
     "output_type": "stream",
     "text": [
      "Built 76 features\n",
      "Elapsed: 03:18 | Remaining: 00:00 | Progress: 100%|██████████| Calculated: 11/11 chunks\n"
     ]
    }
   ],
   "source": [
    "start = time.time()\n",
    "feature_matrix, features = ft.dfs(target_entity=\"users\", \n",
    "                                  cutoff_time=label_times,\n",
    "                                  training_window=ft.Timedelta(\"60 days\"),\n",
    "                                  entityset=instacart_es,\n",
    "                                  verbose=True)\n",
    "stop = time.time()\n",
    "default_duration_4 = datetime.timedelta(seconds=stop-start)"
   ]
  },
  {
   "cell_type": "markdown",
   "metadata": {},
   "source": [
    "#### 5% per chunk"
   ]
  },
  {
   "cell_type": "code",
   "execution_count": 5,
   "metadata": {},
   "outputs": [
    {
     "name": "stdout",
     "output_type": "stream",
     "text": [
      "Built 76 features\n",
      "Elapsed: 03:10 | Remaining: 00:00 | Progress: 100%|██████████| Calculated: 21/21 chunks\n"
     ]
    }
   ],
   "source": [
    "start = time.time()\n",
    "feature_matrix, features = ft.dfs(target_entity=\"users\", \n",
    "                                  cutoff_time=label_times,\n",
    "                                  training_window=ft.Timedelta(\"60 days\"),\n",
    "                                  entityset=instacart_es,\n",
    "                                  chunk_size=.05,\n",
    "                                  verbose=True)\n",
    "stop = time.time()\n",
    "five_percent_per_chunk_duration = datetime.timedelta(seconds=stop-start)"
   ]
  },
  {
   "cell_type": "markdown",
   "metadata": {},
   "source": [
    "#### 2.5% per chunk"
   ]
  },
  {
   "cell_type": "code",
   "execution_count": 6,
   "metadata": {},
   "outputs": [
    {
     "name": "stdout",
     "output_type": "stream",
     "text": [
      "Built 76 features\n",
      "Elapsed: 03:09 | Remaining: 00:00 | Progress: 100%|██████████| Calculated: 41/41 chunks\n"
     ]
    }
   ],
   "source": [
    "start = time.time()\n",
    "feature_matrix, features = ft.dfs(target_entity=\"users\", \n",
    "                                  cutoff_time=label_times,\n",
    "                                  training_window=ft.Timedelta(\"60 days\"),\n",
    "                                  entityset=instacart_es,\n",
    "                                  chunk_size=.025,\n",
    "                                  verbose=True)\n",
    "stop = time.time()\n",
    "two_point_five_per_chunk_duration = datetime.timedelta(seconds=stop-start)"
   ]
  },
  {
   "cell_type": "markdown",
   "metadata": {},
   "source": [
    "#### 1% per chunk"
   ]
  },
  {
   "cell_type": "code",
   "execution_count": 7,
   "metadata": {},
   "outputs": [
    {
     "name": "stdout",
     "output_type": "stream",
     "text": [
      "Built 76 features\n",
      "Elapsed: 03:24 | Remaining: 00:00 | Progress: 100%|██████████| Calculated: 101/101 chunks\n"
     ]
    }
   ],
   "source": [
    "start = time.time()\n",
    "feature_matrix, features = ft.dfs(target_entity=\"users\", \n",
    "                                  cutoff_time=label_times,\n",
    "                                  training_window=ft.Timedelta(\"60 days\"),\n",
    "                                  entityset=instacart_es,\n",
    "                                  chunk_size=.01,\n",
    "                                  verbose=True)\n",
    "stop = time.time()\n",
    "one_percent_per_chunk_duration = datetime.timedelta(seconds=stop-start)"
   ]
  },
  {
   "cell_type": "markdown",
   "metadata": {},
   "source": [
    "#### \"cutoff time\" option"
   ]
  },
  {
   "cell_type": "code",
   "execution_count": 8,
   "metadata": {},
   "outputs": [
    {
     "name": "stdout",
     "output_type": "stream",
     "text": [
      "Built 76 features\n",
      "Elapsed: 04:20 | Remaining: 00:00 | Progress: 100%|██████████| Calculated: 4/4 chunks\n"
     ]
    }
   ],
   "source": [
    "start = time.time()\n",
    "feature_matrix, features = ft.dfs(target_entity=\"users\", \n",
    "                                  cutoff_time=label_times,\n",
    "                                  training_window=ft.Timedelta(\"60 days\"),\n",
    "                                  entityset=instacart_es,\n",
    "                                  chunk_size=\"cutoff time\",\n",
    "                                  verbose=True)\n",
    "stop = time.time()\n",
    "cutoff_duration_4 = datetime.timedelta(seconds=stop-start)"
   ]
  },
  {
   "cell_type": "code",
   "execution_count": 9,
   "metadata": {},
   "outputs": [
    {
     "data": {
      "image/png": "[encoded data removed]",
      "text/plain": [
       "<Figure size 432x288 with 1 Axes>"
      ]
     },
     "metadata": {},
     "output_type": "display_data"
    }
   ],
   "source": [
    "results_df_4 = pd.DataFrame({'time': [one_percent_per_chunk_duration,\n",
    "                                      two_point_five_per_chunk_duration,\n",
    "                                      five_percent_per_chunk_duration,\n",
    "                                      default_duration_4,\n",
    "                                      one_chunk_duration_4,\n",
    "                                      cutoff_duration_4],\n",
    "                           'chunk size': ['158', '396', '792', '1585', '15854', 'cutoff time']})\n",
    "ax = seaborn.barplot(x='time', y='chunk size', data=results_df_4)\n",
    "ax.set_title(\"15854 Rows, 4 Unique Cutoff Times\")\n",
    "ax.xaxis.set_major_formatter(formatter)"
   ]
  },
  {
   "cell_type": "markdown",
   "metadata": {},
   "source": [
    "#### Summary \n",
    "\n",
    "In review, featuretools uses a parameter `chunk_size` to divide up the instances when calculating features.  Creating chunks that have the right amount of data can speed up calculations. If you need to speed up calculations, experimenting with different chunk sizes on a subset of the data before calculating on all the data can help find the best size.   "
   ]
  },
  {
   "cell_type": "code",
   "execution_count": null,
   "metadata": {},
   "outputs": [],
   "source": []
  }
 ],
 "metadata": {
  "kernelspec": {
   "display_name": "Python 2",
   "language": "python",
   "name": "python2"
  },
  "language_info": {
   "codemirror_mode": {
    "name": "ipython",
    "version": 2
   },
   "file_extension": ".py",
   "mimetype": "text/x-python",
   "name": "python",
   "nbconvert_exporter": "python",
   "pygments_lexer": "ipython2",
   "version": "2.7.12"
  }
 },
 "nbformat": 4,
 "nbformat_minor": 2
}
