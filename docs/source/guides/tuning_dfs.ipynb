{
 "cells": [
  {
   "cell_type": "markdown",
   "id": "0adf6931",
   "metadata": {},
   "source": [
    "Tuning Deep Feature Synthesis\n",
    "=============================\n",
    "\n",
    "There are several parameters that can be tuned to change the output of DFS."
   ]
  },
  {
   "cell_type": "code",
   "execution_count": null,
   "id": "2f73c15c",
   "metadata": {},
   "outputs": [],
   "source": [
    "import featuretools as ft\n",
    "es = ft.demo.load_mock_customer(return_entityset=True)\n",
    "es"
   ]
  },
  {
   "cell_type": "markdown",
   "id": "356dea8f",
   "metadata": {},
   "source": [
    "Using \"Seed Features\"\n",
    "*********************\n",
    "\n",
    "Seed features are manually defined, problem specific, features a user provides to DFS. Deep Feature Synthesis will then automatically stack new features on top of these features when it can.\n",
    "\n",
    "By using seed features, we can include domain specific knowledge in feature engineering automation."
   ]
  },
  {
   "cell_type": "code",
   "execution_count": null,
   "id": "be133037",
   "metadata": {},
   "outputs": [],
   "source": [
    "expensive_purchase = ft.Feature(es[\"transactions\"][\"amount\"]) > 125\n",
    "\n",
    "feature_matrix, feature_defs = ft.dfs(entityset=es,\n",
    "                                      target_dataframe=\"customers\",\n",
    "                                      agg_primitives=[\"percent_true\"],\n",
    "                                      seed_features=[expensive_purchase])\n",
    "feature_matrix[['PERCENT_TRUE(transactions.amount > 125)']]"
   ]
  },
  {
   "cell_type": "markdown",
   "id": "68e8ab4f",
   "metadata": {},
   "source": [
    "We can now see that ``PERCENT_TRUE`` was automatically applied to this boolean variable.\n",
    "\n",
    "Add \"interesting\" values to variables\n",
    "*************************************\n",
    "\n",
    "Sometimes we want to create features that are conditioned on a second value before we calculate. We call this extra filter a \"where clause\".\n",
    "\n",
    "By default, where clauses are built using the ``interesting_values`` of a variable.\n",
    "\n",
    "\n",
    ".. Interesting values can be automatically added to all variables by calling ``EntitySet.add_interesting_values``. We can manually specify interesting values by directly as well.\n",
    "\n",
    ".. Currently, interesting values are only considered for variables of type :class:`.variable_types.Categorical`, :class:`.variable_types.Ordinal`, and :class:`.variable_types.Boolean`."
   ]
  },
  {
   "cell_type": "code",
   "execution_count": null,
   "id": "9d5c8230",
   "metadata": {},
   "outputs": [],
   "source": [
    "es[\"sessions\"][\"device\"].interesting_values = [\"desktop\", \"mobile\", \"tablet\"]"
   ]
  },
  {
   "cell_type": "markdown",
   "id": "7d11abd3",
   "metadata": {},
   "source": [
    "We then specify the aggregation primitive to make where clauses for using ``where_primitives``"
   ]
  },
  {
   "cell_type": "code",
   "execution_count": null,
   "id": "106b0763",
   "metadata": {},
   "outputs": [],
   "source": [
    "feature_matrix, feature_defs = ft.dfs(entityset=es,\n",
    "                                      target_dataframe=\"customers\",\n",
    "                                      agg_primitives=[\"count\", \"avg_time_between\"],\n",
    "                                      where_primitives=[\"count\", \"avg_time_between\"],\n",
    "                                      trans_primitives=[])\n",
    "feature_matrix"
   ]
  },
  {
   "cell_type": "markdown",
   "id": "044dedec",
   "metadata": {},
   "source": [
    "Now, we have several new potentially useful features. For example, the two features below tell us *how many sessions a customer completed on a tablet*, and *the time between those sessions*."
   ]
  },
  {
   "cell_type": "code",
   "execution_count": null,
   "id": "07b20c7a",
   "metadata": {},
   "outputs": [],
   "source": [
    "feature_matrix[[\"COUNT(sessions WHERE device = tablet)\", \"AVG_TIME_BETWEEN(sessions.session_start WHERE device = tablet)\"]]"
   ]
  },
  {
   "cell_type": "markdown",
   "id": "330034c1",
   "metadata": {},
   "source": [
    "We can see that customer who only had 0 or 1 sessions on a tablet, had ``NaN`` values for average time between such sessions.\n",
    "\n",
    "\n",
    "Encoding categorical features\n",
    "*****************************\n",
    "\n",
    "Machine learning algorithms typically expect all numeric data. When Deep Feature Synthesis generates categorical features, we need to encode them."
   ]
  },
  {
   "cell_type": "code",
   "execution_count": null,
   "id": "15085bd6",
   "metadata": {},
   "outputs": [],
   "source": [
    "feature_matrix, feature_defs = ft.dfs(entityset=es,\n",
    "                                      target_dataframe=\"customers\",\n",
    "                                      agg_primitives=[\"mode\"],\n",
    "                                      max_depth=1)\n",
    "\n",
    "feature_matrix"
   ]
  },
  {
   "cell_type": "markdown",
   "id": "80752d27",
   "metadata": {},
   "source": [
    "This feature matrix contains 2 categorical variables, ``zip_code`` and ``MODE(sessions.device)``. We can use the feature matrix and feature definitions to encode these categorical values. Featuretools offers functionality to apply one hot encoding to the output of DFS."
   ]
  },
  {
   "cell_type": "code",
   "execution_count": null,
   "id": "63e092ff",
   "metadata": {},
   "outputs": [],
   "source": [
    "feature_matrix_enc, features_enc = ft.encode_features(feature_matrix, feature_defs)\n",
    "feature_matrix_enc"
   ]
  },
  {
   "cell_type": "markdown",
   "id": "4ea7117c",
   "metadata": {},
   "source": [
    "The returned feature matrix is now all numeric. Additionally, we get a new set of feature definitions that contain the encoded values."
   ]
  },
  {
   "cell_type": "code",
   "execution_count": null,
   "id": "fa48e7a3",
   "metadata": {},
   "outputs": [],
   "source": [
    "print(features_enc)"
   ]
  },
  {
   "cell_type": "markdown",
   "id": "88e5cd62",
   "metadata": {},
   "source": [
    "These features can be used to calculate the same encoded values on new data. For more information on feature engineering in production, read :doc:`/guides/deployment`."
   ]
  }
 ],
 "metadata": {
  "kernelspec": {
   "display_name": "Python 3",
   "language": "python",
   "name": "python3"
  },
  "language_info": {
   "codemirror_mode": {
    "name": "ipython",
    "version": 3
   },
   "file_extension": ".py",
   "mimetype": "text/x-python",
   "name": "python",
   "nbconvert_exporter": "python",
   "pygments_lexer": "ipython3",
   "version": "3.8.2"
  }
 },
 "nbformat": 4,
 "nbformat_minor": 5
}
