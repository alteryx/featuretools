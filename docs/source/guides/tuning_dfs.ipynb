{
 "cells": [
  {
   "cell_type": "markdown",
   "id": "84493bd7",
   "metadata": {},
   "source": [
    "# Tuning Deep Feature Synthesis\n",
    "\n",
    "There are several parameters that can be tuned to change the output of DFS."
   ]
  },
  {
   "cell_type": "code",
   "execution_count": null,
   "id": "5f5a9d1e",
   "metadata": {},
   "outputs": [],
   "source": [
    "import featuretools as ft\n",
    "es = ft.demo.load_mock_customer(return_entityset=True)\n",
    "es"
   ]
  },
  {
   "cell_type": "markdown",
   "id": "d4d3b456",
   "metadata": {},
   "source": [
    "## Using \"Seed Features\"\n",
    "\n",
    "Seed features are manually defined and problem specific features that a user provides to DFS. Deep Feature Synthesis will then automatically stack new features on top of these features when it can.\n",
    "\n",
    "By using seed features, we can include domain specific knowledge in feature engineering automation."
   ]
  },
  {
   "cell_type": "code",
   "execution_count": null,
   "id": "4ddd2bdb",
   "metadata": {},
   "outputs": [],
   "source": [
    "expensive_purchase = ft.Feature(es, \"transactions\", \"amount\") > 125\n",
    "\n",
    "feature_matrix, feature_defs = ft.dfs(entityset=es,\n",
    "                                      target_dataframe_name=\"customers\",\n",
    "                                      agg_primitives=[\"percent_true\"],\n",
    "                                      seed_features=[expensive_purchase])\n",
    "feature_matrix[['PERCENT_TRUE(transactions.amount > 125)']]"
   ]
  },
  {
   "cell_type": "markdown",
   "id": "39cdb5a4",
   "metadata": {},
   "source": [
    "We can now see that the ``PERCENT_TRUE`` primitive was automatically applied to the boolean `expensive_purchase` Feature from the `transactions` table.\n",
    "\n",
    "## Add \"interesting\" values to variables\n",
    "\n",
    "Sometimes we want to create features that are conditioned on a second value before we calculate. We call this extra filter a \"where clause\".\n",
    "\n",
    "By default, where clauses are built using the ``interesting_values`` of a column.\n",
    "\n",
    "Interesting values can be automatically determined and added for each DataFrame in a pandas EntitySet by calling `EntitySet.add_interesting_values`. \n",
    "\n",
    "Note that Dask and Koalas EntitySets cannot have interesting values determined for  their DataFrames. For those EntitySets, or when interesting values are already known for columns, the `dataframe_name` and `values` parameters can be used to set interesting values for DataFrames in an EntitySet."
   ]
  },
  {
   "cell_type": "code",
   "execution_count": null,
   "id": "338d0326",
   "metadata": {},
   "outputs": [],
   "source": [
    "values_dict = {'device': [\"desktop\", \"mobile\", \"tablet\"]}\n",
    "es.add_interesting_values(dataframe_name='sessions', values=values_dict)"
   ]
  },
  {
   "cell_type": "markdown",
   "id": "4584f933",
   "metadata": {},
   "source": [
    "Interesting values are stored in a DataFrame's Woodwork typing information."
   ]
  },
  {
   "cell_type": "code",
   "execution_count": null,
   "id": "f8acb439",
   "metadata": {},
   "outputs": [],
   "source": [
    "es['sessions'].ww.columns['device'].metadata"
   ]
  },
  {
   "cell_type": "markdown",
   "id": "f7c29e5b",
   "metadata": {},
   "source": [
    "Now that interesting values are set for the `device` column in the `sessions` table, we can specify aggregation primitives that will make where clauses for using ``where_primitives``."
   ]
  },
  {
   "cell_type": "code",
   "execution_count": null,
   "id": "657a4472",
   "metadata": {},
   "outputs": [],
   "source": [
    "feature_matrix, feature_defs = ft.dfs(entityset=es,\n",
    "                                      target_dataframe_name=\"customers\",\n",
    "                                      agg_primitives=[\"count\", \"avg_time_between\"],\n",
    "                                      where_primitives=[\"count\", \"avg_time_between\"],\n",
    "                                      trans_primitives=[])\n",
    "feature_matrix"
   ]
  },
  {
   "cell_type": "markdown",
   "id": "34af3b88",
   "metadata": {},
   "source": [
    "Now, we have several new potentially useful features. Here are two of them that are built off of the where clause \"where the device used was a tablet\":"
   ]
  },
  {
   "cell_type": "code",
   "execution_count": null,
   "id": "3e7623af",
   "metadata": {},
   "outputs": [],
   "source": [
    "feature_matrix[[\"COUNT(sessions WHERE device = tablet)\", \"AVG_TIME_BETWEEN(sessions.session_start WHERE device = tablet)\"]]"
   ]
  },
  {
   "cell_type": "markdown",
   "id": "d45ca9fe",
   "metadata": {},
   "source": [
    "The first Feature, `COUNT(sessions WHERE device = tablet)` has the following description generated for it:\n",
    "For example, the two features below tell us , and ."
   ]
  },
  {
   "cell_type": "code",
   "execution_count": null,
   "id": "6e0777be",
   "metadata": {},
   "outputs": [],
   "source": [
    "ft.describe_feature(feature_defs[8])"
   ]
  },
  {
   "cell_type": "markdown",
   "id": "f7a03b46",
   "metadata": {},
   "source": [
    "Another way of understanding this feature is *how many sessions a customer completed on a tablet*.\n",
    "\n",
    "The second Feature, `AVG_TIME_BETWEEN(sessions.session_start WHERE device = tablet)`, has the following description:"
   ]
  },
  {
   "cell_type": "code",
   "execution_count": null,
   "id": "a727d4b8",
   "metadata": {},
   "outputs": [],
   "source": [
    "ft.describe_feature(feature_defs[5])"
   ]
  },
  {
   "cell_type": "markdown",
   "id": "597e240d",
   "metadata": {},
   "source": [
    "Another way of understanding this is *the time between those sessions*.\n",
    "\n",
    "We can see that customer who only had 0 or 1 sessions on a tablet, had ``NaN`` values for average time between such sessions.\n",
    "\n",
    "\n",
    "## Encoding categorical features\n",
    "\n",
    "Machine learning algorithms typically expect all numeric data. When Deep Feature Synthesis generates categorical features, we need to encode them."
   ]
  },
  {
   "cell_type": "code",
   "execution_count": null,
   "id": "0736fb5d",
   "metadata": {},
   "outputs": [],
   "source": [
    "feature_matrix, feature_defs = ft.dfs(entityset=es,\n",
    "                                      target_dataframe_name=\"customers\",\n",
    "                                      agg_primitives=[\"mode\"],\n",
    "                                      trans_primitives=['time_since'],\n",
    "                                      max_depth=1)\n",
    "\n",
    "feature_matrix"
   ]
  },
  {
   "cell_type": "code",
   "execution_count": null,
   "id": "e415f831",
   "metadata": {},
   "outputs": [],
   "source": [
    "# --> eventually do feature_matrix.select('category')\n",
    "{f._name: f.column_schema for f in feature_defs if 'category' in f.column_schema.semantic_tags}"
   ]
  },
  {
   "cell_type": "markdown",
   "id": "d33156c2",
   "metadata": {},
   "source": [
    "This feature matrix contains 2 columns that are categorical in nature, ``zip_code`` and ``MODE(sessions.device)``. We can use the feature matrix and feature definitions to encode these categorical values. Featuretools offers functionality to apply one hot encoding to the output of DFS."
   ]
  },
  {
   "cell_type": "code",
   "execution_count": null,
   "id": "bb29c225",
   "metadata": {},
   "outputs": [],
   "source": [
    "feature_matrix_enc, features_enc = ft.encode_features(feature_matrix, feature_defs)\n",
    "feature_matrix_enc"
   ]
  },
  {
   "cell_type": "markdown",
   "id": "204eb13a",
   "metadata": {},
   "source": [
    "The returned feature matrix is now all numeric (as boolean values correspond to `0` and `1`). Notice how the columns that did not need encoding are still included. Additionally, we get a new set of feature definitions that contain the encoded values."
   ]
  },
  {
   "cell_type": "code",
   "execution_count": null,
   "id": "e83ef673",
   "metadata": {},
   "outputs": [],
   "source": [
    "features_enc"
   ]
  },
  {
   "cell_type": "markdown",
   "id": "a55c7b48",
   "metadata": {},
   "source": [
    "These features can be used to calculate the same encoded values on new data. For more information on feature engineering in production, read :doc:`/guides/deployment`."
   ]
  }
 ],
 "metadata": {
  "kernelspec": {
   "display_name": "Python 3",
   "language": "python",
   "name": "python3"
  },
  "language_info": {
   "codemirror_mode": {
    "name": "ipython",
    "version": 3
   },
   "file_extension": ".py",
   "mimetype": "text/x-python",
   "name": "python",
   "nbconvert_exporter": "python",
   "pygments_lexer": "ipython3",
   "version": "3.8.2"
  }
 },
 "nbformat": 4,
 "nbformat_minor": 5
}
