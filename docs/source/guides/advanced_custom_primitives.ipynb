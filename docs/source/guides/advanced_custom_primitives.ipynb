{
 "cells": [
  {
   "cell_type": "raw",
   "metadata": {
    "raw_mimetype": "text/restructuredtext"
   },
   "source": [
    "Advanced Custom Primitives Guide\n",
    "--------------------------------"
   ]
  },
  {
   "cell_type": "code",
   "execution_count": null,
   "metadata": {},
   "outputs": [],
   "source": [
    "from featuretools.primitives import TransformPrimitive\n",
    "from featuretools.tests.testing_utils import make_ecommerce_entityset\n",
    "from featuretools.variable_types import NaturalLanguage, Numeric\n",
    "import featuretools as ft\n",
    "import numpy as np\n",
    "import re"
   ]
  },
  {
   "cell_type": "raw",
   "metadata": {
    "raw_mimetype": "text/restructuredtext"
   },
   "source": [
    "Primitives With Additional Arguments\n",
    "====================================\n",
    "\n",
    "Some features require more advanced calculations than others. Advanced features usually entail additional arguments to help output the desired value.  With custom primitives, you can use primitive arguments to help you create advanced features.\n",
    "\n",
    "\n",
    "String Count Example\n",
    "~~~~~~~~~~~~~~~~~~~~\n",
    "\n",
    "Make a primitive to count the number of times a specific string value occurs inside a text. First, derive a new transform primitive class using :class:`TransformPrimitive` as a base. The primitive will take in a text column as the input and return a numeric column as the output, so set the input type as :class:`NaturalLanguage` and the return type as :class:`Numeric`. The specific string value is the additional argument, so define it as a *keyword* argument inside :meth:`__init__`. Then, override :meth:`get_function` to return the implementation as a function."
   ]
  },
  {
   "cell_type": "code",
   "execution_count": null,
   "metadata": {},
   "outputs": [],
   "source": [
    "class StringCount(TransformPrimitive):\n",
    "    '''Count the number of times the string value occurs.'''\n",
    "    name = 'string_count'\n",
    "    input_types = [NaturalLanguage]\n",
    "    return_type = Numeric\n",
    "\n",
    "    def __init__(self, string=None):\n",
    "        self.string = string\n",
    "\n",
    "    def get_function(self):\n",
    "        def string_count(column):\n",
    "            assert self.string is not None, \"string to count needs to be defined\"\n",
    "            # this is a naive implementation used for clarity\n",
    "            counts = [text.lower().count(self.string) for text in column]\n",
    "            return counts\n",
    "\n",
    "        return string_count"
   ]
  },
  {
   "cell_type": "raw",
   "metadata": {
    "raw_mimetype": "text/restructuredtext"
   },
   "source": [
    "Now you have a primitive that is reusable for different string values. For example, you can create features based on the number of times the word \"the\" appears in a text. Create an instance of the primitive where the string value is \"the\" and pass the primitive into DFS to generate the features. The feature name will automatically reflect the string value of the primitive."
   ]
  },
  {
   "cell_type": "code",
   "execution_count": null,
   "metadata": {},
   "outputs": [],
   "source": [
    "es = make_ecommerce_entityset()\n",
    "\n",
    "feature_matrix, features = ft.dfs(\n",
    "    entityset=es,\n",
    "    target_entity=\"sessions\",\n",
    "    agg_primitives=[\"sum\", \"mean\", \"std\"],\n",
    "    trans_primitives=[StringCount(string=\"the\")],\n",
    ")\n",
    "\n",
    "feature_matrix[[\n",
    "    'STD(log.STRING_COUNT(comments, string=the))',\n",
    "    'SUM(log.STRING_COUNT(comments, string=the))',\n",
    "    'MEAN(log.STRING_COUNT(comments, string=the))',\n",
    "]]"
   ]
  },
  {
   "cell_type": "raw",
   "metadata": {
    "raw_mimetype": "text/restructuredtext"
   },
   "source": [
    "Features with Multiple Outputs\n",
    "==============================\n",
    "\n",
    "Some calculations can output multiple features. With custom primitives, you can stack and create new features based on more than one output from a single feature.\n",
    "\n",
    "\n",
    "Case Count Example\n",
    "~~~~~~~~~~~~~~~~~~\n",
    "\n",
    "Make a primitive to count the upper case and lower case letters of a text. First, derive a new transform primitive class using :class:`TransformPrimitive` as a base. The primitive will take in a text column as the input and return two numeric columns as the output, so set the input type as :class:`NaturalLanguage`, the return type as :class:`Numeric`, and :code:`number_output_features` to two. Then, override :meth:`get_function` to return the implementation as a function and :meth:`generate_names` to define custom naming for the multiple outputs."
   ]
  },
  {
   "cell_type": "code",
   "execution_count": null,
   "metadata": {},
   "outputs": [],
   "source": [
    "class CaseCount(TransformPrimitive):\n",
    "    '''Return the count of upper case and lower case letters of a text.'''\n",
    "    name = 'case_count'\n",
    "    input_types = [NaturalLanguage]\n",
    "    return_type = Numeric\n",
    "    number_output_features = 2\n",
    "\n",
    "    def get_function(self):\n",
    "        def case_count(array):\n",
    "            # this is a naive implementation used for clarity\n",
    "            upper = np.array([len(re.findall('[A-Z]', i)) for i in array])\n",
    "            lower = np.array([len(re.findall('[a-z]', i)) for i in array])\n",
    "            return upper, lower\n",
    "\n",
    "        return case_count\n",
    "\n",
    "    def generate_names(self, base_feature_names):\n",
    "        name = self.generate_name(base_feature_names)\n",
    "        return f'{name}[upper]', f'{name}[lower]'"
   ]
  },
  {
   "cell_type": "raw",
   "metadata": {
    "raw_mimetype": "text/restructuredtext"
   },
   "source": [
    "Now you have a primitive that outputs two columns. One column contains the count for the upper case letters. The other column contains the count for the lower case letters. Pass the primitive into DFS to generate features. The feature name will reflect the custom naming you defined."
   ]
  },
  {
   "cell_type": "code",
   "execution_count": null,
   "metadata": {},
   "outputs": [],
   "source": [
    "feature_matrix, features = ft.dfs(\n",
    "    entityset=es,\n",
    "    target_entity=\"sessions\",\n",
    "    agg_primitives=[],\n",
    "    trans_primitives=[CaseCount],\n",
    ")\n",
    "\n",
    "feature_matrix[[\n",
    "    'customers.CASE_COUNT(favorite_quote)[upper]',\n",
    "    'customers.CASE_COUNT(favorite_quote)[lower]',\n",
    "]]"
   ]
  }
 ],
 "metadata": {
  "celltoolbar": "Raw Cell Format",
  "kernelspec": {
   "display_name": "Python 3",
   "language": "python",
   "name": "python3"
  },
  "language_info": {
   "codemirror_mode": {
    "name": "ipython",
    "version": 3
   },
   "file_extension": ".py",
   "mimetype": "text/x-python",
   "name": "python",
   "nbconvert_exporter": "python",
   "pygments_lexer": "ipython3",
   "version": "3.7.5"
  }
 },
 "nbformat": 4,
 "nbformat_minor": 4
}
