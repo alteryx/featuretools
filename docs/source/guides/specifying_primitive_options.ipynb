{
 "cells": [
  {
   "cell_type": "markdown",
   "id": "ba92172a",
   "metadata": {},
   "source": [
    "# Specifying Primitive Options\n",
    "\n",
    "By default, DFS will apply primitives across all dataframes and columns. This behavior can be altered through a few different parameters. Dataframes and columns can be optionally ignored or included for an entire DFS run or on a per-primitive basis, enabling greater control over features and less run time overhead."
   ]
  },
  {
   "cell_type": "code",
   "execution_count": 1,
   "id": "106d36a3",
   "metadata": {},
   "outputs": [
    {
     "name": "stderr",
     "output_type": "stream",
     "text": [
      "WARNING:root:'PYARROW_IGNORE_TIMEZONE' environment variable was not set. It is required to set this environment variable to '1' in both driver and executor sides if you use pyarrow>=2.0.0. Koalas will set it for you but it does not work if there is a Spark context already launched.\n"
     ]
    },
    {
     "name": "stdout",
     "output_type": "stream",
     "text": [
      "2021-08-03 13:06:04,719 featuretools - WARNING    Featuretools failed to load plugin nlp_primitives from library nlp_primitives. For a full stack trace, set logging to debug.\n"
     ]
    },
    {
     "data": {
      "text/plain": [
       "[<Feature: age>,\n",
       " <Feature: région_id>,\n",
       " <Feature: cohort>,\n",
       " <Feature: loves_ice_cream>,\n",
       " <Feature: cancel_reason>,\n",
       " <Feature: engagement_level>,\n",
       " <Feature: MODE(sessions.device_name)>,\n",
       " <Feature: MODE(sessions.device_type)>,\n",
       " <Feature: MODE(log.countrycode)>,\n",
       " <Feature: MODE(log.priority_level)>,\n",
       " <Feature: MODE(log.product_id)>,\n",
       " <Feature: MODE(log.subregioncode)>,\n",
       " <Feature: MODE(log.zipcode)>,\n",
       " <Feature: WEEKDAY(cancel_date)>,\n",
       " <Feature: WEEKDAY(date_of_birth)>,\n",
       " <Feature: WEEKDAY(signup_date)>,\n",
       " <Feature: WEEKDAY(upgrade_date)>,\n",
       " <Feature: cohorts.cohort_name>,\n",
       " <Feature: régions.language>,\n",
       " <Feature: MODE(sessions.MODE(log.countrycode))>,\n",
       " <Feature: MODE(sessions.MODE(log.priority_level))>,\n",
       " <Feature: MODE(sessions.MODE(log.product_id))>,\n",
       " <Feature: MODE(sessions.MODE(log.subregioncode))>,\n",
       " <Feature: MODE(sessions.MODE(log.zipcode))>,\n",
       " <Feature: MODE(log.sessions.device_name)>,\n",
       " <Feature: MODE(log.sessions.device_type)>,\n",
       " <Feature: cohorts.MODE(customers.cancel_reason)>,\n",
       " <Feature: cohorts.MODE(customers.engagement_level)>,\n",
       " <Feature: cohorts.MODE(customers.région_id)>,\n",
       " <Feature: cohorts.MODE(sessions.device_name)>,\n",
       " <Feature: cohorts.MODE(sessions.device_type)>,\n",
       " <Feature: cohorts.MODE(log.countrycode)>,\n",
       " <Feature: cohorts.MODE(log.priority_level)>,\n",
       " <Feature: cohorts.MODE(log.product_id)>,\n",
       " <Feature: cohorts.MODE(log.subregioncode)>,\n",
       " <Feature: cohorts.MODE(log.zipcode)>,\n",
       " <Feature: cohorts.WEEKDAY(cohort_end)>,\n",
       " <Feature: régions.MODE(customers.cancel_reason)>,\n",
       " <Feature: régions.MODE(customers.engagement_level)>,\n",
       " <Feature: régions.MODE(sessions.device_name)>,\n",
       " <Feature: régions.MODE(sessions.device_type)>,\n",
       " <Feature: régions.MODE(log.countrycode)>,\n",
       " <Feature: régions.MODE(log.priority_level)>,\n",
       " <Feature: régions.MODE(log.product_id)>,\n",
       " <Feature: régions.MODE(log.subregioncode)>,\n",
       " <Feature: régions.MODE(log.zipcode)>]"
      ]
     },
     "execution_count": 1,
     "metadata": {},
     "output_type": "execute_result"
    }
   ],
   "source": [
    "import featuretools as ft\n",
    "from featuretools.tests.testing_utils import make_ecommerce_entityset\n",
    "\n",
    "es = make_ecommerce_entityset()\n",
    "\n",
    "feature_matrix, features_list = ft.dfs(entityset=es,\n",
    "                                       target_dataframe_name='customers',\n",
    "                                       agg_primitives=['mode'],\n",
    "                                       trans_primitives=['weekday'])\n",
    "features_list"
   ]
  },
  {
   "cell_type": "markdown",
   "id": "29ae225d",
   "metadata": {},
   "source": [
    "## Specifying Options for an Entire Run\n",
    "\n",
    "The `ignore_dataframes` and `ignore_columns` parameters of DFS control dataframes and columns that should be ignored for all primitives. This is useful for ignoring columns or dataframes that don't relate to the problem or otherwise shouldn't be included in the DFS run."
   ]
  },
  {
   "cell_type": "code",
   "execution_count": 14,
   "id": "2d481527",
   "metadata": {},
   "outputs": [
    {
     "data": {
      "text/plain": [
       "[<Feature: age>,\n",
       " <Feature: région_id>,\n",
       " <Feature: cohort>,\n",
       " <Feature: loves_ice_cream>,\n",
       " <Feature: cancel_reason>,\n",
       " <Feature: engagement_level>,\n",
       " <Feature: MODE(sessions.device_type)>,\n",
       " <Feature: WEEKDAY(cancel_date)>,\n",
       " <Feature: WEEKDAY(signup_date)>,\n",
       " <Feature: WEEKDAY(upgrade_date)>,\n",
       " <Feature: régions.language>,\n",
       " <Feature: régions.MODE(customers.cancel_reason)>,\n",
       " <Feature: régions.MODE(customers.engagement_level)>,\n",
       " <Feature: régions.MODE(sessions.device_type)>]"
      ]
     },
     "execution_count": 14,
     "metadata": {},
     "output_type": "execute_result"
    }
   ],
   "source": [
    "# ignore the 'log' and 'cohorts' dataframes entirely\n",
    "# ignore the 'date_of_birth' column in 'customers' and the 'device_name' column in 'sessions'\n",
    "feature_matrix, features_list = ft.dfs(entityset=es,\n",
    "                                       target_dataframe_name='customers',\n",
    "                                       agg_primitives=['mode'],\n",
    "                                       trans_primitives=['weekday'],\n",
    "                                       ignore_dataframes=['log', 'cohorts'],\n",
    "                                       ignore_columns={\n",
    "                                           'sessions': ['device_name'],\n",
    "                                           'customers': ['date_of_birth']})\n",
    "features_list"
   ]
  },
  {
   "cell_type": "markdown",
   "id": "4a9bd7e2",
   "metadata": {},
   "source": [
    "DFS completely ignores the `log` and `cohorts` dataframes when creating features. It also ignores the columns `device_name` and `date_of_birth` in `sessions` and `customers` respectively. However, both of these options can be overridden by individual primitive options in the `primitive_options` parameter.\n",
    "\n",
    "## Specifying for Individual Primitives\n",
    "Options for individual primitives or groups of primitives are set by the `primitive_options` parameter of DFS. This parameter maps any desired options to specific primitives. In the case of conflicting options, options set at this level will override options set at the entire DFS run level, and the include options will always take priority over their ignore counterparts.\n",
    "\n",
    "Using the string primitive name or the primitive type will apply the options to all primitives of the same name. You can also set options for a specific instance of a primitive by using the primitive instance as a key in the `primitive_options` dictionary. Note, however, that specifying options for a specific instance will result in that instance ignoring any options set for the generic primitive through options with the primitive name or class as the key. \n",
    "\n",
    "### Specifying Dataframes for Individual Primitives\n",
    "Which dataframes to include/ignore can also be specified for a single primitive or a group of primitives. Dataframes can be ignored using the `ignore_dataframes` option in `primitive_options`, while dataframes to explicitly include are set by the ``include_dataframes`` option. When ``include_dataframes`` is given, all dataframes not listed are ignored by the primitive. No columns from any excluded dataframe will be used to generate features with the given primitive."
   ]
  },
  {
   "cell_type": "code",
   "execution_count": 5,
   "id": "8bcbf11a",
   "metadata": {},
   "outputs": [
    {
     "data": {
      "text/plain": [
       "[<Feature: age>,\n",
       " <Feature: région_id>,\n",
       " <Feature: cohort>,\n",
       " <Feature: loves_ice_cream>,\n",
       " <Feature: cancel_reason>,\n",
       " <Feature: engagement_level>,\n",
       " <Feature: MODE(sessions.device_name)>,\n",
       " <Feature: MODE(sessions.device_type)>,\n",
       " <Feature: DAY(cancel_date)>,\n",
       " <Feature: DAY(date_of_birth)>,\n",
       " <Feature: DAY(signup_date)>,\n",
       " <Feature: DAY(upgrade_date)>,\n",
       " <Feature: WEEKDAY(cancel_date)>,\n",
       " <Feature: WEEKDAY(date_of_birth)>,\n",
       " <Feature: WEEKDAY(signup_date)>,\n",
       " <Feature: WEEKDAY(upgrade_date)>,\n",
       " <Feature: cohorts.cohort_name>,\n",
       " <Feature: régions.language>,\n",
       " <Feature: cohorts.MODE(customers.cancel_reason)>,\n",
       " <Feature: cohorts.MODE(customers.engagement_level)>,\n",
       " <Feature: cohorts.MODE(customers.région_id)>,\n",
       " <Feature: cohorts.MODE(sessions.device_name)>,\n",
       " <Feature: cohorts.MODE(sessions.device_type)>,\n",
       " <Feature: régions.MODE(customers.cancel_reason)>,\n",
       " <Feature: régions.MODE(customers.engagement_level)>,\n",
       " <Feature: régions.MODE(sessions.device_name)>,\n",
       " <Feature: régions.MODE(sessions.device_type)>]"
      ]
     },
     "execution_count": 5,
     "metadata": {},
     "output_type": "execute_result"
    }
   ],
   "source": [
    "# ignore the 'cohorts' and 'log' dataframes, but only for the primitive 'mode'\n",
    "# include only the 'customers' dataframe for the primitives 'weekday' and 'day'\n",
    "feature_matrix, features_list = ft.dfs(entityset=es,\n",
    "                                       target_dataframe_name='customers',\n",
    "                                       agg_primitives=['mode'],\n",
    "                                       trans_primitives=['weekday', 'day'],\n",
    "                                       primitive_options={\n",
    "                                           'mode': {'ignore_dataframes': ['cohorts', 'log']},\n",
    "                                           ('weekday', 'day'): {'include_dataframes': ['customers']}\n",
    "                                       })\n",
    "features_list"
   ]
  },
  {
   "cell_type": "markdown",
   "id": "b5cbbff0",
   "metadata": {},
   "source": [
    "In this example, DFS would only use the `customers` dataframe for both `weekday` and `day`, and would use all dataframes except `cohorts` and `log` for `mode`.\n",
    "\n",
    "### Specifying Columns for Individual Primitives\n",
    "\n",
    "Specific columns can also be explicitly included/ignored for a primitive or group of primitives. Columns to\n",
    "ignore is set by the `ignore_columns` option, while columns to include are set by `include_columns`. When the\n",
    "`include_columns` option is set, no other columns from that dataframe will be used to make features with the given primitive."
   ]
  },
  {
   "cell_type": "code",
   "execution_count": 6,
   "id": "f9e42358",
   "metadata": {},
   "outputs": [
    {
     "data": {
      "text/plain": [
       "[<Feature: age>,\n",
       " <Feature: région_id>,\n",
       " <Feature: cohort>,\n",
       " <Feature: loves_ice_cream>,\n",
       " <Feature: cancel_reason>,\n",
       " <Feature: engagement_level>,\n",
       " <Feature: MODE(sessions.device_type)>,\n",
       " <Feature: MODE(log.product_id)>,\n",
       " <Feature: MODE(log.zipcode)>,\n",
       " <Feature: WEEKDAY(date_of_birth)>,\n",
       " <Feature: WEEKDAY(upgrade_date)>,\n",
       " <Feature: cohorts.cohort_name>,\n",
       " <Feature: régions.language>,\n",
       " <Feature: MODE(sessions.MODE(log.product_id))>,\n",
       " <Feature: MODE(sessions.MODE(log.zipcode))>,\n",
       " <Feature: MODE(log.sessions.device_type)>,\n",
       " <Feature: cohorts.MODE(customers.cancel_reason)>,\n",
       " <Feature: cohorts.MODE(sessions.device_type)>,\n",
       " <Feature: cohorts.MODE(log.product_id)>,\n",
       " <Feature: cohorts.MODE(log.zipcode)>,\n",
       " <Feature: cohorts.WEEKDAY(cohort_end)>,\n",
       " <Feature: régions.MODE(customers.cancel_reason)>,\n",
       " <Feature: régions.MODE(sessions.device_type)>,\n",
       " <Feature: régions.MODE(log.product_id)>,\n",
       " <Feature: régions.MODE(log.zipcode)>]"
      ]
     },
     "execution_count": 6,
     "metadata": {},
     "output_type": "execute_result"
    }
   ],
   "source": [
    "# Include the columns 'product_id' and 'zipcode', 'device_type', and 'cancel_reason' for 'mean'\n",
    "# Ignore the columns 'signup_date' and 'cancel_date' for 'weekday'\n",
    "feature_matrix, features_list = ft.dfs(entityset=es,\n",
    "                                       target_dataframe_name='customers',\n",
    "                                       agg_primitives=['mode'],\n",
    "                                       trans_primitives=['weekday'],\n",
    "                                       primitive_options={\n",
    "                                           'mode': {'include_columns': {'log': ['product_id', 'zipcode'],\n",
    "                                                                          'sessions': ['device_type'],\n",
    "                                                                          'customers': ['cancel_reason']}},\n",
    "                                           'weekday': {'ignore_columns': {'customers':\n",
    "                                                                                ['signup_date',\n",
    "                                                                                 'cancel_date']}}})\n",
    "features_list"
   ]
  },
  {
   "cell_type": "markdown",
   "id": "88ea7094",
   "metadata": {},
   "source": [
    "Here, `mode` will only use the columns `product_id` and `zipcode` from the dataframe `log`, `device_type`\n",
    "from the dataframe `sessions`, and `cancel_reason` from `customers`. For any other dataframe, `mode` will use all\n",
    "columns. The `weekday` primitive will use all columns in all dataframes except for `signup_date` and `cancel_date`\n",
    "from the `customers` dataframe.\n",
    "\n",
    "\n",
    "### Specifying GroupBy Options\n",
    "\n",
    "GroupBy Transform Primitives also have the additional options `include_groupby_dataframes`, `ignore_groupby_dataframes`, `include_groupby_columns`, and `ignore_groupby_columns`. These options are used to specify dataframes and columns to include/ignore as groupings for inputs. By default, DFS only groups by foreign key columns. Specifying `include_groupby_columns` overrides this default, and will only group by columns given. On the other hand, `ignore_groupby_columns` will continue to use only the foreign key columns, ignoring any columns specified that are also foreign key columns. Note that if including non-foreign key columns to group by, the included columns must be categorical columns. "
   ]
  },
  {
   "cell_type": "code",
   "execution_count": 9,
   "id": "1c1046b5",
   "metadata": {},
   "outputs": [
    {
     "data": {
      "text/plain": [
       "[<Feature: session_id>,\n",
       " <Feature: product_id>,\n",
       " <Feature: value>,\n",
       " <Feature: value_2>,\n",
       " <Feature: zipcode>,\n",
       " <Feature: countrycode>,\n",
       " <Feature: subregioncode>,\n",
       " <Feature: value_many_nans>,\n",
       " <Feature: priority_level>,\n",
       " <Feature: purchased>,\n",
       " <Feature: CUM_COUNT(countrycode) by priority_level>,\n",
       " <Feature: CUM_COUNT(countrycode) by product_id>,\n",
       " <Feature: CUM_COUNT(priority_level) by priority_level>,\n",
       " <Feature: CUM_COUNT(priority_level) by product_id>,\n",
       " <Feature: CUM_COUNT(product_id) by priority_level>,\n",
       " <Feature: CUM_COUNT(product_id) by product_id>,\n",
       " <Feature: CUM_COUNT(subregioncode) by priority_level>,\n",
       " <Feature: CUM_COUNT(subregioncode) by product_id>,\n",
       " <Feature: CUM_COUNT(zipcode) by priority_level>,\n",
       " <Feature: CUM_COUNT(zipcode) by product_id>,\n",
       " <Feature: CUM_SUM(value) by session_id>,\n",
       " <Feature: CUM_SUM(value_2) by session_id>,\n",
       " <Feature: CUM_SUM(value_many_nans) by session_id>,\n",
       " <Feature: sessions.customer_id>,\n",
       " <Feature: sessions.device_type>,\n",
       " <Feature: sessions.device_name>,\n",
       " <Feature: products.department>,\n",
       " <Feature: products.rating>,\n",
       " <Feature: sessions.customers.age>,\n",
       " <Feature: sessions.customers.région_id>,\n",
       " <Feature: sessions.customers.cohort>,\n",
       " <Feature: sessions.customers.loves_ice_cream>,\n",
       " <Feature: sessions.customers.cancel_reason>,\n",
       " <Feature: sessions.customers.engagement_level>,\n",
       " <Feature: CUM_COUNT(products.department) by priority_level>,\n",
       " <Feature: CUM_COUNT(products.department) by product_id>,\n",
       " <Feature: CUM_COUNT(products.department) by products.department>,\n",
       " <Feature: CUM_COUNT(sessions.device_name) by priority_level>,\n",
       " <Feature: CUM_COUNT(sessions.device_name) by product_id>,\n",
       " <Feature: CUM_COUNT(sessions.device_name) by products.department>,\n",
       " <Feature: CUM_COUNT(sessions.device_type) by priority_level>,\n",
       " <Feature: CUM_COUNT(sessions.device_type) by product_id>,\n",
       " <Feature: CUM_COUNT(sessions.device_type) by products.department>,\n",
       " <Feature: CUM_SUM(products.rating) by session_id>,\n",
       " <Feature: CUM_SUM(products.rating) by sessions.customer_id>]"
      ]
     },
     "execution_count": 9,
     "metadata": {},
     "output_type": "execute_result"
    }
   ],
   "source": [
    "feature_matrix, features_list = ft.dfs(entityset=es,\n",
    "                                       target_dataframe_name='log',\n",
    "                                       agg_primitives=[],\n",
    "                                       trans_primitives=[],\n",
    "                                       groupby_trans_primitives=['cum_sum',\n",
    "                                                                 'cum_count'],\n",
    "                                       primitive_options={\n",
    "                                             'cum_sum': {'ignore_groupby_columns': {'log': ['product_id']}},\n",
    "                                             'cum_count': {'include_groupby_columns': {'log': ['product_id',\n",
    "                                                                                               'priority_level']},\n",
    "                                                           'ignore_groupby_dataframes': ['sessions']}})\n",
    "features_list"
   ]
  },
  {
   "cell_type": "markdown",
   "id": "10616725",
   "metadata": {},
   "source": [
    "We ignore `product_id` as a groupby for `cum_sum` but still use any other foreign key columns in that or any other dataframe. For `cum_count`, we use only `product_id` and `priority_level` as groupbys. Note that `cum_sum` doesn't use\n",
    "`priority_level` because it's not a foreign key column, but we explicitly include it for `cum_count`. Finally, note that specifying groupby options doesn't affect what features the primitive is applied to. For example, `cum_count` ignores the dataframe `sessions` for groupbys, but the feature `<Feature: CUM_COUNT(sessions.device_name) by product_id>` is still made. The groupby is from the target dataframe `log`, so the feature is valid given the associated options. To ignore the `sessions` dataframe for `cum_count`,  the `ignore_dataframes` option for `cum_count` would need to include `sessions`.\n",
    "\n",
    "\n",
    "## Specifying for each Input for Multiple Input Primitives\n",
    "\n",
    "For primitives that take multiple columns as input, such as `Trend`, the above options can be specified for each input by passing them in as a list. If only one option dictionary is given, it is used for all inputs. The length of the list provided must match the number of inputs the primitive takes."
   ]
  },
  {
   "cell_type": "code",
   "execution_count": 7,
   "id": "2e808749",
   "metadata": {},
   "outputs": [
    {
     "data": {
      "text/plain": [
       "[<Feature: age>,\n",
       " <Feature: région_id>,\n",
       " <Feature: cohort>,\n",
       " <Feature: loves_ice_cream>,\n",
       " <Feature: cancel_reason>,\n",
       " <Feature: engagement_level>,\n",
       " <Feature: TREND(log.value, datetime)>,\n",
       " <Feature: TREND(log.value_2, datetime)>,\n",
       " <Feature: cohorts.cohort_name>,\n",
       " <Feature: régions.language>,\n",
       " <Feature: cohorts.TREND(customers.age, signup_date)>,\n",
       " <Feature: cohorts.TREND(log.value, datetime)>,\n",
       " <Feature: cohorts.TREND(log.value_2, datetime)>,\n",
       " <Feature: régions.TREND(customers.age, signup_date)>,\n",
       " <Feature: régions.TREND(log.value, datetime)>,\n",
       " <Feature: régions.TREND(log.value_2, datetime)>]"
      ]
     },
     "execution_count": 7,
     "metadata": {},
     "output_type": "execute_result"
    }
   ],
   "source": [
    "feature_matrix, features_list = ft.dfs(entityset=es,\n",
    "                                       target_dataframe_name='customers',\n",
    "                                       agg_primitives=['trend'],\n",
    "                                       trans_primitives=[],\n",
    "                                       primitive_options={\n",
    "                                             'trend': [{'ignore_columns': {'log': ['value_many_nans']}},\n",
    "                                                       {'include_columns': {'customers': ['signup_date'],\n",
    "                                                                              'log': ['datetime']}}]})\n",
    "features_list"
   ]
  },
  {
   "cell_type": "markdown",
   "id": "53d5d207",
   "metadata": {},
   "source": [
    "Here, we pass in a list of primitive options for trend.  We ignore the column `value_many_nans` for the first input\n",
    "to `trend`, and include the column `signup_date` from `customers` for the second input."
   ]
  }
 ],
 "metadata": {
  "kernelspec": {
   "display_name": "Python 3",
   "language": "python",
   "name": "python3"
  },
  "language_info": {
   "codemirror_mode": {
    "name": "ipython",
    "version": 3
   },
   "file_extension": ".py",
   "mimetype": "text/x-python",
   "name": "python",
   "nbconvert_exporter": "python",
   "pygments_lexer": "ipython3",
   "version": "3.8.5"
  }
 },
 "nbformat": 4,
 "nbformat_minor": 5
}
