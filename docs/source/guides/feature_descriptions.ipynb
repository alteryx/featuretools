{
 "cells": [
  {
   "cell_type": "markdown",
   "id": "0e0d435a",
   "metadata": {},
   "source": [
    "Generating Feature Descriptions\n",
    "================================\n",
    "As features become more complicated, their names can become harder to understand. Both the :func:`featuretools.describe_feature` function and the :func:`featuretools.graph_feature` function can help explain what a feature is and the steps Featuretools took to generate it. Additionally, the ``describe_feature`` function can be augmented by providing custom definitions and templates to improve the resulting descriptions. "
   ]
  },
  {
   "cell_type": "code",
   "execution_count": null,
   "id": "d2a528d9",
   "metadata": {},
   "outputs": [],
   "source": [
    "# --> suppress this \n",
    "import featuretools as ft\n",
    "es = ft.demo.load_mock_customer(return_entityset=True)\n",
    "\n",
    "feature_defs = ft.dfs(entityset=es,\n",
    "                      target_dataframe_name=\"customers\",\n",
    "                      agg_primitives=[\"mean\", \"sum\", \"mode\", \"n_most_common\"],\n",
    "                      trans_primitives=[\"month\", \"hour\"],\n",
    "                      max_depth=2,\n",
    "                      features_only=True)"
   ]
  },
  {
   "cell_type": "markdown",
   "id": "3b503941",
   "metadata": {},
   "source": [
    "By default, ``describe_feature`` uses the existing column and DataFrame names and the default primitive description templates to generate feature descriptions. "
   ]
  },
  {
   "cell_type": "code",
   "execution_count": null,
   "id": "935f7ec9",
   "metadata": {},
   "outputs": [],
   "source": [
    "print(feature_defs[8])\n",
    "ft.describe_feature(feature_defs[8])"
   ]
  },
  {
   "cell_type": "code",
   "execution_count": null,
   "id": "236e0154",
   "metadata": {},
   "outputs": [],
   "source": [
    "print(feature_defs[12])\n",
    "ft.describe_feature(feature_defs[12])"
   ]
  },
  {
   "cell_type": "markdown",
   "id": "c397c1f1",
   "metadata": {},
   "source": [
    "Improving Descriptions\n",
    "~~~~~~~~~~~~~~~~~~~~~~~\n",
    "--> not sure about columnschema usage vs column vs just saying feature\n",
    "While the default descriptions can be helpful, they can also be further improved by providing custom definitions of `ColumnSchema` objects and features, and by providing alternative templates for primitive descriptions. \n",
    "\n",
    "Feature Descriptions\n",
    "---------------------\n",
    "Custom feature definitions will get used in the description in place of the automatically generated description. This can be used to better explain what a `ColumnSchema` or feature is, or to provide descriptions that take advantage of a user's existing knowledge about the data or domain. "
   ]
  },
  {
   "cell_type": "code",
   "execution_count": null,
   "id": "cfc0aa1d",
   "metadata": {},
   "outputs": [],
   "source": [
    "feature_descriptions = {'customers: join_date': 'the date the customer joined'}\n",
    "\n",
    "ft.describe_feature(feature_defs[8], feature_descriptions=feature_descriptions)"
   ]
  },
  {
   "cell_type": "markdown",
   "id": "93f0cc0e",
   "metadata": {},
   "source": [
    "For example, the above replaces the column name, ``\"join_date\"``, with a more descriptive definition of what that column represents in the dataset. `ColumnSchema` descriptions can also be set directly on the `ColumnSchema` through the ``description`` attribute:"
   ]
  },
  {
   "cell_type": "code",
   "execution_count": null,
   "id": "77a47532",
   "metadata": {},
   "outputs": [],
   "source": [
    "es['customers']['join_date'].ww.description = 'the date the customer joined'\n",
    "feature = ft.TransformFeature(ft.IdentityFeature(es, 'customers', 'join_date'), ft.primitives.Hour)\n",
    "feature\n",
    "ft.describe_feature(feature)"
   ]
  },
  {
   "cell_type": "markdown",
   "id": "303eb333",
   "metadata": {},
   "source": [
    "`ColumnSchema` descriptions must be set on the `ColumnSchema` before the feature is created in order for descriptions to propagate. Note that if a description is set directly on a `ColumnSchema` and a description is passed to ``describe_feature`` with ``feature_descriptions``, ``describe_feature`` will use the description found in ``feature_descriptions``. Feature descriptions can also be provided for generated features."
   ]
  },
  {
   "cell_type": "code",
   "execution_count": null,
   "id": "7f5e0343",
   "metadata": {},
   "outputs": [],
   "source": [
    "feature_descriptions = {\n",
    "    'sessions: SUM(transactions.amount)': 'the total transaction amount for a session'}\n",
    "\n",
    "ft.describe_feature(feature_defs[12], feature_descriptions=feature_descriptions)"
   ]
  },
  {
   "cell_type": "markdown",
   "id": "fc518f6a",
   "metadata": {},
   "source": [
    "Here, we create and pass in a custom description of the intermediate feature ``SUM(transactions.amount)``. The description for ``MEAN(sessions.SUM(transactions.amount))``, which is built on top of ``SUM(transactions.amount)``, uses the custom description in place of the automatically generated one. Feature descriptions can be passed in as a dictionary that maps the custom descriptions to either the feature object itself or the unique feature name in the form ``\"[dataframe_name]: [feature_name]\"``, as shown above.\n",
    "\n",
    "Primitive Templates\n",
    "--------------------\n",
    "Primitives descriptions are generated using primitive templates. By default, these are defined using the ``description_template`` attribute on the primitive. Primitives without a template default to using the ``name`` attribute of the primitive if it is defined, or the class name if it is not. Primitive description templates are string templates that take input feature descriptions as the positional arguments. These can be overwritten by mapping primitive instances or primitive names to custom templates and passing them into ``describe_feature`` through the ``primitive_templates`` argument. "
   ]
  },
  {
   "cell_type": "code",
   "execution_count": null,
   "id": "803b1081",
   "metadata": {},
   "outputs": [],
   "source": [
    "primitive_templates = {'sum': 'the total of {}'}\n",
    "\n",
    "feature_defs[6]\n",
    "ft.describe_feature(feature_defs[6], primitive_templates=primitive_templates)"
   ]
  },
  {
   "cell_type": "markdown",
   "id": "b7de9cb2",
   "metadata": {},
   "source": [
    "In this example, we override the default template of ``'the sum of {}'`` with our custom template ``'the total of {}'``. The description uses our custom template instead of the default.\n",
    "\n",
    "Multi-output primitives can use a list of primitive description templates to differentiate between the generic multi-output feature description and the feature slice descriptions. The first primitive template is always the generic overall feature. If only one other template is provided, it is used as the template for all slices. The slice number converted to the \"nth\" form is available through the ``nth_slice`` keyword."
   ]
  },
  {
   "cell_type": "code",
   "execution_count": null,
   "id": "79d6bb3f",
   "metadata": {},
   "outputs": [],
   "source": [
    "feature = feature_defs[5]\n",
    "feature\n",
    "\n",
    "primitive_templates = {\n",
    "    'n_most_common': [\n",
    "        'the 3 most common elements of {}', # generic multi-output feature\n",
    "        'the {nth_slice} most common element of {}']} # template for each slice \n",
    "\n",
    "ft.describe_feature(feature, primitive_templates=primitive_templates)"
   ]
  },
  {
   "cell_type": "markdown",
   "id": "3448b7d3",
   "metadata": {},
   "source": [
    "Notice how the multi-output feature uses the first template for its description. Each slice of this feature will use the second slice template:"
   ]
  },
  {
   "cell_type": "code",
   "execution_count": null,
   "id": "22505efd",
   "metadata": {},
   "outputs": [],
   "source": [
    "ft.describe_feature(feature[0], primitive_templates=primitive_templates)\n",
    "\n",
    "ft.describe_feature(feature[1], primitive_templates=primitive_templates)\n",
    "\n",
    "ft.describe_feature(feature[2], primitive_templates=primitive_templates)"
   ]
  },
  {
   "cell_type": "markdown",
   "id": "38a493cd",
   "metadata": {},
   "source": [
    "Alternatively, instead of supplying a single template for all slices, templates can be provided for each slice to further customize the output. Note that in this case, each slice must get its own template."
   ]
  },
  {
   "cell_type": "code",
   "execution_count": null,
   "id": "624a740a",
   "metadata": {},
   "outputs": [],
   "source": [
    "primitive_templates = {\n",
    "    'n_most_common': [\n",
    "        'the 3 most common elements of {}',\n",
    "        'the most common element of {}',\n",
    "        'the second most common element of {}',\n",
    "        'the third most common element of {}']}\n",
    "\n",
    "ft.describe_feature(feature, primitive_templates=primitive_templates)\n",
    "\n",
    "ft.describe_feature(feature[0], primitive_templates=primitive_templates)\n",
    "\n",
    "ft.describe_feature(feature[1], primitive_templates=primitive_templates)\n",
    "\n",
    "ft.describe_feature(feature[2], primitive_templates=primitive_templates)"
   ]
  },
  {
   "cell_type": "markdown",
   "id": "413860f7",
   "metadata": {},
   "source": [
    "Custom feature descriptions and primitive templates can also be seperately defined in a JSON file and passed to the ``describe_feature`` function using the ``metadata_file`` keyword argument. Descriptions passed in directly through the ``feature_descriptions`` and ``primitive_templates`` keyword arguments will take precedence over any descriptions provided in the JSON metadata file."
   ]
  }
 ],
 "metadata": {
  "kernelspec": {
   "display_name": "Python 3",
   "language": "python",
   "name": "python3"
  },
  "language_info": {
   "codemirror_mode": {
    "name": "ipython",
    "version": 3
   },
   "file_extension": ".py",
   "mimetype": "text/x-python",
   "name": "python",
   "nbconvert_exporter": "python",
   "pygments_lexer": "ipython3",
   "version": "3.8.2"
  }
 },
 "nbformat": 4,
 "nbformat_minor": 5
}
