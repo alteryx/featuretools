{
 "cells": [
  {
   "cell_type": "code",
   "execution_count": 61,
   "id": "e9fe472e",
   "metadata": {},
   "outputs": [],
   "source": [
    "import pandas as pd\n",
    "import featuretools as ft\n",
    "from nlp_primitives import LSA"
   ]
  },
  {
   "cell_type": "code",
   "execution_count": 62,
   "id": "e76332f7",
   "metadata": {},
   "outputs": [],
   "source": [
    "input_df = pd.DataFrame(\n",
    "    {\"text\": [\n",
    "        \"The dogs ate food.\",\n",
    "        \"She ate a pineapple\",\n",
    "        \"Consume Electrolytes, he told me.\",\n",
    "        \"Hello\",\n",
    "    ]}\n",
    ")"
   ]
  },
  {
   "cell_type": "code",
   "execution_count": 63,
   "id": "a255969e",
   "metadata": {},
   "outputs": [],
   "source": [
    "lsa = LSA()"
   ]
  },
  {
   "cell_type": "code",
   "execution_count": 64,
   "id": "844cd0d7",
   "metadata": {},
   "outputs": [],
   "source": [
    "ft_results = lsa(input_df[\"text\"])"
   ]
  },
  {
   "cell_type": "code",
   "execution_count": 65,
   "id": "892906ff",
   "metadata": {},
   "outputs": [
    {
     "data": {
      "text/plain": [
       "[0.05716463797463586,\n",
       " 0.026790826498206462,\n",
       " 0.00726365883933014,\n",
       " -1.8513936181430952e-19]"
      ]
     },
     "execution_count": 65,
     "metadata": {},
     "output_type": "execute_result"
    }
   ],
   "source": [
    "ft_results[0]"
   ]
  },
  {
   "cell_type": "code",
   "execution_count": 66,
   "id": "5b1bfb16",
   "metadata": {},
   "outputs": [
    {
     "data": {
      "text/plain": [
       "[-0.04829517833687895,\n",
       " 0.043821318514258904,\n",
       " 0.005369132220348683,\n",
       " -1.19937808091834e-15]"
      ]
     },
     "execution_count": 66,
     "metadata": {},
     "output_type": "execute_result"
    }
   ],
   "source": [
    "ft_results[1]"
   ]
  },
  {
   "cell_type": "code",
   "execution_count": 67,
   "id": "d9cdb721",
   "metadata": {},
   "outputs": [],
   "source": [
    "from evalml.pipelines.components.transformers.preprocessing import LSA as evalmlLSA\n",
    "\n",
    "evalml_lsa = evalmlLSA()\n",
    "evalml_lsa.fit(input_df)\n",
    "eval_ml_results = evalml_lsa.transform(input_df)"
   ]
  },
  {
   "cell_type": "code",
   "execution_count": 68,
   "id": "490b9684",
   "metadata": {},
   "outputs": [],
   "source": []
  },
  {
   "cell_type": "code",
   "execution_count": 69,
   "id": "6b2b5689",
   "metadata": {},
   "outputs": [
    {
     "data": {
      "text/plain": [
       "LSA()"
      ]
     },
     "execution_count": 69,
     "metadata": {},
     "output_type": "execute_result"
    }
   ],
   "source": []
  },
  {
   "cell_type": "code",
   "execution_count": 70,
   "id": "bc5191d6",
   "metadata": {},
   "outputs": [],
   "source": []
  },
  {
   "cell_type": "code",
   "execution_count": 71,
   "id": "725afb43",
   "metadata": {},
   "outputs": [
    {
     "data": {
      "text/html": [
       "<div>\n",
       "<style scoped>\n",
       "    .dataframe tbody tr th:only-of-type {\n",
       "        vertical-align: middle;\n",
       "    }\n",
       "\n",
       "    .dataframe tbody tr th {\n",
       "        vertical-align: top;\n",
       "    }\n",
       "\n",
       "    .dataframe thead th {\n",
       "        text-align: right;\n",
       "    }\n",
       "</style>\n",
       "<table border=\"1\" class=\"dataframe\">\n",
       "  <thead>\n",
       "    <tr style=\"text-align: right;\">\n",
       "      <th></th>\n",
       "      <th>LSA(text)[0]</th>\n",
       "      <th>LSA(text)[1]</th>\n",
       "    </tr>\n",
       "  </thead>\n",
       "  <tbody>\n",
       "    <tr>\n",
       "      <th>0</th>\n",
       "      <td>7.751553e-01</td>\n",
       "      <td>-6.022405e-18</td>\n",
       "    </tr>\n",
       "    <tr>\n",
       "      <th>1</th>\n",
       "      <td>7.751553e-01</td>\n",
       "      <td>1.319888e-16</td>\n",
       "    </tr>\n",
       "    <tr>\n",
       "      <th>2</th>\n",
       "      <td>5.746088e-17</td>\n",
       "      <td>1.000000e+00</td>\n",
       "    </tr>\n",
       "    <tr>\n",
       "      <th>3</th>\n",
       "      <td>7.067462e-16</td>\n",
       "      <td>-6.053319e-17</td>\n",
       "    </tr>\n",
       "  </tbody>\n",
       "</table>\n",
       "</div>"
      ],
      "text/plain": [
       "   LSA(text)[0]  LSA(text)[1]\n",
       "0  7.751553e-01 -6.022405e-18\n",
       "1  7.751553e-01  1.319888e-16\n",
       "2  5.746088e-17  1.000000e+00\n",
       "3  7.067462e-16 -6.053319e-17"
      ]
     },
     "execution_count": 71,
     "metadata": {},
     "output_type": "execute_result"
    }
   ],
   "source": [
    "eval_ml_results"
   ]
  },
  {
   "cell_type": "code",
   "execution_count": 51,
   "id": "66b75aaa",
   "metadata": {},
   "outputs": [
    {
     "data": {
      "text/plain": [
       "['text']"
      ]
     },
     "execution_count": 51,
     "metadata": {},
     "output_type": "execute_result"
    }
   ],
   "source": [
    "evalml_lsa._text_columns"
   ]
  },
  {
   "cell_type": "code",
   "execution_count": 54,
   "id": "6d6414ea",
   "metadata": {},
   "outputs": [
    {
     "data": {
      "text/plain": [
       "array(['The dogs ate food.', 'She ate a pineapple',\n",
       "       'Consume Electrolytes, he told me.', 'Hello'], dtype=object)"
      ]
     },
     "execution_count": 54,
     "metadata": {},
     "output_type": "execute_result"
    }
   ],
   "source": [
    "input_df[\"text\"].values.flatten()"
   ]
  },
  {
   "cell_type": "code",
   "execution_count": 55,
   "id": "369dcbd6",
   "metadata": {},
   "outputs": [],
   "source": [
    "import nltk"
   ]
  },
  {
   "cell_type": "code",
   "execution_count": 56,
   "id": "6c431edd",
   "metadata": {},
   "outputs": [],
   "source": [
    "gutenberg = nltk.corpus.gutenberg.sents()"
   ]
  },
  {
   "cell_type": "code",
   "execution_count": 60,
   "id": "f3e212f8",
   "metadata": {},
   "outputs": [
    {
     "data": {
      "text/plain": [
       "98503"
      ]
     },
     "execution_count": 60,
     "metadata": {},
     "output_type": "execute_result"
    }
   ],
   "source": [
    "len(gutenberg)"
   ]
  },
  {
   "cell_type": "code",
   "execution_count": 59,
   "id": "2fd81264",
   "metadata": {},
   "outputs": [
    {
     "data": {
      "text/plain": [
       "['Emma',\n",
       " 'Woodhouse',\n",
       " ',',\n",
       " 'handsome',\n",
       " ',',\n",
       " 'clever',\n",
       " ',',\n",
       " 'and',\n",
       " 'rich',\n",
       " ',',\n",
       " 'with',\n",
       " 'a',\n",
       " 'comfortable',\n",
       " 'home',\n",
       " 'and',\n",
       " 'happy',\n",
       " 'disposition',\n",
       " ',',\n",
       " 'seemed',\n",
       " 'to',\n",
       " 'unite',\n",
       " 'some',\n",
       " 'of',\n",
       " 'the',\n",
       " 'best',\n",
       " 'blessings',\n",
       " 'of',\n",
       " 'existence',\n",
       " ';',\n",
       " 'and',\n",
       " 'had',\n",
       " 'lived',\n",
       " 'nearly',\n",
       " 'twenty',\n",
       " '-',\n",
       " 'one',\n",
       " 'years',\n",
       " 'in',\n",
       " 'the',\n",
       " 'world',\n",
       " 'with',\n",
       " 'very',\n",
       " 'little',\n",
       " 'to',\n",
       " 'distress',\n",
       " 'or',\n",
       " 'vex',\n",
       " 'her',\n",
       " '.']"
      ]
     },
     "execution_count": 59,
     "metadata": {},
     "output_type": "execute_result"
    }
   ],
   "source": []
  },
  {
   "cell_type": "code",
   "execution_count": null,
   "id": "6484aa71",
   "metadata": {},
   "outputs": [],
   "source": []
  }
 ],
 "metadata": {
  "kernelspec": {
   "display_name": "Python 3 (ipykernel)",
   "language": "python",
   "name": "python3"
  },
  "language_info": {
   "codemirror_mode": {
    "name": "ipython",
    "version": 3
   },
   "file_extension": ".py",
   "mimetype": "text/x-python",
   "name": "python",
   "nbconvert_exporter": "python",
   "pygments_lexer": "ipython3",
   "version": "3.8.13"
  }
 },
 "nbformat": 4,
 "nbformat_minor": 5
}
